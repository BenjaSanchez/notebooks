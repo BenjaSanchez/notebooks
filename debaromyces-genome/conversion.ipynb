{
 "cells": [
  {
   "cell_type": "code",
   "execution_count": 1,
   "metadata": {},
   "outputs": [],
   "source": [
    "old_file_name = 'genome_annotation.gtf'\n",
    "temp_file_name = 'genome_annotation_temp.gtf'\n",
    "with open(old_file_name) as old_file:\n",
    "    with open(temp_file_name, 'w', newline='') as temp_file:\n",
    "        lines = []\n",
    "        for line in old_file:\n",
    "            if \"gene_id\" not in line:\n",
    "                line = line.replace(\"transcript_id\", \"gene_id\")\n",
    "            lines.append(line)\n",
    "        temp_file.writelines(lines) \n",
    "\n",
    "# Replace file:\n",
    "import os\n",
    "os.remove(old_file_name)\n",
    "os.rename(temp_file_name, old_file_name)"
   ]
  },
  {
   "cell_type": "code",
   "execution_count": 1,
   "metadata": {},
   "outputs": [],
   "source": [
    "# generate gene length file\n",
    "import csv\n",
    "from copy import copy\n",
    "genome_file_name = 'genome_annotation.gtf'\n",
    "length_file_name = 'gene_length.tabular'\n",
    "\n",
    "# create list of gene names:\n",
    "with open(genome_file_name) as genome_file:\n",
    "    gene_names = []\n",
    "    for line in csv.reader(genome_file, delimiter='\\t'):\n",
    "        if line[2] == \"exon\" and \"gene_name\" in line[8]:\n",
    "            gene_name = line[8].split(\";\")[2]\n",
    "            gene_name = gene_name.replace('gene_name ','')\n",
    "            gene_name = gene_name.replace('\"','')\n",
    "            if gene_name not in gene_names:\n",
    "                gene_names.append(gene_name)\n",
    "\n",
    "# compute length for each gene:\n",
    "with open(length_file_name, 'w', newline='') as length_file:\n",
    "    length_writer = csv.writer(length_file, delimiter='\\t')\n",
    "    for gene_name in gene_names:\n",
    "        gene_length = 0\n",
    "        with open(genome_file_name) as genome_file:\n",
    "            for line in csv.reader(genome_file, delimiter='\\t'):\n",
    "                if line[2] == \"exon\" and f'gene_name \"{gene_name}\"' in line[8]:\n",
    "                    # add length of exon\n",
    "                    gene_length += int(line[4])-int(line[3])\n",
    "            # write new gene:\n",
    "            length_writer.writerow([gene_name,gene_length])"
   ]
  },
  {
   "cell_type": "code",
   "execution_count": 1,
   "metadata": {},
   "outputs": [],
   "source": [
    "# generate gene - GO term:\n",
    "import csv\n",
    "old_file_name = 'ontologies.tabular'\n",
    "temp_file_name = 'ontologies_temp.tabular'\n",
    "with open(old_file_name) as old_file:\n",
    "    with open(temp_file_name, 'w', newline='') as temp_file:\n",
    "        old_reader = csv.reader(old_file, delimiter='\\t')\n",
    "        temp_writer = csv.writer(temp_file, delimiter='\\t')\n",
    "        for line in old_reader:\n",
    "            if \"|\" in line[2]:\n",
    "                GO_list = line[2].split(\"|\")\n",
    "                for GO in GO_list:\n",
    "                    temp_writer.writerow([line[1], GO])\n",
    "            else:\n",
    "                temp_writer.writerow([line[1], line[2]])\n",
    "                \n",
    "# Replace file:\n",
    "import os\n",
    "os.remove(old_file_name)\n",
    "os.rename(temp_file_name, old_file_name)"
   ]
  },
  {
   "cell_type": "code",
   "execution_count": null,
   "metadata": {},
   "outputs": [],
   "source": []
  }
 ],
 "metadata": {
  "kernelspec": {
   "display_name": "Python 3",
   "language": "python",
   "name": "python3"
  },
  "language_info": {
   "codemirror_mode": {
    "name": "ipython",
    "version": 3
   },
   "file_extension": ".py",
   "mimetype": "text/x-python",
   "name": "python",
   "nbconvert_exporter": "python",
   "pygments_lexer": "ipython3",
   "version": "3.7.6"
  }
 },
 "nbformat": 4,
 "nbformat_minor": 4
}
