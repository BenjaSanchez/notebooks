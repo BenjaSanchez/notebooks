{
 "cells": [
  {
   "cell_type": "code",
   "execution_count": 1,
   "metadata": {},
   "outputs": [],
   "source": [
    "old_file_name = 'genome_annotation.gtf'\n",
    "temp_file_name = 'genome_annotation_temp.gtf'\n",
    "with open(old_file_name) as old_file:\n",
    "    with open(temp_file_name, 'w', newline='') as temp_file:\n",
    "        lines = []\n",
    "        for line in old_file:\n",
    "            if \"gene_id\" not in line:\n",
    "                line = line.replace(\"transcript_id\", \"gene_id\")\n",
    "            lines.append(line)\n",
    "        temp_file.writelines(lines) \n",
    "\n",
    "# Replace file:\n",
    "import os\n",
    "os.remove(old_file_name)\n",
    "os.rename(temp_file_name, old_file_name)"
   ]
  },
  {
   "cell_type": "code",
   "execution_count": 2,
   "metadata": {},
   "outputs": [],
   "source": [
    "# generate gene length file\n",
    "import csv\n",
    "genome_file_name = 'genome_annotation.gtf'\n",
    "length_file_name = 'gene_length.tabular'\n",
    "with open(genome_file_name) as genome_file:\n",
    "    with open(length_file_name, 'w', newline='') as length_file:\n",
    "        genome_reader = csv.reader(genome_file, delimiter='\\t')\n",
    "        length_writer = csv.writer(length_file, delimiter='\\t')\n",
    "        for line in genome_reader:\n",
    "            if \"gene_name\" in line[8]:\n",
    "                gene_name = line[8].split(\";\")[2]\n",
    "                gene_name = gene_name.replace('gene_name ','')\n",
    "                gene_name = gene_name.replace('\"','')\n",
    "                length_writer.writerow([gene_name,int(line[4])-int(line[3])])"
   ]
  },
  {
  {
   "cell_type": "code",
   "execution_count": null,
   "metadata": {},
   "outputs": [],
   "source": []
  }
 ],
 "metadata": {
  "kernelspec": {
   "display_name": "Python 3",
   "language": "python",
   "name": "python3"
  },
  "language_info": {
   "codemirror_mode": {
    "name": "ipython",
    "version": 3
   },
   "file_extension": ".py",
   "mimetype": "text/x-python",
   "name": "python",
   "nbconvert_exporter": "python",
   "pygments_lexer": "ipython3",
   "version": "3.7.6"
  }
 },
 "nbformat": 4,
 "nbformat_minor": 4
}
