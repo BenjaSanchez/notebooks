{
 "cells": [
  {
   "cell_type": "markdown",
   "metadata": {},
   "source": [
    "# ecModeling for biotin production\n",
    "\n",
    "This notebook contains an analysis of the ecModel of _E. coli_ for biotin production.\n",
    "\n",
    "Benjamín J. Sánchez, 2019-10-29\n",
    "\n",
    "## 1. Loading & pre-processing models\n",
    "\n",
    "We will use:\n",
    "\n",
    "* The batch version of `eciML1515`, i.e. without proteomics and letting the model choose the required enzyme amounts (from a shared pool).\n",
    "* The original `iML1515` (as reference).\n",
    "\n",
    "The models are available at:\n",
    "\n",
    "* iML1515: http://bigg.ucsd.edu/models/iML1515\n",
    "* eciML1515_batch: https://github.com/SysBioChalmers/ecModels/blob/chore/updateiML1515/eciML1515/model\n",
    "\n",
    "(temporal, eventually the ecModel will be available in the master branch)"
   ]
  },
  {
   "cell_type": "code",
   "execution_count": 1,
   "metadata": {
    "pycharm": {
     "is_executing": false
    },
    "scrolled": true
   },
   "outputs": [
    {
     "name": "stderr",
     "text": [
      "C:\\Users\\bejsab\\AppData\\Local\\Continuum\\anaconda3\\envs\\notebooks\\lib\\site-packages\\cameo\\visualization\\plotting\\__init__.py:52 UserWarning: Cannot import any plotting library. Please install one of 'plotly', 'bokeh' or 'ggplot' if you want to use any plotting function.\n",
      "  % Total    % Received % Xferd  Average Speed   Time    Time     Time  Current\n                                 Dload  Upload   Total   Spent    Left  Speed\n\n  0     0    0     0    0     0      0      0 --:--:-- --:--:-- --:--:--     0\n  0     0    0     0    0     0      0      0 --:--:-- --:--:-- --:--:--     0\n  0     0    0     0    0     0      0      0 --:--:--  0:00:01 --:--:--     0\n 14 8078k   14 1135k    0     0   567k      0  0:00:14  0:00:02  0:00:12  558k\n 62 8078k   62 5087k    0     0  1695k      0  0:00:04  0:00:03  0:00:01 1669k\n100 8078k  100 8078k    0     0  2692k      0  0:00:03  0:00:03 --:--:-- 2267k\n"
     ],
     "output_type": "stream"
    }
   ],
   "source": [
    "# Metabolic model:\n",
    "import cameo\n",
    "met_model = cameo.load_model(\"iML1515\")\n",
    "\n",
    "# ecModel:\n",
    "import cobra\n",
    "! [ ! -f \"eciML1515_batch.xml\" ] && curl -O -L \"https://raw.githubusercontent.com/SysBioChalmers/ecModels/chore/updateiML1515/eciML1515/model/eciML1515_batch.xml\"\n",
    "ec_model = cobra.io.read_sbml_model(\"eciML1515_batch.xml\")"
   ]
  },
  {
   "cell_type": "markdown",
   "metadata": {},
   "source": [
    "Model modifications for biotin production:"
   ]
  },
  {
   "cell_type": "code",
   "execution_count": 2,
   "metadata": {
    "pycharm": {
     "is_executing": false
    }
   },
   "outputs": [],
   "source": [
    "import math\n",
    "\n",
    "# Replacing any infinite bound by 1000 in the ecModel:\n",
    "for reaction in ec_model.reactions:\n",
    "    if math.isinf(reaction.upper_bound):\n",
    "        reaction.upper_bound = 1000\n",
    "\n",
    "# Remove repetition in ecModel met ids:\n",
    "for metabolite in ec_model.metabolites:\n",
    "    metabolite.id = metabolite.id.split(\"[\")[0]\n",
    "\n",
    "# Close biotin uptake:\n",
    "met_model.reactions.EX_btn_e.lower_bound = 0\n",
    "ec_model.reactions.EX_btn_e_REV.upper_bound = 0\n",
    "\n",
    "#Open biotin transport between periplasm and cytoplasm\n",
    "met_model.reactions.BTNt2ipp.lower_bound = -1000\n",
    "ec_model.reactions.BTNt2ipp.lower_bound = -1000\n",
    "# TODO: insert \"_REV\" reaction instead for ecModel (for consistency with rest of the model)"
   ]
  },
  {
   "cell_type": "markdown",
   "metadata": {},
   "source": [
    "## 2. Simulating the model\n",
    "\n",
    "For the ecModel we will use normal FBA followed by pFBA minimizing glucose:"
   ]
  },
  {
   "cell_type": "code",
   "execution_count": 3,
   "metadata": {
    "pycharm": {
     "is_executing": false,
     "name": "#%%\n"
    }
   },
   "outputs": [],
   "source": [
    "def simulate_ec_model(model, rxn_id):\n",
    "    # First optimization: maximize input\n",
    "    model.objective = rxn_id\n",
    "    solution = model.optimize()\n",
    "    \n",
    "    # Second optimization: minimize glucose\n",
    "    model.reactions.get_by_id(rxn_id).lower_bound = solution.fluxes[rxn_id]\n",
    "    glc_rxn = model.reactions.get_by_id(\"EX_glc__D_e_REV\")\n",
    "    model.objective = {glc_rxn: -1}\n",
    "    solution = cobra.flux_analysis.pfba(model)\n",
    "    \n",
    "    return solution\n",
    "\n",
    "def print_fluxes(model, solution, bio_rxn_id):\n",
    "    # Show growth:\n",
    "    print(\"growth: \" + str(solution.fluxes[bio_rxn_id]))\n",
    "    \n",
    "    # Show exchange reactions:\n",
    "    for rxn in model.reactions:\n",
    "        if len(rxn.metabolites) == 1 and solution.fluxes[rxn.id] != 0:\n",
    "            print(rxn.id + \": \" + str(solution.fluxes[rxn.id]))\n",
    "            "
   ]
  },
  {
   "cell_type": "markdown",
   "metadata": {},
   "source": [
    "### 2.1 Wild type conditions:\n",
    "\n",
    "100% of the carbon going towards biomass."
   ]
  },
  {
   "cell_type": "code",
   "execution_count": 4,
   "metadata": {
    "pycharm": {
     "is_executing": false
    }
   },
   "outputs": [
    {
     "data": {
      "text/plain": "1.0*BIOMASS_Ec_iML1515_core_75p37M",
      "text/latex": "$\\displaystyle 1.0 BIOMASS_{Ec iML1515 core 75p37M}$"
     },
     "metadata": {},
     "output_type": "execute_result",
     "execution_count": 4
    }
   ],
   "source": [
    "ec_model.objective.expression.args[0]"
   ]
  },
  {
   "cell_type": "code",
   "execution_count": 5,
   "metadata": {
    "pycharm": {
     "is_executing": false
    }
   },
   "outputs": [
    {
     "name": "stdout",
     "text": [
      "growth: 0.8769972144269648\nEX_pi_e: -0.8459567750195919\nEX_co2_e: 24.00329327297595\nEX_h_e: 8.058200328043592\nEX_mn2_e: -0.0006060050751690326\nEX_fe2_e: -0.014085452260911482\nEX_glc__D_e: -10.0\nEX_zn2_e: -0.00029905605011959496\nDM_amob_c: 1.7539944288539295e-06\nEX_mg2_e: -0.00760795083515392\nEX_ca2_e: -0.004564770501092352\nEX_ni2_e: -0.0002832701002599096\nEX_meoh_e: 1.7539944288539295e-06\nEX_cu2_e: -0.000621791025028718\nEX_cobalt2_e: -2.192493036067412e-05\nEX_h2o_e: 47.16236480869456\nEX_mobd_e: -6.138980500988753e-06\nEX_so4_e: -0.22084543853699787\nEX_nh4_e: -9.471495371048116\nEX_k_e: -0.17118371727564255\nEX_cl_e: -0.004564770501092352\nDM_5drib_c: 0.00019732437324606708\nEX_o2_e: -22.13176323894597\nDM_4crsol_c: 0.00019557037881721314\n"
     ],
     "output_type": "stream"
    }
   ],
   "source": [
    "# Metabolic model:\n",
    "biomass_rxn_id = \"BIOMASS_Ec_iML1515_core_75p37M\"\n",
    "met_sol_biomass = cobra.flux_analysis.pfba(met_model)\n",
    "print_fluxes(met_model, met_sol_biomass, biomass_rxn_id)"
   ]
  },
  {
   "cell_type": "code",
   "execution_count": 6,
   "metadata": {
    "pycharm": {
     "is_executing": false,
     "name": "#%%\n"
    }
   },
   "outputs": [
    {
     "name": "stdout",
     "text": [
      "growth: 0.5743255542929773\nEX_h_e: 134.23049520072192\nEX_co2_e: 0.44381983561439686\nEX_pyr_e: 128.95364197420142\nEX_glyclt_e: 0.0002561491972145913\nDM_amob_c: 1.1486511085859545e-06\nEX_meoh_e: 1.1486511085859545e-06\nEX_h2o_e: 143.6072291162812\nEX_etoh_e: 0.9549506261917605\nDM_5drib_c: 0.00025729784832325385\nDM_mththf_c: 0.00025729784832325385\nEX_pi_e_REV: 0.5539978756242818\nEX_mn2_e_REV: 0.0003968589580164473\nEX_fe2_e_REV: 0.009224242727499507\nEX_glc__D_e_REV: 68.79801305099797\nEX_thm_e_REV: 0.00012807459860733394\nEX_zn2_e_REV: 0.00019584501401390524\nEX_mg2_e_REV: 0.004982274183491578\nEX_ca2_e_REV: 0.0029893645100949467\nEX_ni2_e_REV: 0.00018550715403663166\nEX_cobalt2_e_REV: 1.4358138857324433e-05\nEX_nh4_e_REV: 6.202154870297497\nEX_mobd_e_REV: 4.0202788800508405e-06\nEX_so4_e_REV: 0.14449858648345054\nEX_k_e_REV: 0.11210432791910911\nEX_o2_e_REV: 62.74068178758716\nEX_cu_e_REV: 0.0004071968179937209\nEX_cl_e_REV: 0.0029893645100949467\nprot_pool_exchange: 0.0909113178074544\n"
     ],
     "output_type": "stream"
    }
   ],
   "source": [
    "# ecModel:\n",
    "ec_sol_biomass = simulate_ec_model(ec_model, biomass_rxn_id)\n",
    "print_fluxes(ec_model, ec_sol_biomass, biomass_rxn_id)"
   ]
  },
  {
   "cell_type": "markdown",
   "metadata": {},
   "source": [
    "### 2.2 Increased biotin conditions:\n",
    "\n",
    "A 20% of carbon will be shifted towards biotin."
   ]
  },
  {
   "cell_type": "code",
   "execution_count": 7,
   "metadata": {
    "pycharm": {
     "is_executing": false,
     "name": "#%%\n"
    }
   },
   "outputs": [
    {
     "name": "stdout",
     "text": [
      "growth: 0.7015977715415719\nEX_pi_e: -0.6767654200156121\nEX_co2_e: 23.030377374564207\nEX_h_e: 7.501045068088627\nEX_mn2_e: -0.00048480406013522615\nEX_btn_e: 0.2636212014134408\nEX_fe2_e: -0.011268361808729185\nEX_glc__D_e: -10.0\nEX_zn2_e: -0.000239244840095676\nDM_amob_c: 0.2636226046089839\nEX_mg2_e: -0.0060863606681231365\nEX_ca2_e: -0.003651816400873882\nEX_ni2_e: -0.00022661608020792772\nEX_meoh_e: 0.2636226046089839\nEX_cu2_e: -0.0004974328200229745\nEX_cobalt2_e: -1.75399442885393e-05\nEX_hacolipa_e: 5.958036727449863e-31\nEX_h2o_e: 46.56643742999425\nEX_mobd_e: -4.911184400791003e-06\nEX_so4_e: -0.7039187536564803\nEX_nh4_e: -9.422544706732523\nEX_k_e: -0.13694697382051405\nEX_cl_e: -0.003651816400873882\nDM_5drib_c: 0.2637790609120377\nEX_o2_e: -20.742289743099874\nDM_4crsol_c: 0.00015645630305377052\n"
     ],
     "output_type": "stream"
    }
   ],
   "source": [
    "# Metabolic model:\n",
    "biotin_rxn_id = \"EX_btn_e\"\n",
    "met_model.reactions.get_by_id(biomass_rxn_id).lower_bound = 0.8 * met_sol_biomass.fluxes[biomass_rxn_id]\n",
    "met_model.objective = biotin_rxn_id\n",
    "met_sol_biotin = cobra.flux_analysis.pfba(met_model)\n",
    "print_fluxes(met_model, met_sol_biotin, biomass_rxn_id)"
   ]
  },
  {
   "cell_type": "code",
   "execution_count": 8,
   "metadata": {
    "pycharm": {
     "is_executing": false,
     "name": "#%%\n"
    }
   },
   "outputs": [
    {
     "name": "stdout",
     "text": [
      "growth: 0.45946044343438186\nEX_h_e: 110.46048967943926\nEX_co2_e: 0.3254633767493096\nEX_pyr_e: 106.22585487967065\nEX_btn_e: 0.0032880546380194774\nEX_glyclt_e: 0.00020491935777169524\nDM_amob_c: 0.0032889735589063463\nEX_meoh_e: 0.0032889735589063463\nEX_h2o_e: 117.97174097580061\nEX_etoh_e: 0.7738246648674736\nDM_5drib_c: 0.0034938929166780804\nDM_mththf_c: 0.0034938929166780804\nEX_pi_e_REV: 0.44319830049939624\nEX_mn2_e_REV: 0.00031748716641315786\nEX_fe2_e_REV: 0.0073793941819996055\nEX_glc__D_e_REV: 56.58796539146224\nEX_thm_e_REV: 0.00010245967888586715\nEX_zn2_e_REV: 0.00015667601121112422\nEX_mg2_e_REV: 0.003985819346793263\nEX_ca2_e_REV: 0.0023914916080759576\nEX_ni2_e_REV: 0.00014840572322930533\nEX_cobalt2_e_REV: 1.1486511085859547e-05\nEX_nh4_e_REV: 4.984740278704186\nEX_mobd_e_REV: 3.216223104040673e-06\nEX_so4_e_REV: 0.12217497846279869\nEX_k_e_REV: 0.0896834623352873\nEX_o2_e_REV: 51.67469526065419\nEX_cu_e_REV: 0.00032575745439497676\nEX_cl_e_REV: 0.0023914916080759576\nprot_pool_exchange: 0.0909113178074544\n"
     ],
     "output_type": "stream"
    }
   ],
   "source": [
    "# ecModel:\n",
    "ec_model.reactions.get_by_id(biomass_rxn_id).lower_bound = 0.8 * ec_sol_biomass.fluxes[biomass_rxn_id]\n",
    "ec_sol_biotin = simulate_ec_model(ec_model, biotin_rxn_id)\n",
    "print_fluxes(ec_model, ec_sol_biotin, biomass_rxn_id)"
   ]
  },
  {
   "cell_type": "markdown",
   "metadata": {},
   "source": [
    "### 3. Comparing enzyme usage\n",
    "\n",
    "First let's build a dataframe with all enzyme usages under both conditions. We are looking for this at the `draw_prot_XXXXXX` rxns, i.e. they are in units of `mmol/gDW`."
   ]
  },
  {
   "cell_type": "code",
   "execution_count": 9,
   "metadata": {
    "pycharm": {
     "is_executing": false,
     "name": "#%%\n"
    }
   },
   "outputs": [
    {
     "name": "stdout",
     "text": [
      "        gene  biomass_usage  biotin_usage\nO32583  thiS   0.000000e+00  0.000000e+00\nP00350   gnd   0.000000e+00  0.000000e+00\nP00363  frdA   0.000000e+00  0.000000e+00\nP00370  gdhA   4.731316e-08  3.804181e-08\nP00393   ndh   0.000000e+00  0.000000e+00\n...      ...            ...           ...\nQ59385  copA   0.000000e+00  0.000000e+00\nQ6BEX0  ytfR   0.000000e+00  0.000000e+00\nQ6BF16  dgoA   0.000000e+00  0.000000e+00\nQ6BF17  dgoD   0.000000e+00  0.000000e+00\nQ93K97  nudF   0.000000e+00  0.000000e+00\n\n[1259 rows x 3 columns]\n"
     ],
     "output_type": "stream"
    }
   ],
   "source": [
    "import pandas as pd\n",
    "\n",
    "usage_df = pd.DataFrame()\n",
    "for reaction in ec_model.reactions:\n",
    "    if \"draw_prot_\" in reaction.id:\n",
    "        gene_id = reaction.gene_reaction_rule\n",
    "        new_line = pd.DataFrame(index = [reaction.id[-6:]],\n",
    "                                data = {\"gene\":[met_model.genes.get_by_id(gene_id).name],\n",
    "                                        \"biomass_usage\":[ec_sol_biomass.fluxes[reaction.id]],\n",
    "                                        \"biotin_usage\":[ec_sol_biotin.fluxes[reaction.id]]})\n",
    "        usage_df = usage_df.append(new_line)\n",
    "\n",
    "print(usage_df)"
   ]
  },
  {
   "cell_type": "markdown",
   "metadata": {},
   "source": [
    "Let's make sure all values are positive:"
   ]
  },
  {
   "cell_type": "code",
   "execution_count": 10,
   "metadata": {
    "pycharm": {
     "is_executing": false,
     "name": "#%%\n"
    }
   },
   "outputs": [
    {
     "name": "stdout",
     "text": [
      "        gene  biomass_usage  biotin_usage\nO32583  thiS            0.0           0.0\nP32674  pflD            0.0           0.0\nP32669  fsaB            0.0           0.0\nP32664  nudC            0.0           0.0\nP32662   gph            0.0           0.0\n        gene  biomass_usage  biotin_usage\nP06999  pfkB   4.740742e-16 -5.645324e-16\nO32583  thiS   0.000000e+00  0.000000e+00\nP0AE12   amn   0.000000e+00  0.000000e+00\nP0AE22  aphA   0.000000e+00  0.000000e+00\nP09158  speE   0.000000e+00  0.000000e+00\n"
     ],
     "output_type": "stream"
    }
   ],
   "source": [
    "usage_df = usage_df.sort_values(by=['biomass_usage'])\n",
    "print(usage_df.head(n=5))\n",
    "usage_df = usage_df.sort_values(by=['biotin_usage'])\n",
    "print(usage_df.head(n=5))"
   ]
  },
  {
   "cell_type": "markdown",
   "metadata": {},
   "source": [
    "One value was slightly negative, due to solver approximations (probably). Let's change that:"
   ]
  },
  {
   "cell_type": "code",
   "execution_count": 11,
   "metadata": {
    "pycharm": {
     "is_executing": false,
     "name": "#%%\n"
    }
   },
   "outputs": [
    {
     "name": "stdout",
     "text": [
      "        gene  biomass_usage  biotin_usage\nP06999  pfkB   4.740742e-16           0.0\nO32583  thiS   0.000000e+00           0.0\nP0AE12   amn   0.000000e+00           0.0\nP0AE22  aphA   0.000000e+00           0.0\nP09158  speE   0.000000e+00           0.0",
      "\n"
     ],
     "output_type": "stream"
    }
   ],
   "source": [
    "usage_df.loc[usage_df[\"biotin_usage\"] < 0, \"biotin_usage\"] = 0\n",
    "print(usage_df.head(n=5))"
   ]
  },
  {
   "cell_type": "markdown",
   "metadata": {},
   "source": [
    "There are a lot of rows with zero usage under both conditions, so let's filter them out:"
   ]
  },
  {
   "cell_type": "code",
   "execution_count": 12,
   "metadata": {
    "pycharm": {
     "is_executing": false,
     "name": "#%%\n"
    }
   },
   "outputs": [
    {
     "name": "stdout",
     "text": [
      "        gene  biomass_usage  biotin_usage\nP06999  pfkB   4.740742e-16  0.000000e+00\nP76536  yfeX   1.368349e-12  1.094679e-12\nP09833  modC   3.918405e-12  3.134724e-12\nP37329  modA   3.918405e-12  3.134724e-12\nP0AF01  modB   3.918405e-12  3.134724e-12\n...      ...            ...           ...\nP0AC62  grxC   1.177509e-04  9.965358e-05\nP0A953  fabB   1.551985e-04  1.355756e-04\nP21151  fadA   2.255829e-04  1.804663e-04\nP0A9B2  gapA   2.695114e-04  2.217190e-04\nP13000  bioD   2.279039e-07  6.525652e-04\n\n[300 rows x 3 columns]",
      "\n"
     ],
     "output_type": "stream"
    }
   ],
   "source": [
    "usage_df = usage_df.query(\"biomass_usage > 0 or biotin_usage > 0\")\n",
    "print(usage_df)"
   ]
  },
  {
   "cell_type": "markdown",
   "metadata": {},
   "source": [
    "Now let's compute usage changes. We will look at both absolute changes (the difference between both conditions) and relative changes (the fold change or ratio between them)."
   ]
  },
  {
   "cell_type": "code",
   "execution_count": 13,
   "metadata": {
    "pycharm": {
     "is_executing": false,
     "name": "#%%\n"
    }
   },
   "outputs": [
    {
     "name": "stdout",
     "text": [
      "        gene  biomass_usage  biotin_usage   abs_changes  rel_changes\nP06999  pfkB   4.740742e-16  0.000000e+00 -4.740742e-16     0.000000\nP76536  yfeX   1.368349e-12  1.094679e-12 -2.736698e-13     0.800000\nP09833  modC   3.918405e-12  3.134724e-12 -7.836810e-13     0.800000\nP37329  modA   3.918405e-12  3.134724e-12 -7.836810e-13     0.800000\nP0AF01  modB   3.918405e-12  3.134724e-12 -7.836810e-13     0.800000\n...      ...            ...           ...           ...          ...\nP0AC62  grxC   1.177509e-04  9.965358e-05 -1.809734e-05     0.846308\nP0A953  fabB   1.551985e-04  1.355756e-04 -1.962292e-05     0.873562\nP21151  fadA   2.255829e-04  1.804663e-04 -4.511658e-05     0.800000\nP0A9B2  gapA   2.695114e-04  2.217190e-04 -4.779232e-05     0.822670\nP13000  bioD   2.279039e-07  6.525652e-04  6.523373e-04  2863.335554\n\n[300 rows x 5 columns]\n"
     ],
     "output_type": "stream"
    }
   ],
   "source": [
    "usage_df[\"abs_changes\"] = usage_df[\"biotin_usage\"] - usage_df[\"biomass_usage\"]\n",
    "usage_df[\"rel_changes\"] = usage_df[\"biotin_usage\"] / usage_df[\"biomass_usage\"]\n",
    "print(usage_df)"
   ]
  },
  {
   "cell_type": "markdown",
   "metadata": {},
   "source": [
    "We can now sort and take a look at the top 10 of enzymes that:\n",
    "\n",
    "* Increased their absolute usage the most:"
   ]
  },
  {
   "cell_type": "code",
   "execution_count": 14,
   "metadata": {
    "pycharm": {
     "is_executing": false,
     "name": "#%%\n"
    }
   },
   "outputs": [
    {
     "name": "stdout",
     "text": [
      "        gene  biomass_usage  biotin_usage   abs_changes  rel_changes\nP13000  bioD   2.279039e-07  6.525652e-04  6.523373e-04  2863.335554\nP12998  bioF   5.317795e-09  1.522663e-05  1.522131e-05  2863.335554\nP45578  luxS   1.786779e-07  2.426299e-06  2.247621e-06    13.579177\nP0A817  metK   1.192288e-07  1.922128e-06  1.802899e-06    16.121332\nP12995  bioA   3.988346e-10  1.141997e-06  1.141599e-06  2863.335554\nP76194  sufE   2.112517e-07  1.330013e-06  1.118762e-06     6.295871\nP77444  sufS   2.112517e-07  1.330013e-06  1.118762e-06     6.295871\nP0AF12   mtn   4.535749e-08  6.159174e-07  5.705599e-07    13.579177\nP0AEK4  fabI   5.362593e-11  1.535490e-07  1.534954e-07  2863.335554\nP0A6R0  fabH   4.991923e-11  1.429355e-07  1.428856e-07  2863.335554\n"
     ],
     "output_type": "stream"
    }
   ],
   "source": [
    "usage_df = usage_df.sort_values(by=['abs_changes'])\n",
    "print(usage_df.tail(n=10).iloc[::-1])"
   ]
  },
  {
   "cell_type": "markdown",
   "metadata": {},
   "source": [
    "* Decreased their absolute usage the most:"
   ]
  },
  {
   "cell_type": "code",
   "execution_count": 15,
   "metadata": {
    "pycharm": {
     "is_executing": false,
     "name": "#%%\n"
    }
   },
   "outputs": [
    {
     "name": "stdout",
     "text": [
      "        gene  biomass_usage  biotin_usage  abs_changes  rel_changes\nP0A9B2  gapA       0.000270      0.000222    -0.000048     0.822670\nP21151  fadA       0.000226      0.000180    -0.000045     0.800000\nP0A953  fabB       0.000155      0.000136    -0.000020     0.873562\nP0AC62  grxC       0.000118      0.000100    -0.000018     0.846308\nP17854  cysH       0.000118      0.000100    -0.000018     0.846308\nP00934  thrC       0.000088      0.000071    -0.000017     0.807782\nP0A9C5  glnA       0.000083      0.000067    -0.000016     0.807312\nP0A6E4  argG       0.000069      0.000055    -0.000014     0.800000\nP36683  acnB       0.000065      0.000052    -0.000013     0.800000\nP0A6C5  argA       0.000060      0.000048    -0.000012     0.800000",
      "\n"
     ],
     "output_type": "stream"
    }
   ],
   "source": [
    "print(usage_df.head(n=10))"
   ]
  },
  {
   "cell_type": "markdown",
   "metadata": {},
   "source": [
    "* Increased their relative usage the most:"
   ]
  },
  {
   "cell_type": "code",
   "execution_count": 16,
   "metadata": {
    "pycharm": {
     "is_executing": false,
     "name": "#%%\n"
    }
   },
   "outputs": [
    {
     "name": "stdout",
     "text": [
      "        gene  biomass_usage  biotin_usage   abs_changes  rel_changes\nP0A6Q6  fabZ   3.303061e-13  9.457772e-10  9.454469e-10  2863.335554\nP0AEK4  fabI   5.362593e-11  1.535490e-07  1.534954e-07  2863.335554\nP12998  bioF   5.317795e-09  1.522663e-05  1.522131e-05  2863.335554\nP12999  bioC   1.844389e-12  5.281105e-09  5.279260e-09  2863.335554\nP13001  bioH   1.724700e-11  4.938394e-08  4.936669e-08  2863.335554\nP12996  bioB   2.295464e-11  6.572685e-08  6.570389e-08  2863.335554\nP0A6R0  fabH   4.991923e-11  1.429355e-07  1.428856e-07  2863.335554\nP13000  bioD   2.279039e-07  6.525652e-04  6.523373e-04  2863.335554\nP12995  bioA   3.988346e-10  1.141997e-06  1.141599e-06  2863.335554\nP0A817  metK   1.192288e-07  1.922128e-06  1.802899e-06    16.121332\n"
     ],
     "output_type": "stream"
    }
   ],
   "source": [
    "usage_df = usage_df.sort_values(by=['rel_changes'])\n",
    "print(usage_df.tail(n=10).iloc[::-1])"
   ]
  },
  {
   "cell_type": "markdown",
   "metadata": {},
   "source": [
    "* Decreased their relative usage the most:"
   ]
  },
  {
   "cell_type": "code",
   "execution_count": 17,
   "metadata": {
    "pycharm": {
     "is_executing": false,
     "name": "#%%\n"
    }
   },
   "outputs": [
    {
     "name": "stdout",
     "text": [
      "        gene  biomass_usage  biotin_usage   abs_changes  rel_changes\nP06999  pfkB   4.740742e-16  0.000000e+00 -4.740742e-16     0.000000\nP07003  poxB   2.359266e-06  1.871006e-06 -4.882603e-07     0.793046\nP77218  eutD   1.173126e-06  9.363002e-07 -2.368261e-07     0.798124\nP0A6A3  ackA   3.245753e-07  2.590514e-07 -6.552398e-08     0.798124\nP0A790  panD   1.654252e-07  1.323402e-07 -3.308505e-08     0.800000\nP0A6I6  coaD   2.215657e-08  1.772525e-08 -4.431314e-09     0.800000\nP0A9J4  panE   4.301017e-09  3.440814e-09 -8.602035e-10     0.800000\nP0A6I9  coaE   2.235476e-06  1.788381e-06 -4.470952e-07     0.800000\nP0ABQ0   dfp   1.592685e-07  1.274148e-07 -3.185370e-08     0.800000\nP31663  panC   7.680360e-08  6.144288e-08 -1.536072e-08     0.800000\n"
     ],
     "output_type": "stream"
    }
   ],
   "source": [
    "print(usage_df.head(n=10))"
   ]
  },
  {
   "cell_type": "markdown",
   "metadata": {},
   "source": [
    "### 4. Blocking the Fe-S assembly machinery\n",
    "\n",
    "For creatig biotin 1 sulfur is required, which is taken from a 2Fe-2S cluster."
   ]
  },
  {
   "cell_type": "code",
   "execution_count": 18,
   "metadata": {
    "pycharm": {
     "is_executing": false
    }
   },
   "outputs": [
    {
     "name": "stdout",
     "text": [
      "BTS5: 2fe2s_c + amet_c + dtbt_c --> 2fe1s_c + btn_c + dad_5_c + h_c + met__L_c",
      "\n"
     ],
     "output_type": "stream"
    }
   ],
   "source": [
    "print(met_model.reactions.BTS5)"
   ]
  },
  {
   "cell_type": "markdown",
   "metadata": {},
   "source": [
    "This cluster therefore has to be regenerated, which can be achieved using either the iron-sulfur cluster (ISC) or sulphur assimilation (SUF) machineries.\n",
    "\n",
    "##### ISC:"
   ]
  },
  {
   "cell_type": "code",
   "execution_count": 19,
   "metadata": {
    "pycharm": {
     "is_executing": false
    }
   },
   "outputs": [
    {
     "name": "stdout",
     "text": [
      "I2FE2SR: 2fe1s_c + iscssh_c + iscu_c --> 4.0 h_c + iscs_c + iscu_2fe2s_c\nI2FE2ST: 4.0 h_c + iscu_2fe2s_c --> 2fe2s_c + iscu_c\nICYSDS: cys__L_c + iscs_c --> ala__L_c + iscssh_c\n"
     ],
     "output_type": "stream"
    }
   ],
   "source": [
    "print(met_model.reactions.I2FE2SR)\n",
    "print(met_model.reactions.I2FE2ST)\n",
    "print(met_model.reactions.ICYSDS)"
   ]
  },
  {
   "cell_type": "markdown",
   "metadata": {},
   "source": [
    "Note that the net reaction of adding up all 3 is:\n",
    "\n",
    "```\n",
    "NET RXN: 2fe1s_c + cys__L_c --> 2fe2s_c + ala__L_c\n",
    "```\n",
    "\n",
    "##### SUF:"
   ]
  },
  {
   "cell_type": "code",
   "execution_count": 20,
   "metadata": {
    "pycharm": {
     "is_executing": false
    }
   },
   "outputs": [
    {
     "name": "stdout",
     "text": [
      "S2FE2SR: 2fe1s_c + atp_c + h2o_c + sufbcd_c + sufsesh_c --> adp_c + 5.0 h_c + pi_c + sufbcd_2fe2s_c + sufse_c\nS2FE2ST: 4.0 h_c + sufbcd_2fe2s_c --> 2fe2s_c + sufbcd_c\nSCYSDS: cys__L_c + sufse_c --> ala__L_c + sufsesh_c",
      "\n"
     ],
     "output_type": "stream"
    }
   ],
   "source": [
    "print(met_model.reactions.S2FE2SR)\n",
    "print(met_model.reactions.S2FE2ST)\n",
    "print(met_model.reactions.SCYSDS)"
   ]
  },
  {
   "cell_type": "markdown",
   "metadata": {},
   "source": [
    "The net reaction of adding up these 3 instead is:\n",
    "\n",
    "```\n",
    "NET RXN: 2fe1s_c + atp_c + h2o_c + cys__L_c --> adp_c + h_c + pi_c + 2fe2s_c + ala__L_c\n",
    "```\n",
    "\n",
    "In both cases, production of biotin is not associated to any cost regarding the assembly machineries. This might be an ok assumption for normal conditions (as biotin production is normally not very significant compared to other costs in the cell), but as we are studying biotin over-production conditions, production of this machinery could be relevant. However, as both machineries are protein complexes, accounting for their costs is out of the scope of our modeling approach, as GEMs do not have explicit representations of protein production.\n",
    "\n",
    "We can confirm that these machineries cannot be produced by modifying reactions `I2FE2ST` and `S2FE2ST` to consume the complexes:"
   ]
  },
  {
   "cell_type": "code",
   "execution_count": 21,
   "metadata": {
    "pycharm": {
     "is_executing": false
    }
   },
   "outputs": [
    {
     "name": "stdout",
     "text": [
      "I2FE2ST: 4.0 h_c + iscu_2fe2s_c --> 2fe2s_c\nS2FE2ST: 4.0 h_c + sufbcd_2fe2s_c --> 2fe2s_c\n"
     ],
     "output_type": "stream"
    }
   ],
   "source": [
    "# Metabolic model:\n",
    "met_model.reactions.I2FE2ST.subtract_metabolites({met_model.metabolites.iscu_c: +1})\n",
    "met_model.reactions.S2FE2ST.subtract_metabolites({met_model.metabolites.sufbcd_c: +1})\n",
    "print(met_model.reactions.I2FE2ST)\n",
    "print(met_model.reactions.S2FE2ST)"
   ]
  },
  {
   "cell_type": "markdown",
   "metadata": {},
   "source": [
    "Let's see if the model can grow now:"
   ]
  },
  {
   "cell_type": "code",
   "execution_count": 22,
   "metadata": {
    "pycharm": {
     "is_executing": false
    }
   },
   "outputs": [
    {
     "name": "stdout",
     "text": [
      "growth: 0.0\nEX_co2_e: 1.7514893617021292\nEX_ac_e: -1.8332837034655592e-15\nEX_tyr__L_e: 2.1633015706022764e-15\nEX_glc__D_e: -0.2919148936170214\nEX_nac_e: 5.720157415115007e-17\nEX_ala_B_e: -1.1102230246251578e-16\nEX_fad_e: -9.244463733058732e-33\nEX_h2o_e: 1.7514893617021274\nEX_nh4_e: -4.13888245527365e-16\nEX_tyrp_e: -2.1633015706022764e-15\nEX_o2_e: -1.7514893617021288\nEX_cys__D_e: -1.1102230246251583e-16\n"
     ],
     "output_type": "stream"
    }
   ],
   "source": [
    "# WT conditions - metabolic model:\n",
    "met_model.objective = biomass_rxn_id\n",
    "met_model.reactions.get_by_id(biomass_rxn_id).lower_bound = 0\n",
    "met_model.reactions.get_by_id(biotin_rxn_id).lower_bound = 0\n",
    "met_sol_biomass = cobra.flux_analysis.pfba(met_model)\n",
    "print_fluxes(met_model, met_sol_biomass, biomass_rxn_id)"
   ]
  },
  {
   "cell_type": "markdown",
   "metadata": {},
   "source": [
    "The model cannot grow, due to the fact that both ISC and SUF cannot be produced by the model. This can also be seen by trying to optimize production of either species in the original model:"
   ]
  },
  {
   "cell_type": "code",
   "execution_count": 23,
   "metadata": {
    "pycharm": {
     "is_executing": false
    }
   },
   "outputs": [
    {
     "name": "stdout",
     "text": [
      "iscu_c --> \n",
      "Maximum production: 0.0\nsufbcd_c --> \n",
      "Maximum production: 0.0\n"
     ],
     "output_type": "stream"
    }
   ],
   "source": [
    "def test_production(model, met_id):\n",
    "    # Add exchange reaction:\n",
    "    ex_rxn_id = \"EX_\" + met_id\n",
    "    ex_rxn = cobra.Reaction(ex_rxn_id)\n",
    "    ex_rxn.lower_bound = 0\n",
    "    ex_rxn.upper_bound = +1000\n",
    "    ex_rxn.add_metabolites({model.metabolites.get_by_id(met_id): -1})\n",
    "    model.add_reactions([ex_rxn])\n",
    "    print(model.reactions.get_by_id(ex_rxn_id).reaction)\n",
    "    \n",
    "    # Test production:\n",
    "    model.objective = ex_rxn_id\n",
    "    solution = cobra.flux_analysis.pfba(model)\n",
    "    print(\"Maximum production: \" + str(solution.fluxes[ex_rxn_id]))\n",
    "\n",
    "# Reset model:\n",
    "met_model = cameo.load_model(\"iML1515\")\n",
    "\n",
    "# ISC:\n",
    "test_production(met_model, \"iscu_c\")\n",
    "\n",
    "# SUF:\n",
    "test_production(met_model, \"sufbcd_c\")"
   ]
  },
  {
   "cell_type": "markdown",
   "metadata": {},
   "source": [
    "### 5. Model cleanup"
   ]
  },
  {
   "cell_type": "code",
   "execution_count": 24,
   "metadata": {
    "pycharm": {
     "is_executing": false,
     "name": "#%%\n"
    }
   },
   "outputs": [],
   "source": [
    "import os\n",
    "os.remove(\"eciML1515_batch.xml\")"
   ]
  }
 ],
 "metadata": {
  "kernelspec": {
   "display_name": "Python 3",
   "language": "python",
   "name": "python3"
  },
  "language_info": {
   "codemirror_mode": {
    "name": "ipython",
    "version": 3
   },
   "file_extension": ".py",
   "mimetype": "text/x-python",
   "name": "python",
   "nbconvert_exporter": "python",
   "pygments_lexer": "ipython3",
   "version": "3.7.4"
  },
  "pycharm": {
   "stem_cell": {
    "cell_type": "raw",
    "metadata": {
     "collapsed": false
    },
    "source": []
   }
  }
 },
 "nbformat": 4,
 "nbformat_minor": 2
}