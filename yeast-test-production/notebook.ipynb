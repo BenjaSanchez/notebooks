{
 "cells": [
  {
   "cell_type": "code",
   "execution_count": 15,
   "metadata": {},
   "outputs": [
    {
     "name": "stderr",
     "output_type": "stream",
     "text": [
      "\n"
     ]
    }
   ],
   "source": [
    "import cobra\n",
    "! [ ! -f \"yeastGEM.xml\" ] && curl -O -L \"https://raw.githubusercontent.com/SysBioChalmers/yeast-GEM/master/ModelFiles/xml/yeastGEM.xml\"\n",
    "model = cobra.io.read_sbml_model(\"yeastGEM.xml\")\n",
    "import os\n",
    "os.remove(\"yeastGEM.xml\")"
   ]
  },
  {
   "cell_type": "code",
   "execution_count": 16,
   "metadata": {},
   "outputs": [
    {
     "name": "stdout",
     "output_type": "stream",
     "text": [
      "0.2040325007523347 - r_0020: D-erythrose 4-phosphate [mitochondrion] + H2O [mitochondrion] + phosphoenolpyruvate [mitochondrion] --> 7-phospho-2-dehydro-3-deoxy-D-arabino-heptonic acid [mitochondrion] + phosphate [mitochondrion]\n",
      "0.20403250075233162 - r_0039: 3-dehydroquinate [cytoplasm] --> 3-dehydroshikimate [cytoplasm] + H2O [cytoplasm]\n",
      "0.20403250075233162 - r_0040: 7-phospho-2-dehydro-3-deoxy-D-arabino-heptonic acid [cytoplasm] --> 3-dehydroquinate [cytoplasm] + phosphate [cytoplasm]\n",
      "0.20403250075233162 - r_0045: 3-hydroxy-L-kynurenine [cytoplasm] + H2O [cytoplasm] --> 3-hydroxyanthranilate [cytoplasm] + L-alanine [cytoplasm]\n",
      "0.20403250075233162 - r_0058: 3-hydroxyanthranilate [cytoplasm] + oxygen [cytoplasm] --> 2-amino-3-carboxymuconate-6-semialdehyde [cytoplasm] + H+ [cytoplasm]\n",
      "0.20403250075233162 - r_0065: 3-phosphoshikimic acid [cytoplasm] + phosphoenolpyruvate [cytoplasm] --> 5-O-(1-carboxyvinyl)-3-phosphoshikimic acid [cytoplasm] + phosphate [cytoplasm]\n",
      "0.2040325007523314 - r_0079: 5'-phosphoribosyl-N-formylglycineamide [cytoplasm] + ATP [cytoplasm] + H2O [cytoplasm] + L-glutamine [cytoplasm] --> 5'-phosphoribosyl-N-formylglycineamidine [cytoplasm] + ADP [cytoplasm] + H+ [cytoplasm] + L-glutamate [cytoplasm] + phosphate [cytoplasm]\n",
      "0.18742100511618698 - r_0091: 6-O-phosphono-D-glucono-1,5-lactone [cytoplasm] + H2O [cytoplasm] --> 6-phospho-D-gluconate [cytoplasm] + H+ [cytoplasm]\n",
      "1.0201625037616577 - r_0148: AMP [cytoplasm] + ATP [cytoplasm] --> 2.0 ADP [cytoplasm]\n",
      "0.2040325007523314 - r_0151: 5'-phosphoribosyl-4-(N-succinocarboxamide)-5-aminoimidazole [cytoplasm] --> AICAR [cytoplasm] + fumarate [cytoplasm]\n",
      "0.2040325007523314 - r_0152: adenylo-succinate [cytoplasm] <=> AMP [cytoplasm] + fumarate [cytoplasm]\n",
      "0.2040325007523314 - r_0153: GTP [cytoplasm] + IMP [cytoplasm] + L-aspartate [cytoplasm] --> adenylo-succinate [cytoplasm] + GDP [cytoplasm] + 2.0 H+ [cytoplasm] + phosphate [cytoplasm]\n",
      "0.20403250075233162 - r_0202: anthranilate [cytoplasm] + PRPP [cytoplasm] --> diphosphate [cytoplasm] + N-(5-phospho-beta-D-ribosyl)anthranilate [cytoplasm]\n",
      "0.20403250075233162 - r_0203: chorismate [cytoplasm] + L-glutamine [cytoplasm] --> anthranilate [cytoplasm] + H+ [cytoplasm] + L-glutamate [cytoplasm] + pyruvate [cytoplasm]\n",
      "4.626301534757939 - r_0226: ADP [mitochondrion] + 3.0 H+ [cytoplasm] + phosphate [mitochondrion] --> ATP [mitochondrion] + 2.0 H+ [mitochondrion] + H2O [mitochondrion]\n",
      "0.20403250075233162 - r_0279: 5-O-(1-carboxyvinyl)-3-phosphoshikimic acid [cytoplasm] --> chorismate [cytoplasm] + phosphate [cytoplasm]\n",
      "0.40806500150466324 - r_0300: acetyl-CoA [mitochondrion] + H2O [mitochondrion] + oxaloacetate [mitochondrion] --> citrate [mitochondrion] + coenzyme A [mitochondrion] + H+ [mitochondrion]\n",
      "0.4080650015041037 - r_0303: citrate [cytoplasm] <=> cis-aconitate [cytoplasm] + H2O [cytoplasm]\n",
      "0.40806500150466285 - r_0366: 2-phospho-D-glyceric acid [cytoplasm] <=> H2O [cytoplasm] + phosphoenolpyruvate [cytoplasm]\n",
      "6.861269936804154 - r_0438: ferrocytochrome c [mitochondrion] + 1.266 H+ [mitochondrion] + 0.25 oxygen [mitochondrion] --> ferricytochrome c [mitochondrion] + 0.633 H+ [cytoplasm] + 0.5 H2O [mitochondrion]\n",
      "3.430634968402077 - r_0439: 2.0 ferricytochrome c [mitochondrion] + 1.266 H+ [mitochondrion] + ubiquinol-6 [mitochondrion] --> 2.0 ferrocytochrome c [mitochondrion] + 2.532 H+ [cytoplasm] + ubiquinone-6 [mitochondrion]\n",
      "0.06644598254568518 - r_0445: formate [cytoplasm] + NAD [cytoplasm] --> carbon dioxide [cytoplasm] + NADH [cytoplasm]\n",
      "0.13758651820664644 - r_0446: ATP [cytoplasm] + formate [cytoplasm] + THF [cytoplasm] <=> 10-formyl-THF [cytoplasm] + ADP [cytoplasm] + phosphate [cytoplasm]\n",
      "0.4614504965391631 - r_0450: D-fructose 1,6-bisphosphate [cytoplasm] <=> dihydroxyacetone phosphate [cytoplasm] + glyceraldehyde 3-phosphate [cytoplasm]\n",
      "0.40806500150466324 - r_0451: fumarate [mitochondrion] + H2O [mitochondrion] <=> (S)-malate [mitochondrion]\n",
      "0.4080650015046628 - r_0452: fumarate [cytoplasm] + H2O [cytoplasm] <=> (S)-malate [cytoplasm]\n",
      "0.18742100511618698 - r_0466: D-glucose 6-phosphate [cytoplasm] + NADP(+) [cytoplasm] --> 6-O-phosphono-D-glucono-1,5-lactone [cytoplasm] + H+ [cytoplasm] + NADPH [cytoplasm]\n",
      "0.812578994883813 - r_0467: D-glucose 6-phosphate [cytoplasm] <=> D-fructose 6-phosphate [cytoplasm]\n",
      "0.6453204935298366 - r_0471: 2-oxoglutarate [cytoplasm] + ammonium [cytoplasm] + H+ [cytoplasm] + NADPH [cytoplasm] --> H2O [cytoplasm] + L-glutamate [cytoplasm] + NADP(+) [cytoplasm]\n",
      "0.816130003009326 - r_0476: ammonium [cytoplasm] + ATP [cytoplasm] + L-glutamate [cytoplasm] --> ADP [cytoplasm] + H+ [cytoplasm] + L-glutamine [cytoplasm] + phosphate [cytoplasm]\n",
      "0.8493529942821684 - r_0486: glyceraldehyde 3-phosphate [cytoplasm] + NAD [cytoplasm] + phosphate [cytoplasm] <=> 1,3-bisphospho-D-glycerate [cytoplasm] + H+ [cytoplasm] + NADH [cytoplasm]\n",
      "0.2040325007523314 - r_0499: 10-formyl-THF [cytoplasm] + 5-phospho-ribosyl-glycineamide [cytoplasm] --> 5'-phosphoribosyl-N-formylglycineamide [cytoplasm] + H+ [cytoplasm] + THF [cytoplasm]\n",
      "0.03322299127284249 - r_0501: L-glycine [mitochondrion] + NAD [mitochondrion] + THF [mitochondrion] --> 5,10-methylenetetrahydrofolate [mitochondrion] + ammonium [mitochondrion] + carbon dioxide [mitochondrion] + NADH [mitochondrion]\n",
      "0.2704784832980164 - r_0502: L-serine [cytoplasm] + THF [cytoplasm] <=> 5,10-methylenetetrahydrofolate [cytoplasm] + H2O [cytoplasm] + L-glycine [cytoplasm]\n",
      "0.40806500150466324 - r_0505: dihydrolipoamide [mitochondrion] + NAD [mitochondrion] --> H+ [mitochondrion] + lipoamide [mitochondrion] + NADH [mitochondrion]\n",
      "0.18386999699068007 - r_0534: ATP [cytoplasm] + D-glucose [cytoplasm] --> ADP [cytoplasm] + D-glucose 6-phosphate [cytoplasm] + H+ [cytoplasm]\n",
      "0.20403250075233162 - r_0566: 1-(2-carboxyphenylamino)-1-deoxy-D-ribulose 5-phosphate [cytoplasm] + H+ [cytoplasm] --> 1-C-(indol-3-yl)glycerol 3-phosphate [cytoplasm] + carbon dioxide [cytoplasm] + H2O [cytoplasm]\n",
      "1.020162503761658 - r_0569: diphosphate [mitochondrion] + H2O [mitochondrion] --> H+ [mitochondrion] + 2.0 phosphate [mitochondrion]\n",
      "0.2040325007523314 - r_0570: phosphoribosyl-formamido-carboxamide [cytoplasm] <=> H2O [cytoplasm] + IMP [cytoplasm]\n",
      "0.4080650015041037 - r_0659: isocitrate [cytoplasm] + NADP(+) [cytoplasm] <=> 2-oxoglutarate [cytoplasm] + carbon dioxide [cytoplasm] + NADPH [cytoplasm]\n",
      "0.2040325007523347 - r_0663: 2-oxoglutarate [cytoplasm] + L-isoleucine [cytoplasm] <=> (S)-3-methyl-2-oxopentanoate [cytoplasm] + L-glutamate [cytoplasm]\n",
      "0.20403250075233162 - r_0671: H+ [cytoplasm] + L-kynurenine [cytoplasm] + NADPH [cytoplasm] + oxygen [cytoplasm] --> 3-hydroxy-L-kynurenine [cytoplasm] + H2O [cytoplasm] + NADP(+) [cytoplasm]\n",
      "0.20403250075233162 - r_0694: L-tryptophan [cytoplasm] + oxygen [cytoplasm] --> N-formyl-L-kynurenine [cytoplasm]\n",
      "0.40806500150466324 - r_0713: (S)-malate [mitochondrion] + NAD [mitochondrion] <=> H+ [mitochondrion] + NADH [mitochondrion] + oxaloacetate [mitochondrion]\n",
      "0.4080650015046628 - r_0714: (S)-malate [cytoplasm] + NAD [cytoplasm] <=> H+ [cytoplasm] + NADH [cytoplasm] + oxaloacetate [cytoplasm]\n",
      "0.2704784832980164 - r_0725: 5,10-methenyl-THF [cytoplasm] + H2O [cytoplasm] <=> 10-formyl-THF [cytoplasm] + H+ [cytoplasm]\n",
      "0.2704784832980164 - r_0732: 5,10-methylenetetrahydrofolate [cytoplasm] + NADP(+) [cytoplasm] <=> 5,10-methenyl-THF [cytoplasm] + NADPH [cytoplasm]\n",
      "0.20403250075233162 - r_0762: H2O [cytoplasm] + N-formyl-L-kynurenine [cytoplasm] --> formate [cytoplasm] + H+ [cytoplasm] + L-kynurenine [cytoplasm]\n",
      "0.20403250075233162 - r_0768: ATP [cytoplasm] + deamido-NAD(+) [cytoplasm] + H2O [cytoplasm] + L-glutamine [cytoplasm] --> AMP [cytoplasm] + diphosphate [cytoplasm] + H+ [cytoplasm] + L-glutamate [cytoplasm] + NAD [cytoplasm]\n",
      "1.7651519711100219 - r_0770: H+ [cytoplasm] + NADH [cytoplasm] + ubiquinone-6 [mitochondrion] --> NAD [cytoplasm] + ubiquinol-6 [mitochondrion]\n",
      "1.2574179957873917 - r_0773: H+ [mitochondrion] + NADH [mitochondrion] + ubiquinone-6 [mitochondrion] --> NAD [mitochondrion] + ubiquinol-6 [mitochondrion]\n",
      "0.20403250075233162 - r_0785: ATP [cytoplasm] + H+ [cytoplasm] + nicotinic acid D-ribonucleotide [cytoplasm] --> deamido-NAD(+) [cytoplasm] + diphosphate [cytoplasm]\n",
      "0.20403250075233162 - r_0786: 2.0 H+ [cytoplasm] + PRPP [cytoplasm] + quinolinate [cytoplasm] --> carbon dioxide [cytoplasm] + diphosphate [cytoplasm] + nicotinic acid D-ribonucleotide [cytoplasm]\n",
      "0.2040325007523314 - r_0800: ATP [cytoplasm] + GDP [cytoplasm] --> ADP [cytoplasm] + GTP [cytoplasm]\n",
      "0.40806500150466324 - r_0831: coenzyme A [mitochondrion] + S(8)-succinyldihydrolipoamide [mitochondrion] --> dihydrolipoamide [mitochondrion] + succinyl-CoA [mitochondrion]\n",
      "0.40806500150466324 - r_0832: 2-oxoglutarate [mitochondrion] + H+ [mitochondrion] + lipoamide [mitochondrion] --> carbon dioxide [mitochondrion] + S(8)-succinyldihydrolipoamide [mitochondrion]\n",
      "0.2040325007523314 - r_0855: 5'-phosphoribosyl-N-formylglycineamidine [cytoplasm] + ATP [cytoplasm] --> 5'-phosphoribosyl-5-aminoimidazole [cytoplasm] + ADP [cytoplasm] + 2.0 H+ [cytoplasm] + phosphate [cytoplasm]\n",
      "0.4614504965391631 - r_0886: ATP [cytoplasm] + D-fructose 6-phosphate [cytoplasm] --> ADP [cytoplasm] + D-fructose 1,6-bisphosphate [cytoplasm] + H+ [cytoplasm]\n",
      "0.18742100511618698 - r_0889: 6-phospho-D-gluconate [cytoplasm] + NADP(+) [cytoplasm] --> carbon dioxide [cytoplasm] + D-ribulose 5-phosphate [cytoplasm] + NADPH [cytoplasm]\n",
      "0.4412879927775055 - r_0891: 3-phosphonato-D-glycerate(3-) [cytoplasm] + NAD [cytoplasm] --> 3-phospho-hydroxypyruvate [cytoplasm] + H+ [cytoplasm] + NADH [cytoplasm]\n",
      "0.8493529942821684 - r_0892: 1,3-bisphospho-D-glycerate [cytoplasm] + ADP [cytoplasm] <=> 3-phosphonato-D-glycerate(3-) [cytoplasm] + ATP [cytoplasm]\n",
      "0.40806500150466285 - r_0893: 3-phosphonato-D-glycerate(3-) [cytoplasm] <=> 2-phospho-D-glyceric acid [cytoplasm]\n",
      "0.2040325007523314 - r_0908: ATP [cytoplasm] + L-aspartate [cytoplasm] + phosphoribosyl-carboxy-aminoimidazole [cytoplasm] --> 5'-phosphoribosyl-4-(N-succinocarboxamide)-5-aminoimidazole [cytoplasm] + ADP [cytoplasm] + H+ [cytoplasm] + phosphate [cytoplasm]\n",
      "0.2040325007523314 - r_0911: 5'-phosphoribosyl-5-aminoimidazole [cytoplasm] + ATP [cytoplasm] + carbon dioxide [cytoplasm] + H2O [cytoplasm] --> ADP [cytoplasm] + H+ [cytoplasm] + phosphate [cytoplasm] + phosphoribosyl-carboxy-aminoimidazole [cytoplasm]\n",
      "0.2040325007523314 - r_0912: 10-formyl-THF [cytoplasm] + AICAR [cytoplasm] <=> phosphoribosyl-formamido-carboxamide [cytoplasm] + THF [cytoplasm]\n",
      "0.20403250075233162 - r_0913: N-(5-phospho-beta-D-ribosyl)anthranilate [cytoplasm] --> 1-(2-carboxyphenylamino)-1-deoxy-D-ribulose 5-phosphate [cytoplasm]\n",
      "0.2040325007523314 - r_0914: 5-phosphoribosylamine [cytoplasm] + ATP [cytoplasm] + L-glycine [cytoplasm] --> 5-phospho-ribosyl-glycineamide [cytoplasm] + ADP [cytoplasm] + H+ [cytoplasm] + phosphate [cytoplasm]\n",
      "0.2040325007523314 - r_0915: H2O [cytoplasm] + L-glutamine [cytoplasm] + PRPP [cytoplasm] --> 5-phosphoribosylamine [cytoplasm] + diphosphate [cytoplasm] + L-glutamate [cytoplasm]\n",
      "0.6120975022569947 - r_0916: ATP [cytoplasm] + ribose-5-phosphate [cytoplasm] --> AMP [cytoplasm] + H+ [cytoplasm] + PRPP [cytoplasm]\n",
      "0.4412879927775055 - r_0917: 3-phospho-serine [cytoplasm] + H2O [cytoplasm] --> L-serine [cytoplasm] + phosphate [cytoplasm]\n",
      "0.4412879927775055 - r_0918: 3-phospho-hydroxypyruvate [cytoplasm] + L-glutamate [cytoplasm] --> 2-oxoglutarate [cytoplasm] + 3-phospho-serine [cytoplasm]\n",
      "0.40806500150466324 - r_0961: coenzyme A [mitochondrion] + NAD [mitochondrion] + pyruvate [mitochondrion] --> acetyl-CoA [mitochondrion] + carbon dioxide [mitochondrion] + NADH [mitochondrion]\n",
      "0.538549503460837 - r_0982: D-ribulose 5-phosphate [cytoplasm] <=> ribose-5-phosphate [cytoplasm]\n",
      "0.20403250075233162 - r_0996: 3-dehydroshikimate [cytoplasm] + H+ [cytoplasm] + NADPH [cytoplasm] --> NADP(+) [cytoplasm] + shikimate [cytoplasm]\n",
      "0.20403250075233162 - r_0997: ATP [cytoplasm] + shikimate [cytoplasm] --> 3-phosphoshikimic acid [cytoplasm] + ADP [cytoplasm] + H+ [cytoplasm]\n",
      "0.40806500150466324 - r_1021: succinate [mitochondrion] + ubiquinone-6 [mitochondrion] <=> fumarate [mitochondrion] + ubiquinol-6 [mitochondrion]\n",
      "0.40806500150466324 - r_1022: ADP [mitochondrion] + phosphate [mitochondrion] + succinyl-CoA [mitochondrion] --> ATP [mitochondrion] + coenzyme A [mitochondrion] + succinate [mitochondrion]\n",
      "0.4614504965391631 - r_1054: dihydroxyacetone phosphate [cytoplasm] <=> glyceraldehyde 3-phosphate [cytoplasm]\n",
      "0.20403250075233162 - r_1055: 1-C-(indol-3-yl)glycerol 3-phosphate [cytoplasm] + L-serine [cytoplasm] --> glyceraldehyde 3-phosphate [cytoplasm] + H2O [cytoplasm] + L-tryptophan [cytoplasm]\n",
      "0.20403250075233162 - r_2114: 2-amino-3-carboxymuconate-6-semialdehyde [cytoplasm] --> H2O [cytoplasm] + quinolinate [cytoplasm]\n",
      "0.4080650015041037 - r_2305: cis-aconitate [cytoplasm] + H2O [cytoplasm] <=> isocitrate [cytoplasm]\n",
      "5.034366536262603 - r_1110: ADP [cytoplasm] + ATP [mitochondrion] <=> ADP [mitochondrion] + ATP [cytoplasm]\n",
      "0.20403250075176899 - r_1112: 2-oxoglutarate [cytoplasm] + citrate [mitochondrion] <=> 2-oxoglutarate [mitochondrion] + citrate [cytoplasm]\n",
      "1.42822750526632 - r_1115: ammonium [extracellular] <=> ammonium [cytoplasm]\n",
      "1.0 - r_1166: D-glucose [extracellular] --> D-glucose [cytoplasm]\n",
      "0.2040325007523347 - r_1194: L-glutamate [cytoplasm] --> L-glutamate [mitochondrion]\n",
      "0.4080650015046583 - r_1244: H+ [extracellular] + phosphate [extracellular] <=> H+ [cytoplasm] + phosphate [cytoplasm]\n",
      "2.7900090279869514 - r_1245: H+ [cytoplasm] + phosphate [cytoplasm] --> H+ [mitochondrion] + phosphate [mitochondrion]\n",
      "0.40806500150466324 - r_2034: H+ [cytoplasm] + pyruvate [cytoplasm] --> H+ [mitochondrion] + pyruvate [mitochondrion]\n",
      "0.2040325007523347 - r_1596: (S)-3-methyl-2-oxopentanoate [cytoplasm] <=> (S)-3-methyl-2-oxopentanoate [mitochondrion]\n",
      "1.7153174842010361 - r_1672: carbon dioxide [extracellular] --> \n",
      "1.7153174842010361 - r_1697: carbon dioxide [cytoplasm] <=> carbon dioxide [extracellular]\n",
      "0.2040325007523347 - r_1708: D-erythrose 4-phosphate [cytoplasm] <=> D-erythrose 4-phosphate [mitochondrion]\n",
      "0.06644598254568498 - r_1811: L-glycine [cytoplasm] <=> L-glycine [mitochondrion]\n",
      "0.2040325007523347 - r_1898: L-isoleucine [mitochondrion] --> L-isoleucine [cytoplasm]\n",
      "1.7153174842010386 - r_1978: oxygen [cytoplasm] <=> oxygen [mitochondrion]\n",
      "2.3274149864580336 - r_1979: oxygen [extracellular] <=> oxygen [cytoplasm]\n",
      "1.020162503761658 - r_2032: diphosphate [cytoplasm] <=> diphosphate [mitochondrion]\n",
      "5.999999999999999 - r_2100: H2O [extracellular] <=> \n",
      "0.20403250075233162 - r_4226: 2-oxoglutarate [cytoplasm] + L-alanine [cytoplasm] <=> L-glutamate [cytoplasm] + pyruvate [cytoplasm]\n",
      "0.8161300030093199 - r_4235: ATP [cytoplasm] + D-glucose [cytoplasm] --> ADP [cytoplasm] + D-glucose 6-phosphate [cytoplasm]\n",
      "0.20403250075233162 - EX_s_1198[c]: NAD [cytoplasm] --> \n"
     ]
    }
   ],
   "source": [
    "def test_production(model, met_id):\n",
    "    # Add exchange reaction\n",
    "    ex_rxn_id = \"EX_\" + met_id\n",
    "    ex_rxn = cobra.Reaction(ex_rxn_id)\n",
    "    ex_rxn.lower_bound = 0\n",
    "    ex_rxn.upper_bound = +1000\n",
    "    ex_rxn.add_metabolites({model.metabolites.get_by_id(met_id): -1})\n",
    "    model.add_reactions([ex_rxn])\n",
    "    \n",
    "    # Test production:\n",
    "    model.objective = ex_rxn_id\n",
    "    solution = cobra.flux_analysis.pfba(model)\n",
    "    \n",
    "    #Display fluxes:\n",
    "    for reaction in model.reactions:\n",
    "        flux = solution.fluxes[reaction.id]\n",
    "        formula = reaction.build_reaction_string(use_metabolite_names=True)\n",
    "        if flux > 1e-3:\n",
    "            print(str(flux) + \" - \" + reaction.id + \": \" + formula)\n",
    "\n",
    "model.reactions.r_4046.lower_bound = 0\n",
    "test_production(model, \"s_1198[c]\")"
   ]
  },
  {
   "cell_type": "code",
   "execution_count": 17,
   "metadata": {},
   "outputs": [
    {
     "name": "stderr",
     "output_type": "stream",
     "text": [
      "Ignoring reaction 'EX_s_1198[c]' since it already exists.\n"
     ]
    }
   ],
   "source": [
    "model.reactions.r_1992.lower_bound = 0\n",
    "test_production(model, \"s_1198[c]\")"
   ]
  },
  {
   "cell_type": "code",
   "execution_count": null,
   "metadata": {},
   "outputs": [],
   "source": []
  }
 ],
 "metadata": {
  "kernelspec": {
   "display_name": "Python 3",
   "language": "python",
   "name": "python3"
  },
  "language_info": {
   "codemirror_mode": {
    "name": "ipython",
    "version": 3
   },
   "file_extension": ".py",
   "mimetype": "text/x-python",
   "name": "python",
   "nbconvert_exporter": "python",
   "pygments_lexer": "ipython3",
   "version": "3.7.6"
  }
 },
 "nbformat": 4,
 "nbformat_minor": 2
}
