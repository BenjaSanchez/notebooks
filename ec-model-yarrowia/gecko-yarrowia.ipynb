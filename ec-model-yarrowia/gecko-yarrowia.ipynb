{
 "cells": [
  {
   "cell_type": "markdown",
   "metadata": {},
   "source": [
    "# Using GECKO for metabolic engineering applications\n",
    "\n",
    "Benjamín J. Sánchez, 2020-09-10"
   ]
  },
  {
   "cell_type": "code",
   "execution_count": 1,
   "metadata": {},
   "outputs": [
    {
     "name": "stderr",
     "output_type": "stream",
     "text": [
      "c:\\users\\bejsab\\appdata\\local\\continuum\\anaconda3\\envs\\notebooks\\lib\\site-packages\\cameo\\visualization\\plotting\\__init__.py:52 UserWarning: Cannot import any plotting library. Please install one of 'plotly', 'bokeh' or 'ggplot' if you want to use any plotting function.\n"
     ]
    }
   ],
   "source": [
    "# requirements\n",
    "import numpy as np\n",
    "import pandas as pd\n",
    "\n",
    "import os\n",
    "import sys\n",
    "import wget\n",
    "\n",
    "from cobra import Reaction\n",
    "from cobra.flux_analysis import pfba\n",
    "from cobra.io import load_json_model\n",
    "\n",
    "from cameo.strain_design.deterministic.flux_variability_based import FSEOF"
   ]
  },
  {
   "cell_type": "markdown",
   "metadata": {},
   "source": [
    "## 1. Loading models\n",
    "\n",
    "Load the metabolic and enzyme constrained models:"
   ]
  },
  {
   "cell_type": "code",
   "execution_count": 2,
   "metadata": {},
   "outputs": [
    {
     "name": "stdout",
     "output_type": "stream",
     "text": [
      "Using license file C:\\Users\\bejsab\\gurobi.lic\n",
      "Academic license - for non-commercial use only\n"
     ]
    }
   ],
   "source": [
    "# Metabolic model:\n",
    "wget.download(\"https://github.com/BenjaSanchez/notebooks/blob/master/caffeine-fix-yarrowia/iYali-model.json?raw=true\", \"model.json\", bar = False)\n",
    "model = load_json_model(\"model.json\")\n",
    "os.remove(\"model.json\")\n",
    "\n",
    "# Enzyme-constrained model:\n",
    "wget.download(\"https://github.com/BenjaSanchez/notebooks/blob/master/caffeine-fix-yarrowia/iYali-ecModel.json?raw=true\", \"ec_model.json\", bar = False)\n",
    "ec_model = load_json_model(\"ec_model.json\")\n",
    "os.remove(\"ec_model.json\")"
   ]
  },
  {
   "cell_type": "markdown",
   "metadata": {},
   "source": [
    "The model has two differences with a standard COBRA model. First, the reactions contain another metabolite: the enyzme itself."
   ]
  },
  {
   "cell_type": "code",
   "execution_count": 3,
   "metadata": {},
   "outputs": [
    {
     "data": {
      "text/html": [
       "\n",
       "        <table>\n",
       "            <tr>\n",
       "                <td><strong>Reaction identifier</strong></td><td>NDP7</td>\n",
       "            </tr><tr>\n",
       "                <td><strong>Name</strong></td><td>nucleoside diphosphatase</td>\n",
       "            </tr><tr>\n",
       "                <td><strong>Memory address</strong></td>\n",
       "                <td>0x016d117c1148</td>\n",
       "            </tr><tr>\n",
       "                <td><strong>Stoichiometry</strong></td>\n",
       "                <td>\n",
       "                    <p style='text-align:right'>h2o_c + udp_c --> h_c + pi_c + ump_c</p>\n",
       "                    <p style='text-align:right'>H2O + UDP --> H+ + phosphate + UMP</p>\n",
       "                </td>\n",
       "            </tr><tr>\n",
       "                <td><strong>GPR</strong></td><td>YALI0_C19712g</td>\n",
       "            </tr><tr>\n",
       "                <td><strong>Lower bound</strong></td><td>0.0</td>\n",
       "            </tr><tr>\n",
       "                <td><strong>Upper bound</strong></td><td>1000.0</td>\n",
       "            </tr>\n",
       "        </table>\n",
       "        "
      ],
      "text/plain": [
       "<Reaction NDP7 at 0x16d117c1148>"
      ]
     },
     "execution_count": 3,
     "metadata": {},
     "output_type": "execute_result"
    }
   ],
   "source": [
    "model.reactions.NDP7"
   ]
  },
  {
   "cell_type": "code",
   "execution_count": 4,
   "metadata": {},
   "outputs": [
    {
     "data": {
      "text/html": [
       "\n",
       "        <table>\n",
       "            <tr>\n",
       "                <td><strong>Reaction identifier</strong></td><td>NDP7No1</td>\n",
       "            </tr><tr>\n",
       "                <td><strong>Name</strong></td><td>nucleoside diphosphatase (No1)</td>\n",
       "            </tr><tr>\n",
       "                <td><strong>Memory address</strong></td>\n",
       "                <td>0x016d12fd5648</td>\n",
       "            </tr><tr>\n",
       "                <td><strong>Stoichiometry</strong></td>\n",
       "                <td>\n",
       "                    <p style='text-align:right'>h2o_c + 3.4336e-06 prot_Q6CBD9 + udp_c --> h_c + pi_c + ump_c</p>\n",
       "                    <p style='text-align:right'>H2O + 3.4336e-06 prot_Q6CBD9 + UDP --> H+ + phosphate + UMP</p>\n",
       "                </td>\n",
       "            </tr><tr>\n",
       "                <td><strong>GPR</strong></td><td>YALI0_C19712g</td>\n",
       "            </tr><tr>\n",
       "                <td><strong>Lower bound</strong></td><td>0.0</td>\n",
       "            </tr><tr>\n",
       "                <td><strong>Upper bound</strong></td><td>1000.0</td>\n",
       "            </tr>\n",
       "        </table>\n",
       "        "
      ],
      "text/plain": [
       "<Reaction NDP7No1 at 0x16d12fd5648>"
      ]
     },
     "execution_count": 4,
     "metadata": {},
     "output_type": "execute_result"
    }
   ],
   "source": [
    "ec_model.reactions.NDP7No1"
   ]
  },
  {
   "cell_type": "code",
   "execution_count": 5,
   "metadata": {},
   "outputs": [
    {
     "data": {
      "text/html": [
       "\n",
       "        <table>\n",
       "            <tr>\n",
       "                <td><strong>Metabolite identifier</strong></td><td>prot_Q6CBD9</td>\n",
       "            </tr><tr>\n",
       "                <td><strong>Name</strong></td><td>prot_Q6CBD9</td>\n",
       "            </tr><tr>\n",
       "                <td><strong>Memory address</strong></td>\n",
       "                <td>0x016d122e5788</td>\n",
       "            </tr><tr>\n",
       "                <td><strong>Formula</strong></td><td></td>\n",
       "            </tr><tr>\n",
       "                <td><strong>Compartment</strong></td><td>c</td>\n",
       "            </tr><tr>\n",
       "                <td><strong>In 12 reaction(s)</strong></td><td>\n",
       "                    NDP3No1, NTP5No1, prot_Q6CBD9_exchange, CDPPHNo1, NDP7No1, y300074No1, IDPANo1, NTP3No1, y300075No1, ITPANo1, NDP1No1, NDP8exNo1</td>\n",
       "            </tr>\n",
       "        </table>"
      ],
      "text/plain": [
       "<Metabolite prot_Q6CBD9 at 0x16d122e5788>"
      ]
     },
     "execution_count": 5,
     "metadata": {},
     "output_type": "execute_result"
    }
   ],
   "source": [
    "ec_model.metabolites.prot_Q6CBD9"
   ]
  },
  {
   "cell_type": "markdown",
   "metadata": {},
   "source": [
    "**NB:** All protein ids follow the form `prot_UNIPROT`.\n",
    "\n",
    "The second difference is the existence of _protein exchange reactions_. These protein exchanges follow the naming `prot_UNIPROT_exchange`."
   ]
  },
  {
   "cell_type": "code",
   "execution_count": 6,
   "metadata": {},
   "outputs": [
    {
     "data": {
      "text/html": [
       "\n",
       "        <table>\n",
       "            <tr>\n",
       "                <td><strong>Reaction identifier</strong></td><td>prot_Q6CBD9_exchange</td>\n",
       "            </tr><tr>\n",
       "                <td><strong>Name</strong></td><td>prot_Q6CBD9_exchange</td>\n",
       "            </tr><tr>\n",
       "                <td><strong>Memory address</strong></td>\n",
       "                <td>0x016d1381c808</td>\n",
       "            </tr><tr>\n",
       "                <td><strong>Stoichiometry</strong></td>\n",
       "                <td>\n",
       "                    <p style='text-align:right'> --> prot_Q6CBD9</p>\n",
       "                    <p style='text-align:right'> --> prot_Q6CBD9</p>\n",
       "                </td>\n",
       "            </tr><tr>\n",
       "                <td><strong>GPR</strong></td><td>YALI0_C19712g</td>\n",
       "            </tr><tr>\n",
       "                <td><strong>Lower bound</strong></td><td>0.0</td>\n",
       "            </tr><tr>\n",
       "                <td><strong>Upper bound</strong></td><td>1000.0</td>\n",
       "            </tr>\n",
       "        </table>\n",
       "        "
      ],
      "text/plain": [
       "<Reaction prot_Q6CBD9_exchange at 0x16d1381c808>"
      ]
     },
     "execution_count": 6,
     "metadata": {},
     "output_type": "execute_result"
    }
   ],
   "source": [
    "ec_model.reactions.prot_Q6CBD9_exchange"
   ]
  },
  {
   "cell_type": "markdown",
   "metadata": {},
   "source": [
    "By putting an upper bound on these exchanges, we can integrate proteomics data into the model and treat it as an usual COBRA model without further changes.\n",
    "\n",
    "**NB:** Without any additional constraints, both models predict more or less the same using simple FBA simulations:"
   ]
  },
  {
   "cell_type": "code",
   "execution_count": 7,
   "metadata": {},
   "outputs": [
    {
     "data": {
      "text/html": [
       "<div>\n",
       "<style scoped>\n",
       "    .dataframe tbody tr th:only-of-type {\n",
       "        vertical-align: middle;\n",
       "    }\n",
       "\n",
       "    .dataframe tbody tr th {\n",
       "        vertical-align: top;\n",
       "    }\n",
       "\n",
       "    .dataframe thead tr th {\n",
       "        text-align: left;\n",
       "    }\n",
       "</style>\n",
       "<table border=\"1\" class=\"dataframe\">\n",
       "  <thead>\n",
       "    <tr>\n",
       "      <th></th>\n",
       "      <th colspan=\"2\" halign=\"left\">IN_FLUXES</th>\n",
       "      <th colspan=\"2\" halign=\"left\">OUT_FLUXES</th>\n",
       "      <th colspan=\"2\" halign=\"left\">OBJECTIVES</th>\n",
       "    </tr>\n",
       "    <tr>\n",
       "      <th></th>\n",
       "      <th>ID</th>\n",
       "      <th>FLUX</th>\n",
       "      <th>ID</th>\n",
       "      <th>FLUX</th>\n",
       "      <th>ID</th>\n",
       "      <th>FLUX</th>\n",
       "    </tr>\n",
       "  </thead>\n",
       "  <tbody>\n",
       "    <tr>\n",
       "      <th>0</th>\n",
       "      <td>h_e</td>\n",
       "      <td>8.244823</td>\n",
       "      <td>h2o_e</td>\n",
       "      <td>13.001930</td>\n",
       "      <td>xBIOMASS</td>\n",
       "      <td>0.105692</td>\n",
       "    </tr>\n",
       "    <tr>\n",
       "      <th>1</th>\n",
       "      <td>o2_e</td>\n",
       "      <td>1.846390</td>\n",
       "      <td>co2_e</td>\n",
       "      <td>1.979554</td>\n",
       "      <td>NaN</td>\n",
       "      <td>NaN</td>\n",
       "    </tr>\n",
       "    <tr>\n",
       "      <th>2</th>\n",
       "      <td>glc__D_e</td>\n",
       "      <td>1.000000</td>\n",
       "      <td>NaN</td>\n",
       "      <td>NaN</td>\n",
       "      <td>NaN</td>\n",
       "      <td>NaN</td>\n",
       "    </tr>\n",
       "    <tr>\n",
       "      <th>3</th>\n",
       "      <td>nh3_e</td>\n",
       "      <td>0.945233</td>\n",
       "      <td>NaN</td>\n",
       "      <td>NaN</td>\n",
       "      <td>NaN</td>\n",
       "      <td>NaN</td>\n",
       "    </tr>\n",
       "  </tbody>\n",
       "</table>\n",
       "</div>"
      ],
      "text/plain": [
       "<cobra.core.summary.model_summary.ModelSummary at 0x16d12136448>"
      ]
     },
     "execution_count": 7,
     "metadata": {},
     "output_type": "execute_result"
    }
   ],
   "source": [
    "model.optimize()\n",
    "model.summary()"
   ]
  },
  {
   "cell_type": "code",
   "execution_count": 8,
   "metadata": {},
   "outputs": [
    {
     "data": {
      "text/html": [
       "<div>\n",
       "<style scoped>\n",
       "    .dataframe tbody tr th:only-of-type {\n",
       "        vertical-align: middle;\n",
       "    }\n",
       "\n",
       "    .dataframe tbody tr th {\n",
       "        vertical-align: top;\n",
       "    }\n",
       "\n",
       "    .dataframe thead tr th {\n",
       "        text-align: left;\n",
       "    }\n",
       "</style>\n",
       "<table border=\"1\" class=\"dataframe\">\n",
       "  <thead>\n",
       "    <tr>\n",
       "      <th></th>\n",
       "      <th colspan=\"2\" halign=\"left\">IN_FLUXES</th>\n",
       "      <th colspan=\"2\" halign=\"left\">OUT_FLUXES</th>\n",
       "      <th colspan=\"2\" halign=\"left\">OBJECTIVES</th>\n",
       "    </tr>\n",
       "    <tr>\n",
       "      <th></th>\n",
       "      <th>ID</th>\n",
       "      <th>FLUX</th>\n",
       "      <th>ID</th>\n",
       "      <th>FLUX</th>\n",
       "      <th>ID</th>\n",
       "      <th>FLUX</th>\n",
       "    </tr>\n",
       "  </thead>\n",
       "  <tbody>\n",
       "    <tr>\n",
       "      <th>0</th>\n",
       "      <td>h_e</td>\n",
       "      <td>8.786245</td>\n",
       "      <td>NaN</td>\n",
       "      <td>NaN</td>\n",
       "      <td>xBIOMASS</td>\n",
       "      <td>0.103721</td>\n",
       "    </tr>\n",
       "    <tr>\n",
       "      <th>1</th>\n",
       "      <td>o2_e</td>\n",
       "      <td>1.926063</td>\n",
       "      <td>NaN</td>\n",
       "      <td>NaN</td>\n",
       "      <td>NaN</td>\n",
       "      <td>NaN</td>\n",
       "    </tr>\n",
       "    <tr>\n",
       "      <th>2</th>\n",
       "      <td>glc__D_e</td>\n",
       "      <td>1.000000</td>\n",
       "      <td>NaN</td>\n",
       "      <td>NaN</td>\n",
       "      <td>NaN</td>\n",
       "      <td>NaN</td>\n",
       "    </tr>\n",
       "    <tr>\n",
       "      <th>3</th>\n",
       "      <td>nh3_e</td>\n",
       "      <td>0.927612</td>\n",
       "      <td>NaN</td>\n",
       "      <td>NaN</td>\n",
       "      <td>NaN</td>\n",
       "      <td>NaN</td>\n",
       "    </tr>\n",
       "  </tbody>\n",
       "</table>\n",
       "</div>"
      ],
      "text/plain": [
       "<cobra.core.summary.model_summary.ModelSummary at 0x16d12133348>"
      ]
     },
     "execution_count": 8,
     "metadata": {},
     "output_type": "execute_result"
    }
   ],
   "source": [
    "ec_model.optimize()\n",
    "ec_model.summary()"
   ]
  },
  {
   "cell_type": "markdown",
   "metadata": {},
   "source": [
    "## 2. Metabolic engineering applications of models\n",
    "\n",
    "We will optimize for the production of:"
   ]
  },
  {
   "cell_type": "code",
   "execution_count": 9,
   "metadata": {},
   "outputs": [
    {
     "data": {
      "text/html": [
       "\n",
       "        <table>\n",
       "            <tr>\n",
       "                <td><strong>Metabolite identifier</strong></td><td>pmtcoa_c</td>\n",
       "            </tr><tr>\n",
       "                <td><strong>Name</strong></td><td>palmitoyl-CoA</td>\n",
       "            </tr><tr>\n",
       "                <td><strong>Memory address</strong></td>\n",
       "                <td>0x016d10b79b08</td>\n",
       "            </tr><tr>\n",
       "                <td><strong>Formula</strong></td><td>C37H62N7O17P3S</td>\n",
       "            </tr><tr>\n",
       "                <td><strong>Compartment</strong></td><td>c</td>\n",
       "            </tr><tr>\n",
       "                <td><strong>In 5 reaction(s)</strong></td><td>\n",
       "                    y002221, y003577, y001995, y003517, y002140</td>\n",
       "            </tr>\n",
       "        </table>"
      ],
      "text/plain": [
       "<Metabolite pmtcoa_c at 0x16d10b79b08>"
      ]
     },
     "execution_count": 9,
     "metadata": {},
     "output_type": "execute_result"
    }
   ],
   "source": [
    "model.metabolites.pmtcoa_c"
   ]
  },
  {
   "cell_type": "markdown",
   "metadata": {},
   "source": [
    "For this we add to both models a reaction that \"burns\" the palmitoyl from the palmitoyl-CoA:"
   ]
  },
  {
   "cell_type": "code",
   "execution_count": 10,
   "metadata": {},
   "outputs": [
    {
     "name": "stdout",
     "output_type": "stream",
     "text": [
      "test: pmtcoa_c --> coa_c\n",
      "test: pmtcoa_c --> coa_c\n"
     ]
    }
   ],
   "source": [
    "def add_pmt_rxn(model):\n",
    "    reaction = Reaction('test')\n",
    "    reaction.name = 'test rxn'\n",
    "    reaction.lower_bound = 0\n",
    "    reaction.upper_bound = 1000\n",
    "    reaction.add_metabolites({\n",
    "        model.metabolites.pmtcoa_c: -1.0,\n",
    "        model.metabolites.coa_c: +1})\n",
    "    model.add_reactions([reaction])\n",
    "    print(reaction)\n",
    "\n",
    "add_pmt_rxn(model)\n",
    "add_pmt_rxn(ec_model)"
   ]
  },
  {
   "cell_type": "markdown",
   "metadata": {},
   "source": [
    "Now we can perform any typical analysis, e.g. FSEOF:"
   ]
  },
  {
   "cell_type": "code",
   "execution_count": 11,
   "metadata": {},
   "outputs": [
    {
     "name": "stdout",
     "output_type": "stream",
     "text": [
      "                 1         2         3         4         5         6  \\\n",
      "y002198  -0.000013 -0.000012 -0.000011 -0.000010 -0.000008 -0.000007   \n",
      "y003512  -0.000013 -0.000012 -0.000011 -0.000010 -0.000008 -0.000007   \n",
      "y003515  -0.000033 -0.000030 -0.000026 -0.000023 -0.000020 -0.000017   \n",
      "y002196  -0.000117 -0.000105 -0.000094 -0.000083 -0.000072 -0.000060   \n",
      "y003510  -0.000117 -0.000105 -0.000094 -0.000083 -0.000072 -0.000060   \n",
      "y002199  -0.000206 -0.000186 -0.000166 -0.000146 -0.000126 -0.000106   \n",
      "y003513  -0.000206 -0.000186 -0.000166 -0.000146 -0.000126 -0.000106   \n",
      "y003543  -0.000304 -0.000274 -0.000245 -0.000215 -0.000186 -0.000157   \n",
      "y103554  -0.001205 -0.001089 -0.000972 -0.000855 -0.000738 -0.000622   \n",
      "y300018  -0.002231 -0.002015 -0.001799 -0.001583 -0.001367 -0.001151   \n",
      "SHSL1    -0.004529 -0.004090 -0.003652 -0.003213 -0.002774 -0.002336   \n",
      "GLYC3Ptm -0.004577 -0.004134 -0.003690 -0.003247 -0.002804 -0.002361   \n",
      "DHAPtm   -0.004658 -0.004207 -0.003756 -0.003305 -0.002854 -0.002402   \n",
      "y003520  -0.005568 -0.005029 -0.004490 -0.003950 -0.003411 -0.002872   \n",
      "y003527  -0.008506 -0.007682 -0.006859 -0.006035 -0.005211 -0.004387   \n",
      "y002125  -0.010360 -0.009356 -0.008353 -0.007349 -0.006346 -0.005343   \n",
      "y003530  -0.017013 -0.015365 -0.013717 -0.012069 -0.010421 -0.008774   \n",
      "y003526  -0.027854 -0.025156 -0.022458 -0.019760 -0.017062 -0.014365   \n",
      "y002119  -0.037387 -0.033766 -0.030145 -0.026524 -0.022902 -0.019281   \n",
      "FBA3      0.737824  0.738448  0.739072  0.739696  0.740320  0.740943   \n",
      "\n",
      "                 7         8         9        10         slope        r2  \n",
      "y002198  -0.000006 -0.000004 -0.000003 -0.000002  16156.195312  0.994886  \n",
      "y003512  -0.000006 -0.000004 -0.000003 -0.000002  16156.195312  0.994886  \n",
      "y003515  -0.000014 -0.000011 -0.000007 -0.000004   6467.847543  0.999042  \n",
      "y002196  -0.000049 -0.000038 -0.000026 -0.000014   1820.539518  0.999869  \n",
      "y003510  -0.000049 -0.000038 -0.000026 -0.000014   1820.539518  0.999869  \n",
      "y002199  -0.000086 -0.000066 -0.000046 -0.000025   1031.163838  0.999982  \n",
      "y003513  -0.000086 -0.000066 -0.000046 -0.000025   1031.163838  0.999982  \n",
      "y003543  -0.000127 -0.000098 -0.000068 -0.000036    698.874555  0.999925  \n",
      "y103554  -0.000505 -0.000388 -0.000270 -0.000144    176.166053  0.999946  \n",
      "y300018  -0.000935 -0.000719 -0.000499 -0.000267     95.179349  0.999947  \n",
      "SHSL1    -0.001897 -0.001458 -0.001014 -0.000542     46.886805  0.999950  \n",
      "GLYC3Ptm -0.001917 -0.001474 -0.001024 -0.000547     46.388203  0.999948  \n",
      "DHAPtm   -0.001951 -0.001500 -0.001043 -0.000557     45.583808  0.999949  \n",
      "y003520  -0.002332 -0.001793 -0.001246 -0.000666     38.132674  0.999950  \n",
      "y003527  -0.003563 -0.002739 -0.001904 -0.001017     24.962090  0.999948  \n",
      "y002125  -0.004339 -0.003336 -0.002319 -0.001239     20.496654  0.999949  \n",
      "y003530  -0.007126 -0.005478 -0.003808 -0.002034     12.480731  0.999949  \n",
      "y003526  -0.011667 -0.008969 -0.006234 -0.003331      7.623175  0.999949  \n",
      "y002119  -0.015660 -0.012039 -0.008367 -0.004471      5.679277  0.999949  \n",
      "FBA3      0.741567  0.742191  0.762222  0.765169      4.889869  0.660210  \n",
      "                   1         2         3         4         5         6  \\\n",
      "FBA3No1     0.750671  0.751264  0.751856  0.752448  0.753041  0.753633   \n",
      "PFK_3No1    0.750671  0.751264  0.751856  0.752448  0.753041  0.753633   \n",
      "TPINo1      0.746103  0.747141  0.748179  0.749218  0.750256  0.751294   \n",
      "RPINo1      0.158128  0.166436  0.174744  0.183052  0.191360  0.199668   \n",
      "TKT1No1     0.098046  0.112217  0.126389  0.140560  0.154732  0.168903   \n",
      "TKT2No1     0.057978  0.076060  0.094142  0.112223  0.130305  0.148387   \n",
      "y002140No1  0.022581  0.042797  0.063014  0.083230  0.103447  0.123663   \n",
      "PGKNo1      1.559193  1.578472  1.597751  1.617030  1.636310  1.655589   \n",
      "GAPDNo1     1.559193  1.578472  1.597751  1.617030  1.636310  1.655589   \n",
      "y001697     2.080528  2.104313  2.128097  2.151881  2.175665  2.199449   \n",
      "RPENo1      0.156023  0.188277  0.220530  0.252784  0.285037  0.317290   \n",
      "arm_PGL     0.314151  0.354713  0.395274  0.435836  0.476397  0.516958   \n",
      "GNDNo1      0.314151  0.354713  0.395274  0.435836  0.476397  0.516958   \n",
      "G6PDH2rNo1  0.314151  0.354713  0.395274  0.435836  0.476397  0.516958   \n",
      "PGLNo2      0.314151  0.354713  0.395274  0.435836  0.476397  0.516958   \n",
      "ENONo1      1.066376  1.141669  1.216961  1.292254  1.367546  1.442839   \n",
      "PGMNo1      1.066376  1.141669  1.216961  1.292254  1.367546  1.442839   \n",
      "PYKNo1      0.986241  1.069354  1.152467  1.235580  1.318693  1.401806   \n",
      "HCO3E       0.577017  0.677647  0.778277  0.878906  0.979536  1.080165   \n",
      "PPAmNo1     0.582541  0.705052  0.827563  0.950074  1.072584  1.195095   \n",
      "\n",
      "                   7         8         9        10     slope        r2  \n",
      "FBA3No1     0.754226  0.754818  0.755411  0.777585  5.294826  0.512839  \n",
      "PFK_3No1    0.754226  0.754818  0.755411  0.777585  5.294826  0.512839  \n",
      "TPINo1      0.752332  0.753371  0.754409  0.777037  5.258118  0.613360  \n",
      "RPINo1      0.207976  0.216284  0.224592  0.211487  2.670334  0.940055  \n",
      "TKT1No1     0.183075  0.197246  0.211418  0.204288  1.537427  0.981256  \n",
      "TKT2No1     0.166469  0.184551  0.202633  0.199486  1.192094  0.988904  \n",
      "y002140No1  0.143880  0.164097  0.184313  0.204526  1.010408  1.000000  \n",
      "PGKNo1      1.674868  1.694147  1.713426  1.754641  0.988610  0.991879  \n",
      "GAPDNo1     1.674868  1.694147  1.713426  1.754641  0.988610  0.991879  \n",
      "y001697     2.223233  2.247017  2.270801  2.301226  0.845451  0.999460  \n",
      "RPENo1      0.349544  0.381797  0.414051  0.403774  0.671645  0.985813  \n",
      "arm_PGL     0.557520  0.598081  0.638643  0.615261  0.538274  0.979248  \n",
      "GNDNo1      0.557520  0.598081  0.638643  0.615261  0.538274  0.979248  \n",
      "G6PDH2rNo1  0.557520  0.598081  0.638643  0.615261  0.538274  0.979248  \n",
      "PGLNo2      0.557520  0.598081  0.638643  0.615261  0.538274  0.979248  \n",
      "ENONo1      1.518131  1.593423  1.668716  1.742339  0.271626  0.999996  \n",
      "PGMNo1      1.518131  1.593423  1.668716  1.742339  0.271626  0.999996  \n",
      "PYKNo1      1.484919  1.568032  1.651145  1.732737  0.246016  0.999998  \n",
      "HCO3E       1.180795  1.281425  1.382054  1.489060  0.202284  0.999972  \n",
      "PPAmNo1     1.317606  1.440116  1.562627  1.700297  0.165597  0.999892  \n"
     ]
    }
   ],
   "source": [
    "biomass_rxn_id = 'xBIOMASS'\n",
    "test_rxn_id = 'test'\n",
    "\n",
    "def sorted_fseof(model, biomass_rxn_id, test_rxn_id):\n",
    "    # Revert the model to its original state:\n",
    "    model.reactions.get_by_id(biomass_rxn_id).lower_bound = 0\n",
    "    model.reactions.get_by_id(test_rxn_id).lower_bound = 0\n",
    "    model.objective = biomass_rxn_id\n",
    "    # Run analysis\n",
    "    fseof = FSEOF(model)\n",
    "    fseof_result = fseof.run(target=model.reactions.get_by_id(test_rxn_id))\n",
    "    fseof_df = fseof_result.data_frame\n",
    "    # For each row, create a linear model with the test exchange as prediction, and store the slope of said model:\n",
    "    fseof_df[\"slope\"] = np.nan\n",
    "    fseof_df[\"r2\"] = np.nan\n",
    "    for index, row in fseof_df.iterrows():\n",
    "        if sum(row) == 0:\n",
    "            fseof_df.loc[index,\"slope\"] = 0\n",
    "        else:\n",
    "            x = row.iloc[:-2]\n",
    "            y = fseof_df.loc[test_rxn_id].iloc[:-2]\n",
    "            A = np.vstack([x, np.ones(len(x))]).T\n",
    "            m, c = np.linalg.lstsq(A, y, rcond=None)[0]\n",
    "            resid = np.linalg.lstsq(A, y, rcond=None)[1]\n",
    "            r2 = 1 - resid / (y.size * y.var())\n",
    "            fseof_df.loc[index,\"slope\"] = m\n",
    "            try:\n",
    "                fseof_df.loc[index,\"r2\"] = r2\n",
    "            except:\n",
    "                fseof_df.loc[index,\"r2\"] = 0\n",
    "    # Sort the dataframe by slope and print only rows with R2 > 0.5:\n",
    "    fseof_df = fseof_df.sort_values(by=[\"slope\"], ascending=False)\n",
    "    print(fseof_df.loc[fseof_df.index != \"test\"].loc[fseof_df[\"r2\"] > 0.5].iloc[:20, :])\n",
    "    return fseof_df\n",
    "\n",
    "# Run the FSEOF analysis for both models:\n",
    "fseof_df = sorted_fseof(model, biomass_rxn_id, test_rxn_id)\n",
    "ec_fseof_df = sorted_fseof(ec_model, biomass_rxn_id, test_rxn_id)"
   ]
  },
  {
   "cell_type": "markdown",
   "metadata": {},
   "source": [
    "## 3. Integrating proteomics in an ecModel\n",
    "\n",
    "We will now load some data.\n",
    "\n",
    "**NB:** Data should come in mmol/gDW units."
   ]
  },
  {
   "cell_type": "code",
   "execution_count": 12,
   "metadata": {},
   "outputs": [
    {
     "data": {
      "text/plain": [
       "<bound method Series.items of ids\n",
       "Q6C1I4    7.728810e-06\n",
       "Q6C4R6    2.452620e-06\n",
       "Q6C1I7    6.206630e-06\n",
       "Q6CB22    6.751220e-07\n",
       "Q9B6E8    6.036220e-06\n",
       "              ...     \n",
       "Q6CCV6    5.227950e-06\n",
       "Q6C5I0    9.825330e-06\n",
       "Q6C793    8.445740e-07\n",
       "Q6CEQ0    8.268360e-06\n",
       "Q6C3M8    6.827770e-06\n",
       "Name: data, Length: 3550, dtype: float64>"
      ]
     },
     "execution_count": 12,
     "metadata": {},
     "output_type": "execute_result"
    }
   ],
   "source": [
    "proteomics = pd.read_csv(\"fake-data.csv\", index_col=0, squeeze=True)\n",
    "proteomics.items"
   ]
  },
  {
   "cell_type": "markdown",
   "metadata": {},
   "source": [
    "We now add the data to the ecModel:"
   ]
  },
  {
   "cell_type": "code",
   "execution_count": 13,
   "metadata": {},
   "outputs": [],
   "source": [
    "# Add simulations to python's search path & import simulation functions:\n",
    "sys.path.append('../../simulations/src')\n",
    "from simulations.modeling.driven import limit_proteins, flexibilize_proteomics\n",
    "\n",
    "# Limit model with abundances:\n",
    "limit_proteins(ec_model, proteomics)"
   ]
  },
  {
   "cell_type": "code",
   "execution_count": 14,
   "metadata": {},
   "outputs": [
    {
     "data": {
      "text/html": [
       "<strong><em>Optimal</em> solution with objective value 0.001</strong><br><div>\n",
       "<style scoped>\n",
       "    .dataframe tbody tr th:only-of-type {\n",
       "        vertical-align: middle;\n",
       "    }\n",
       "\n",
       "    .dataframe tbody tr th {\n",
       "        vertical-align: top;\n",
       "    }\n",
       "\n",
       "    .dataframe thead th {\n",
       "        text-align: right;\n",
       "    }\n",
       "</style>\n",
       "<table border=\"1\" class=\"dataframe\">\n",
       "  <thead>\n",
       "    <tr style=\"text-align: right;\">\n",
       "      <th></th>\n",
       "      <th>fluxes</th>\n",
       "      <th>reduced_costs</th>\n",
       "    </tr>\n",
       "  </thead>\n",
       "  <tbody>\n",
       "    <tr>\n",
       "      <th>xAMINOACID</th>\n",
       "      <td>1.169163e-03</td>\n",
       "      <td>2.308050e-15</td>\n",
       "    </tr>\n",
       "    <tr>\n",
       "      <th>xBIOMASS</th>\n",
       "      <td>1.169163e-03</td>\n",
       "      <td>1.422473e-16</td>\n",
       "    </tr>\n",
       "    <tr>\n",
       "      <th>xLIPID</th>\n",
       "      <td>1.169163e-06</td>\n",
       "      <td>7.382983e-15</td>\n",
       "    </tr>\n",
       "    <tr>\n",
       "      <th>xMAINTENANCE</th>\n",
       "      <td>7.000000e-01</td>\n",
       "      <td>-1.796347e-02</td>\n",
       "    </tr>\n",
       "    <tr>\n",
       "      <th>xPOOL_AC_EM</th>\n",
       "      <td>1.321756e-04</td>\n",
       "      <td>1.978669e-17</td>\n",
       "    </tr>\n",
       "    <tr>\n",
       "      <th>...</th>\n",
       "      <td>...</td>\n",
       "      <td>...</td>\n",
       "    </tr>\n",
       "    <tr>\n",
       "      <th>prot_Q9UVF4_exchange</th>\n",
       "      <td>4.025696e-11</td>\n",
       "      <td>0.000000e+00</td>\n",
       "    </tr>\n",
       "    <tr>\n",
       "      <th>prot_Q9Y753_exchange</th>\n",
       "      <td>4.247756e-09</td>\n",
       "      <td>0.000000e+00</td>\n",
       "    </tr>\n",
       "    <tr>\n",
       "      <th>prot_W0TYM5_exchange</th>\n",
       "      <td>0.000000e+00</td>\n",
       "      <td>0.000000e+00</td>\n",
       "    </tr>\n",
       "    <tr>\n",
       "      <th>prot_W0TYP2_exchange</th>\n",
       "      <td>0.000000e+00</td>\n",
       "      <td>0.000000e+00</td>\n",
       "    </tr>\n",
       "    <tr>\n",
       "      <th>test</th>\n",
       "      <td>0.000000e+00</td>\n",
       "      <td>-3.495360e-01</td>\n",
       "    </tr>\n",
       "  </tbody>\n",
       "</table>\n",
       "<p>4023 rows × 2 columns</p>\n",
       "</div>"
      ],
      "text/plain": [
       "<Solution 0.001 at 0x16d150b9e08>"
      ]
     },
     "execution_count": 14,
     "metadata": {},
     "output_type": "execute_result"
    }
   ],
   "source": [
    "# Visualize results:\n",
    "ec_model.optimize()"
   ]
  },
  {
   "cell_type": "markdown",
   "metadata": {},
   "source": [
    "Note that the model grows very slow! Probably due to some values in the data (it is fake after all...)\n",
    "\n",
    "## 4. Flexibilization\n",
    "\n",
    "Experimental proteomics measurements can be too restrictive, due to instrument error and/or non-accurate kinetic data in the model. Thus, a flexibilization of the proteomics data is usually required to work with enzyme constrained models. Let's do that by requiring at least a growth rate of 0.1 1/h:"
   ]
  },
  {
   "cell_type": "code",
   "execution_count": 15,
   "metadata": {
    "scrolled": true
   },
   "outputs": [
    {
     "name": "stdout",
     "output_type": "stream",
     "text": [
      "new growth rate: {'measurement': 0.1, 'uncertainty': 0.01} h-1\n",
      "filtered proteins: 34 proteins\n"
     ]
    }
   ],
   "source": [
    "# Convert proteomics to list opf dictionaries (required for flexibilizing):\n",
    "ec_model.reactions.EX_glc__D_e_REV.upper_bound = +10\n",
    "proteomics_list = []\n",
    "for key, value in proteomics.items():\n",
    "    protein = {\"identifier\":key, \"measurement\":value, \"uncertainty\":0}\n",
    "    proteomics_list.append(protein)\n",
    "\n",
    "#Flexibilize proteomics:\n",
    "D = {\"measurement\":0.1, \"uncertainty\":0.01}\n",
    "new_growth_rate, proteomics_filtered, warnings = flexibilize_proteomics(ec_model, biomass_rxn_id, D, proteomics_list, [])\n",
    "print(f\"new growth rate: {new_growth_rate} h-1\")\n",
    "print(f\"filtered proteins: {len(proteomics) - len(proteomics_filtered)} proteins\")"
   ]
  },
  {
   "cell_type": "code",
   "execution_count": 16,
   "metadata": {},
   "outputs": [
    {
     "data": {
      "text/html": [
       "<strong><em>Optimal</em> solution with objective value 0.110</strong><br><div>\n",
       "<style scoped>\n",
       "    .dataframe tbody tr th:only-of-type {\n",
       "        vertical-align: middle;\n",
       "    }\n",
       "\n",
       "    .dataframe tbody tr th {\n",
       "        vertical-align: top;\n",
       "    }\n",
       "\n",
       "    .dataframe thead th {\n",
       "        text-align: right;\n",
       "    }\n",
       "</style>\n",
       "<table border=\"1\" class=\"dataframe\">\n",
       "  <thead>\n",
       "    <tr style=\"text-align: right;\">\n",
       "      <th></th>\n",
       "      <th>fluxes</th>\n",
       "      <th>reduced_costs</th>\n",
       "    </tr>\n",
       "  </thead>\n",
       "  <tbody>\n",
       "    <tr>\n",
       "      <th>xAMINOACID</th>\n",
       "      <td>1.104979e-01</td>\n",
       "      <td>0.0</td>\n",
       "    </tr>\n",
       "    <tr>\n",
       "      <th>xBIOMASS</th>\n",
       "      <td>1.104979e-01</td>\n",
       "      <td>0.0</td>\n",
       "    </tr>\n",
       "    <tr>\n",
       "      <th>xLIPID</th>\n",
       "      <td>1.104979e-04</td>\n",
       "      <td>0.0</td>\n",
       "    </tr>\n",
       "    <tr>\n",
       "      <th>xMAINTENANCE</th>\n",
       "      <td>7.000000e-01</td>\n",
       "      <td>0.0</td>\n",
       "    </tr>\n",
       "    <tr>\n",
       "      <th>xPOOL_AC_EM</th>\n",
       "      <td>0.000000e+00</td>\n",
       "      <td>0.0</td>\n",
       "    </tr>\n",
       "    <tr>\n",
       "      <th>...</th>\n",
       "      <td>...</td>\n",
       "      <td>...</td>\n",
       "    </tr>\n",
       "    <tr>\n",
       "      <th>prot_Q9UVF4_exchange</th>\n",
       "      <td>3.804696e-09</td>\n",
       "      <td>0.0</td>\n",
       "    </tr>\n",
       "    <tr>\n",
       "      <th>prot_Q9Y753_exchange</th>\n",
       "      <td>4.014566e-07</td>\n",
       "      <td>0.0</td>\n",
       "    </tr>\n",
       "    <tr>\n",
       "      <th>prot_W0TYM5_exchange</th>\n",
       "      <td>0.000000e+00</td>\n",
       "      <td>0.0</td>\n",
       "    </tr>\n",
       "    <tr>\n",
       "      <th>prot_W0TYP2_exchange</th>\n",
       "      <td>0.000000e+00</td>\n",
       "      <td>0.0</td>\n",
       "    </tr>\n",
       "    <tr>\n",
       "      <th>test</th>\n",
       "      <td>0.000000e+00</td>\n",
       "      <td>0.0</td>\n",
       "    </tr>\n",
       "  </tbody>\n",
       "</table>\n",
       "<p>4023 rows × 2 columns</p>\n",
       "</div>"
      ],
      "text/plain": [
       "<Solution 0.110 at 0x22a68350688>"
      ]
     },
     "execution_count": 16,
     "metadata": {},
     "output_type": "execute_result"
    }
   ],
   "source": [
    "ec_model.optimize()"
   ]
  },
  {
   "cell_type": "markdown",
   "metadata": {},
   "source": [
    "Now that we have a functional model, we can repeat the previous FSEOF analysis"
   ]
  },
  {
   "cell_type": "code",
   "execution_count": 17,
   "metadata": {},
   "outputs": [
    {
     "name": "stdout",
     "output_type": "stream",
     "text": [
      "                    1         2         3         4         5         6  \\\n",
      "y002156No1   0.000263  0.000263  0.000263  0.000263  0.000327  0.000327   \n",
      "y002163No1   0.000263  0.000263  0.000263  0.000263  0.000327  0.000327   \n",
      "y002170No1   0.000263  0.000263  0.000263  0.000263  0.000327  0.000327   \n",
      "y002177No1   0.000263  0.000263  0.000263  0.000263  0.000327  0.000327   \n",
      "y003517      0.002717  0.002717  0.002717  0.002717  0.002781  0.002781   \n",
      "y001115      0.988217  0.988217  0.988217  0.988217  0.988217  0.988217   \n",
      "ADCL         0.000000  0.000000  0.000000  0.000000  0.000000  0.000000   \n",
      "4ABZt        0.000000  0.000000  0.000000  0.000000  0.000000  0.000000   \n",
      "ADCSNo1      0.000000  0.000000  0.000000  0.000000  0.000000  0.000000   \n",
      "y000337No1   0.012676  0.012676  0.012676  0.012676  0.012676  0.012676   \n",
      "y003537_REV  0.012676  0.012676  0.012676  0.012676  0.012676  0.012676   \n",
      "y103296No1   0.000000  0.000000  0.000000  0.000000  0.000000  0.000000   \n",
      "y103308No1   0.000000  0.000000  0.000000  0.000000  0.000000  0.000000   \n",
      "arm_DHAK     0.000000  0.000000  0.000000  0.000000  0.000000  0.000000   \n",
      "DHAKNo2      0.000000  0.000000  0.000000  0.000000  0.000000  0.000000   \n",
      "arm_GLYCDy   0.000000  0.000000  0.000000  0.000000  0.000000  0.000000   \n",
      "y003597      0.000000  0.000000  0.000000  0.000000  0.000000  0.000000   \n",
      "GLYCDyNo9    0.000000  0.000000  0.000000  0.000000  0.000000  0.000000   \n",
      "DHAPtm_REV   0.005342  0.005342  0.005342  0.005342  0.005342  0.005342   \n",
      "G3PD1irmNo1  0.005342  0.005342  0.005342  0.005342  0.005342  0.005342   \n",
      "\n",
      "                    7         8         9        10        slope        r2  \n",
      "y002156No1   0.000327  0.000327  0.000327  0.000327  1015.312500  0.754545  \n",
      "y002163No1   0.000327  0.000327  0.000327  0.000327  1015.312500  0.754545  \n",
      "y002170No1   0.000327  0.000327  0.000327  0.000327  1015.312500  0.754545  \n",
      "y002177No1   0.000327  0.000327  0.000327  0.000327  1015.312500  0.754545  \n",
      "y003517      0.002781  0.002781  0.002781  0.002781  1015.312500  0.754545  \n",
      "y001115      0.988217  0.988320  0.988320  0.988320   630.873786  0.672727  \n",
      "ADCL         0.000000  0.000104  0.000104  0.000104   624.807692  0.672727  \n",
      "4ABZt        0.000000  0.000104  0.000104  0.000104   624.807692  0.672727  \n",
      "ADCSNo1      0.000000  0.000104  0.000104  0.000104   624.807692  0.672727  \n",
      "y000337No1   0.012676  0.012792  0.012792  0.012792   560.172414  0.672727  \n",
      "y003537_REV  0.012676  0.012792  0.012792  0.012792   560.172414  0.672727  \n",
      "y103296No1   0.000000  0.000116  0.000116  0.000116   560.172414  0.672727  \n",
      "y103308No1   0.000000  0.000116  0.000116  0.000116   560.172414  0.672727  \n",
      "arm_DHAK     0.000000  0.000116  0.000116  0.000116   560.172414  0.672727  \n",
      "DHAKNo2      0.000000  0.000116  0.000116  0.000116   560.172414  0.672727  \n",
      "arm_GLYCDy   0.000000  0.000116  0.000116  0.000116   560.172414  0.672727  \n",
      "y003597      0.000000  0.000116  0.000116  0.000116   560.172414  0.672727  \n",
      "GLYCDyNo9    0.000000  0.000116  0.000116  0.000116   560.172414  0.672727  \n",
      "DHAPtm_REV   0.005342  0.005458  0.005458  0.005458   560.172414  0.672727  \n",
      "G3PD1irmNo1  0.005342  0.005458  0.005458  0.005458   560.172414  0.672727  \n"
     ]
    }
   ],
   "source": [
    "# Run the FSEOF analysis, filtering out any reaction that is not a protein exchange pseudo-rxn:\n",
    "ec_fseof_df = sorted_fseof(ec_model, biomass_rxn_id, test_rxn_id)"
   ]
  },
  {
   "cell_type": "markdown",
   "metadata": {},
   "source": [
    "## 5. Enzyme Usage\n",
    "\n",
    "Finally, we can  look at enzyme usage values between biomass production and our test production. For this, we should first perform simulations with the ecModel now that it has proteomics data integrated:"
   ]
  },
  {
   "cell_type": "code",
   "execution_count": 18,
   "metadata": {},
   "outputs": [],
   "source": [
    "def simulate_ec_model(model, rxn_id):\n",
    "    # First optimization: maximize input\n",
    "    model.objective = rxn_id\n",
    "    solution = model.optimize()\n",
    "    # Second optimization: minimize glucose\n",
    "    model.reactions.get_by_id(rxn_id).lower_bound = solution.fluxes[rxn_id]\n",
    "    glc_rxn = model.reactions.get_by_id(\"EX_glc__D_e_REV\")\n",
    "    model.objective = {glc_rxn: -1}\n",
    "    solution = pfba(model)\n",
    "    return solution\n",
    "\n",
    "def print_fluxes(model, solution, bio_rxn_id):\n",
    "    print(\"growth: \" + str(solution.fluxes[bio_rxn_id]))\n",
    "    for rxn in model.reactions:\n",
    "        if (len(rxn.metabolites) == 1 or rxn.id == \"test\") and solution.fluxes[rxn.id] != 0 and \"_exchange\" not in rxn.id:\n",
    "            print(rxn.id + \": \" + str(solution.fluxes[rxn.id]))"
   ]
  },
  {
   "cell_type": "markdown",
   "metadata": {},
   "source": [
    "Condition 1: 100% of carbon going towards biomass."
   ]
  },
  {
   "cell_type": "code",
   "execution_count": 19,
   "metadata": {},
   "outputs": [
    {
     "name": "stdout",
     "output_type": "stream",
     "text": [
      "growth: 0.11049787668900697\n",
      "EX_ac_e: 1.3287528069937633\n",
      "EX_co2_e: 4.619810724663165\n",
      "EX_etoh_e: 2.578427041090677\n",
      "EX_pyr_e: 8.012841153903857\n",
      "EX_h2o_e: 22.27264031025135\n",
      "y002111: 0.11049787668900697\n",
      "y001654_REV: 0.988216544575795\n",
      "EX_glc__D_e_REV: 6.778929962532047\n",
      "EX_inost_e_REV: 0.0003977923560804251\n",
      "EX_o2_e_REV: 3.0236171693685288\n",
      "EX_pi_e_REV: 0.052573895247725794\n",
      "EX_so4_e_REV: 0.02154708595435636\n"
     ]
    }
   ],
   "source": [
    "ec_sol_biomass = simulate_ec_model(ec_model, biomass_rxn_id)\n",
    "print_fluxes(ec_model, ec_sol_biomass, biomass_rxn_id)"
   ]
  },
  {
   "cell_type": "markdown",
   "metadata": {},
   "source": [
    "Condition 2: 20% going towards the desired metabolite, and the rest to biomass."
   ]
  },
  {
   "cell_type": "code",
   "execution_count": 20,
   "metadata": {},
   "outputs": [
    {
     "name": "stdout",
     "output_type": "stream",
     "text": [
      "growth: 0.08839830135120558\n",
      "EX_ac_e: 1.5318432331897434\n",
      "EX_co2_e: 5.814448295053125\n",
      "EX_etoh_e: 2.3125180805491965\n",
      "EX_h_e: 1.8230694641367489\n",
      "EX_pyr_e: 7.904501399665252\n",
      "EX_h2o_e: 21.454681484264515\n",
      "y002111: 0.08839830135120558\n",
      "y001654_REV: 0.7905732356606306\n",
      "EX_glc__D_e_REV: 7.1189439509420245\n",
      "EX_inost_e_REV: 0.0003182338848643409\n",
      "EX_o2_e_REV: 3.2719556468458615\n",
      "EX_pi_e_REV: 0.04205911619818166\n",
      "EX_so4_e_REV: 0.017237668763485085\n",
      "test: 0.13351749187542397\n"
     ]
    }
   ],
   "source": [
    "ec_model.reactions.get_by_id(biomass_rxn_id).lower_bound = 0.8 * ec_sol_biomass.fluxes[biomass_rxn_id]\n",
    "ec_sol_test = simulate_ec_model(ec_model, test_rxn_id)\n",
    "print_fluxes(ec_model, ec_sol_test, biomass_rxn_id)"
   ]
  },
  {
   "cell_type": "markdown",
   "metadata": {},
   "source": [
    "Now let's build a dataframe with all enzyme usages under both conditions. We are looking for this in the `prot_XXXXXX_exchange` rxns, and they are all in units of `mmol/gDW`."
   ]
  },
  {
   "cell_type": "code",
   "execution_count": 21,
   "metadata": {},
   "outputs": [
    {
     "name": "stdout",
     "output_type": "stream",
     "text": [
      "                 gene  biomass_usage    test_usage\n",
      "B5FVA8  YALI0_B01771g   0.000000e+00  0.000000e+00\n",
      "B5FVG3  YALI0_E32164g   1.948190e-07  1.948190e-07\n",
      "B5FVG6  YALI0_E32736g   0.000000e+00  0.000000e+00\n",
      "F2Z5Z7  YALI0_B09361g   0.000000e+00  0.000000e+00\n",
      "F2Z650  YALI0_E01056g   1.764838e-07  4.421994e-08\n",
      "...               ...            ...           ...\n",
      "Q99148  YALI0_F21010g   2.145964e-06  1.716771e-06\n",
      "Q9UVF4  YALI0_B02948g   3.804696e-09  3.043757e-09\n",
      "Q9Y753  YALI0_A10076g   4.014566e-07  3.211653e-07\n",
      "W0TYM5  YALI0_E11355g   0.000000e+00  0.000000e+00\n",
      "W0TYP2  YALI0_B11154g   0.000000e+00  0.000000e+00\n",
      "\n",
      "[647 rows x 3 columns]\n"
     ]
    }
   ],
   "source": [
    "usage_df = pd.DataFrame()\n",
    "for reaction in ec_model.reactions:\n",
    "    if reaction.id.startswith(\"prot_\") and reaction.id.endswith(\"_exchange\"):\n",
    "        new_line = pd.DataFrame(index = [reaction.id[5:11]],\n",
    "                                data = {\"gene\":reaction.gene_reaction_rule,\n",
    "                                        \"biomass_usage\":[ec_sol_biomass.fluxes[reaction.id]],\n",
    "                                        \"test_usage\":[ec_sol_test.fluxes[reaction.id]]})\n",
    "        usage_df = usage_df.append(new_line)\n",
    "\n",
    "print(usage_df)"
   ]
  },
  {
   "cell_type": "markdown",
   "metadata": {},
   "source": [
    "Let's make sure all values are positive:"
   ]
  },
  {
   "cell_type": "code",
   "execution_count": 22,
   "metadata": {},
   "outputs": [
    {
     "name": "stdout",
     "output_type": "stream",
     "text": [
      "                 gene  biomass_usage  test_usage\n",
      "B5FVA8  YALI0_B01771g            0.0         0.0\n",
      "Q6CA32  YALI0_D06325g            0.0         0.0\n",
      "Q6CA28  YALI0_D06413g            0.0         0.0\n",
      "Q6CA24  YALI0_D06501g            0.0         0.0\n",
      "Q6CA02  YALI0_D06974g            0.0         0.0\n",
      "                 gene  biomass_usage  test_usage\n",
      "B5FVA8  YALI0_B01771g            0.0         0.0\n",
      "Q6C3X3  YALI0_E31515g            0.0         0.0\n",
      "Q6C3X5  YALI0_E31471g            0.0         0.0\n",
      "Q6C3Z7  YALI0_E31009g            0.0         0.0\n",
      "Q6C3Z9  YALI0_E30965g            0.0         0.0\n"
     ]
    }
   ],
   "source": [
    "usage_df = usage_df.sort_values(by=['biomass_usage'])\n",
    "print(usage_df.head(n=5))\n",
    "usage_df = usage_df.sort_values(by=['test_usage'])\n",
    "print(usage_df.head(n=5))"
   ]
  },
  {
   "cell_type": "markdown",
   "metadata": {},
   "source": [
    "There are a lot of rows with zero usage under both conditions, so let's filter them out:"
   ]
  },
  {
   "cell_type": "code",
   "execution_count": 23,
   "metadata": {},
   "outputs": [
    {
     "name": "stdout",
     "output_type": "stream",
     "text": [
      "                 gene  biomass_usage    test_usage\n",
      "Q6CG81  YALI0_A21417g   2.376173e-07  0.000000e+00\n",
      "Q6C1K2  YALI0_F15587g   9.462795e-08  0.000000e+00\n",
      "Q6C2M6  YALI0_F06578g   1.203819e-12  9.630553e-13\n",
      "Q6C3U4  YALI0_E32065g   3.966396e-11  3.173117e-11\n",
      "Q6C2Y8  YALI0_F04015g   4.430784e-11  3.544627e-11\n",
      "...               ...            ...           ...\n",
      "Q6C2D9  YALI0_F08701g   6.021968e-05  4.817575e-05\n",
      "Q6C0G7  YALI0_F24893g   6.468899e-05  5.175119e-05\n",
      "Q6C968  YALI0_D13596g   2.514036e-04  1.330059e-04\n",
      "Q6C7T0  YALI0_D25630g   3.110409e-04  3.424800e-04\n",
      "Q6C4K5  YALI0_E26004g   3.991415e-05  7.245275e-03\n",
      "\n",
      "[243 rows x 3 columns]\n"
     ]
    }
   ],
   "source": [
    "usage_df = usage_df.query(\"biomass_usage > 0 or test_usage > 0\")\n",
    "print(usage_df)"
   ]
  },
  {
   "cell_type": "markdown",
   "metadata": {},
   "source": [
    "Now let's compute usage changes. We will look at both absolute changes (the difference between both conditions) and relative changes (the fold change or ratio between them)."
   ]
  },
  {
   "cell_type": "code",
   "execution_count": 24,
   "metadata": {},
   "outputs": [
    {
     "name": "stdout",
     "output_type": "stream",
     "text": [
      "                 gene  biomass_usage    test_usage   abs_changes  rel_changes\n",
      "Q6CG81  YALI0_A21417g   2.376173e-07  0.000000e+00 -2.376173e-07     0.000000\n",
      "Q6C1K2  YALI0_F15587g   9.462795e-08  0.000000e+00 -9.462795e-08     0.000000\n",
      "Q6C2M6  YALI0_F06578g   1.203819e-12  9.630553e-13 -2.407638e-13     0.800000\n",
      "Q6C3U4  YALI0_E32065g   3.966396e-11  3.173117e-11 -7.932792e-12     0.800000\n",
      "Q6C2Y8  YALI0_F04015g   4.430784e-11  3.544627e-11 -8.861568e-12     0.800000\n",
      "...               ...            ...           ...           ...          ...\n",
      "Q6C2D9  YALI0_F08701g   6.021968e-05  4.817575e-05 -1.204394e-05     0.800000\n",
      "Q6C0G7  YALI0_F24893g   6.468899e-05  5.175119e-05 -1.293780e-05     0.800000\n",
      "Q6C968  YALI0_D13596g   2.514036e-04  1.330059e-04 -1.183977e-04     0.529053\n",
      "Q6C7T0  YALI0_D25630g   3.110409e-04  3.424800e-04  3.143910e-05     1.101077\n",
      "Q6C4K5  YALI0_E26004g   3.991415e-05  7.245275e-03  7.205361e-03   181.521471\n",
      "\n",
      "[243 rows x 5 columns]\n"
     ]
    }
   ],
   "source": [
    "usage_df[\"abs_changes\"] = usage_df[\"test_usage\"] - usage_df[\"biomass_usage\"]\n",
    "usage_df[\"rel_changes\"] = usage_df[\"test_usage\"] / usage_df[\"biomass_usage\"]\n",
    "print(usage_df)"
   ]
  },
  {
   "cell_type": "markdown",
   "metadata": {},
   "source": [
    "We can now sort and take a look at the top 20 of enzymes that:\n",
    "\n",
    "* Increased their absolute usage the most:"
   ]
  },
  {
   "cell_type": "code",
   "execution_count": 25,
   "metadata": {},
   "outputs": [
    {
     "name": "stdout",
     "output_type": "stream",
     "text": [
      "                 gene  biomass_usage    test_usage   abs_changes  rel_changes\n",
      "Q6C4K5  YALI0_E26004g   3.991415e-05  7.245275e-03  7.205361e-03   181.521471\n",
      "Q6C7T0  YALI0_D25630g   3.110409e-04  3.424800e-04  3.143910e-05     1.101077\n",
      "Q6CFH4  YALI0_B06941g   8.674153e-06  1.861228e-05  9.938131e-06     2.145718\n",
      "Q6CD79  YALI0_C03025g   0.000000e+00  9.407220e-06  9.407220e-06          inf\n",
      "Q6C7J6  YALI0_E00264g   0.000000e+00  6.245420e-06  6.245420e-06          inf\n",
      "Q6C549  YALI0_E21021g   0.000000e+00  5.437600e-06  5.437600e-06          inf\n",
      "Q6CG57  YALI0_B00704g   2.056860e-06  6.272450e-06  4.215590e-06     3.049527\n",
      "Q6C5X9  YALI0_E14190g   5.120566e-06  8.101054e-06  2.980488e-06     1.582062\n",
      "P34229  YALI0_B15059g   2.657320e-07  2.808700e-06  2.542968e-06    10.569670\n",
      "Q6C793  YALI0_E02684g   3.080941e-06  4.870967e-06  1.790026e-06     1.581000\n",
      "Q6CA04  YALI0_D06930g   1.317868e-06  2.584170e-06  1.266302e-06     1.960871\n",
      "Q6C1T4  YALI0_F13541g   7.514864e-07  1.715460e-06  9.639733e-07     2.282755\n",
      "Q6CEH4  YALI0_B15598g   0.000000e+00  9.594201e-07  9.594201e-07          inf\n",
      "Q6C0A1  YALI0_F26521g   1.184949e-06  2.115121e-06  9.301716e-07     1.784989\n",
      "P30614  YALI0_F09185g   1.563300e-05  1.646312e-05  8.301143e-07     1.053100\n",
      "Q6C1F3  YALI0_F16819g   1.588196e-05  1.669665e-05  8.146920e-07     1.051297\n",
      "Q6CCU7  YALI0_C06369g   1.562775e-05  1.642854e-05  8.007821e-07     1.051241\n",
      "Q6C5S9  YALI0_E15488g   1.569193e-05  1.647900e-05  7.870678e-07     1.050157\n",
      "Q6C5P5  YALI0_E16346g   1.963582e-07  9.308465e-07  7.344883e-07     4.740554\n",
      "Q6CFU6  YALI0_B03630g   7.885929e-06  8.410495e-06  5.245659e-07     1.066519\n"
     ]
    }
   ],
   "source": [
    "usage_df = usage_df.sort_values(by=['abs_changes'])\n",
    "print(usage_df.tail(n=20).iloc[::-1])"
   ]
  },
  {
   "cell_type": "markdown",
   "metadata": {},
   "source": [
    "* Decreased their absolute usage the most:"
   ]
  },
  {
   "cell_type": "code",
   "execution_count": 26,
   "metadata": {},
   "outputs": [
    {
     "name": "stdout",
     "output_type": "stream",
     "text": [
      "                 gene  biomass_usage  test_usage  abs_changes  rel_changes\n",
      "Q6C968  YALI0_D13596g       0.000251    0.000133    -0.000118     0.529053\n",
      "Q6C0G7  YALI0_F24893g       0.000065    0.000052    -0.000013     0.800000\n",
      "Q6C2D9  YALI0_F08701g       0.000060    0.000048    -0.000012     0.800000\n",
      "Q6CDD3  YALI0_C01411g       0.000019    0.000010    -0.000009     0.512300\n",
      "Q6CGM4  YALI0_A18062g       0.000044    0.000035    -0.000009     0.800000\n",
      "Q6C8C2  YALI0_D20878g       0.000044    0.000035    -0.000009     0.800000\n",
      "Q6C627  YALI0_E13057g       0.000032    0.000026    -0.000006     0.800000\n",
      "Q6C0G0  YALI0_F25047g       0.000030    0.000024    -0.000006     0.800000\n",
      "Q6CER7  YALI0_B13552g       0.000030    0.000024    -0.000006     0.800000\n",
      "Q6C5V2  YALI0_E14949g       0.000045    0.000039    -0.000006     0.871501\n",
      "Q6CAF8  YALI0_D03135g       0.000029    0.000023    -0.000006     0.800000\n",
      "Q6CAF2  YALI0_D03333g       0.000007    0.000003    -0.000004     0.460344\n",
      "Q6C7B8  YALI0_E02090g       0.000018    0.000015    -0.000004     0.800000\n",
      "Q12726  YALI0_F31075g       0.000017    0.000013    -0.000003     0.800000\n",
      "Q6CDI7  YALI0_C00209g       0.000016    0.000013    -0.000003     0.800000\n",
      "Q6C8Q1  YALI0_D17930g       0.000015    0.000012    -0.000003     0.800000\n",
      "Q6C638  YALI0_E12683g       0.000014    0.000012    -0.000003     0.800000\n",
      "Q6CAE7  YALI0_D03480g       0.000014    0.000011    -0.000003     0.800000\n",
      "Q6C0K8  YALI0_F23837g       0.000013    0.000010    -0.000003     0.800000\n",
      "Q6CDK2  YALI0_B23298g       0.000010    0.000008    -0.000002     0.800000\n"
     ]
    }
   ],
   "source": [
    "print(usage_df.head(n=20))"
   ]
  },
  {
   "cell_type": "markdown",
   "metadata": {},
   "source": [
    "* Increased their relative usage the most:"
   ]
  },
  {
   "cell_type": "code",
   "execution_count": 27,
   "metadata": {},
   "outputs": [
    {
     "name": "stdout",
     "output_type": "stream",
     "text": [
      "                 gene  biomass_usage    test_usage   abs_changes  rel_changes\n",
      "Q6CD79  YALI0_C03025g   0.000000e+00  9.407220e-06  9.407220e-06          inf\n",
      "Q6C7J6  YALI0_E00264g   0.000000e+00  6.245420e-06  6.245420e-06          inf\n",
      "Q6C549  YALI0_E21021g   0.000000e+00  5.437600e-06  5.437600e-06          inf\n",
      "Q6C682  YALI0_E11671g   0.000000e+00  2.074256e-08  2.074256e-08          inf\n",
      "Q6C4Y7  YALI0_E22649g   0.000000e+00  6.225440e-08  6.225440e-08          inf\n",
      "Q6C7Y1  YALI0_D24431g   0.000000e+00  3.637872e-07  3.637872e-07          inf\n",
      "Q6C3H5  YALI0_E34793g   0.000000e+00  3.637872e-07  3.637872e-07          inf\n",
      "Q6CEH4  YALI0_B15598g   0.000000e+00  9.594201e-07  9.594201e-07          inf\n",
      "Q6C4K5  YALI0_E26004g   3.991415e-05  7.245275e-03  7.205361e-03   181.521471\n",
      "Q6CC91  YALI0_C11407g   7.381489e-11  7.802066e-10  7.063917e-10    10.569772\n",
      "Q6C416  YALI0_E30591g   7.381489e-11  7.802066e-10  7.063917e-10    10.569772\n",
      "P34229  YALI0_B15059g   2.657320e-07  2.808700e-06  2.542968e-06    10.569670\n",
      "Q6C5P5  YALI0_E16346g   1.963582e-07  9.308465e-07  7.344883e-07     4.740554\n",
      "Q6C2Q5  YALI0_F05962g   1.145764e-08  3.998585e-08  2.852821e-08     3.489885\n",
      "Q6CG57  YALI0_B00704g   2.056860e-06  6.272450e-06  4.215590e-06     3.049527\n",
      "Q6C1T4  YALI0_F13541g   7.514864e-07  1.715460e-06  9.639733e-07     2.282755\n",
      "Q6CFH4  YALI0_B06941g   8.674153e-06  1.861228e-05  9.938131e-06     2.145718\n",
      "Q6CA04  YALI0_D06930g   1.317868e-06  2.584170e-06  1.266302e-06     1.960871\n",
      "Q6C6T4  YALI0_E06479g   1.780546e-07  3.367789e-07  1.587242e-07     1.891436\n",
      "Q6CC71  YALI0_C11880g   1.334504e-08  2.524129e-08  1.189625e-08     1.891436\n"
     ]
    }
   ],
   "source": [
    "usage_df = usage_df.sort_values(by=['rel_changes'])\n",
    "print(usage_df.tail(n=20).iloc[::-1])"
   ]
  },
  {
   "cell_type": "markdown",
   "metadata": {},
   "source": [
    "* Decreased their relative usage the most:"
   ]
  },
  {
   "cell_type": "code",
   "execution_count": 28,
   "metadata": {},
   "outputs": [
    {
     "name": "stdout",
     "output_type": "stream",
     "text": [
      "                 gene  biomass_usage    test_usage   abs_changes  rel_changes\n",
      "Q6CG81  YALI0_A21417g   2.376173e-07  0.000000e+00 -2.376173e-07     0.000000\n",
      "Q6C1K2  YALI0_F15587g   9.462795e-08  0.000000e+00 -9.462795e-08     0.000000\n",
      "F2Z650  YALI0_E01056g   1.764838e-07  4.421994e-08 -1.322639e-07     0.250561\n",
      "Q6C2B5  YALI0_F09229g   3.822770e-07  1.262833e-07 -2.559936e-07     0.330345\n",
      "Q6BZU8  YALI0_F30745g   3.186979e-06  1.370912e-06 -1.816067e-06     0.430160\n",
      "Q6CAF2  YALI0_D03333g   6.934260e-06  3.192146e-06 -3.742114e-06     0.460344\n",
      "Q6C1T8  YALI0_F13453g   5.927303e-07  2.738382e-07 -3.188921e-07     0.461995\n",
      "Q6C0N3  YALI0_F23221g   5.927303e-09  2.738382e-09 -3.188921e-09     0.461995\n",
      "Q6CDD3  YALI0_C01411g   1.890021e-05  9.682570e-06 -9.217642e-06     0.512300\n",
      "Q6C968  YALI0_D13596g   2.514036e-04  1.330059e-04 -1.183977e-04     0.529053\n",
      "Q6CAP2  YALI0_D01089g   1.336084e-06  7.068593e-07 -6.292246e-07     0.529053\n",
      "Q6C9F1  YALI0_D11704g   1.329024e-07  7.031245e-08 -6.258999e-08     0.529053\n",
      "Q6BZZ9  YALI0_F29337g   1.300837e-07  8.982648e-08 -4.025722e-08     0.690528\n",
      "Q6C6Q4  YALI0_E07271g   4.679665e-07  3.355976e-07 -1.323689e-07     0.717140\n",
      "Q6C6Z1  YALI0_E05137g   1.144073e-06  8.535036e-07 -2.905698e-07     0.746022\n",
      "Q6C7J7  YALI0_E00242g   3.845964e-08  2.988484e-08 -8.574799e-09     0.777044\n",
      "Q6CHE0  YALI0_A09856g   3.845964e-08  2.988484e-08 -8.574799e-09     0.777044\n",
      "Q6C340  YALI0_F02849g   3.845964e-08  2.988484e-08 -8.574799e-09     0.777044\n",
      "Q6C1A9  YALI0_F17820g   4.582672e-06  3.651255e-06 -9.314172e-07     0.796752\n",
      "Q6CF46  YALI0_B10340g   5.855310e-10  4.684248e-10 -1.171062e-10     0.800000\n"
     ]
    }
   ],
   "source": [
    "print(usage_df.head(n=20))"
   ]
  },
  {
   "cell_type": "code",
   "execution_count": null,
   "metadata": {},
   "outputs": [],
   "source": []
  }
 ],
 "metadata": {
  "kernelspec": {
   "display_name": "Python 3",
   "language": "python",
   "name": "python3"
  },
  "language_info": {
   "codemirror_mode": {
    "name": "ipython",
    "version": 3
   },
   "file_extension": ".py",
   "mimetype": "text/x-python",
   "name": "python",
   "nbconvert_exporter": "python",
   "pygments_lexer": "ipython3",
   "version": "3.7.6"
  }
 },
 "nbformat": 4,
 "nbformat_minor": 2
}
