{
 "cells": [
  {
   "cell_type": "markdown",
   "metadata": {},
   "source": [
    "# Using GECKO for metabolic engineering applications\n",
    "\n",
    "Benjamín J. Sánchez, 2020-09-10"
   ]
  },
  {
   "cell_type": "code",
   "execution_count": 1,
   "metadata": {},
   "outputs": [
    {
     "name": "stderr",
     "output_type": "stream",
     "text": [
      "c:\\users\\bejsab\\appdata\\local\\continuum\\anaconda3\\envs\\notebooks\\lib\\site-packages\\cameo\\visualization\\plotting\\__init__.py:52 UserWarning: Cannot import any plotting library. Please install one of 'plotly', 'bokeh' or 'ggplot' if you want to use any plotting function.\n"
     ]
    }
   ],
   "source": [
    "# requirements\n",
    "import numpy as np\n",
    "import pandas as pd\n",
    "\n",
    "import os\n",
    "import sys\n",
    "import wget\n",
    "\n",
    "from cobra import Reaction\n",
    "from cobra.flux_analysis import pfba\n",
    "from cobra.io import load_json_model\n",
    "\n",
    "from cameo.strain_design.deterministic.flux_variability_based import FSEOF"
   ]
  },
  {
   "cell_type": "markdown",
   "metadata": {},
   "source": [
    "## 1. Loading models\n",
    "\n",
    "Load the metabolic and enzyme constrained models:"
   ]
  },
  {
   "cell_type": "code",
   "execution_count": 2,
   "metadata": {},
   "outputs": [
    {
     "name": "stdout",
     "output_type": "stream",
     "text": [
      "Using license file C:\\Users\\bejsab\\gurobi.lic\n",
      "Academic license - for non-commercial use only\n"
     ]
    }
   ],
   "source": [
    "# Metabolic model:\n",
    "wget.download(\"https://github.com/BenjaSanchez/notebooks/blob/master/caffeine-fix-yarrowia/iYali-model.json?raw=true\", \"model.json\", bar = False)\n",
    "model = load_json_model(\"model.json\")\n",
    "os.remove(\"model.json\")\n",
    "\n",
    "# Enzyme-constrained model:\n",
    "wget.download(\"https://github.com/BenjaSanchez/notebooks/blob/master/caffeine-fix-yarrowia/iYali-ecModel.json?raw=true\", \"ec_model.json\", bar = False)\n",
    "ec_model = load_json_model(\"ec_model.json\")\n",
    "os.remove(\"ec_model.json\")"
   ]
  },
  {
   "cell_type": "markdown",
   "metadata": {},
   "source": [
    "The model has two differences with a standard COBRA model. First, the reactions contain another metabolite: the enyzme itself."
   ]
  },
  {
   "cell_type": "code",
   "execution_count": 3,
   "metadata": {},
   "outputs": [
    {
     "data": {
      "text/html": [
       "\n",
       "        <table>\n",
       "            <tr>\n",
       "                <td><strong>Reaction identifier</strong></td><td>NDP7</td>\n",
       "            </tr><tr>\n",
       "                <td><strong>Name</strong></td><td>nucleoside diphosphatase</td>\n",
       "            </tr><tr>\n",
       "                <td><strong>Memory address</strong></td>\n",
       "                <td>0x016d117c1148</td>\n",
       "            </tr><tr>\n",
       "                <td><strong>Stoichiometry</strong></td>\n",
       "                <td>\n",
       "                    <p style='text-align:right'>h2o_c + udp_c --> h_c + pi_c + ump_c</p>\n",
       "                    <p style='text-align:right'>H2O + UDP --> H+ + phosphate + UMP</p>\n",
       "                </td>\n",
       "            </tr><tr>\n",
       "                <td><strong>GPR</strong></td><td>YALI0_C19712g</td>\n",
       "            </tr><tr>\n",
       "                <td><strong>Lower bound</strong></td><td>0.0</td>\n",
       "            </tr><tr>\n",
       "                <td><strong>Upper bound</strong></td><td>1000.0</td>\n",
       "            </tr>\n",
       "        </table>\n",
       "        "
      ],
      "text/plain": [
       "<Reaction NDP7 at 0x16d117c1148>"
      ]
     },
     "execution_count": 3,
     "metadata": {},
     "output_type": "execute_result"
    }
   ],
   "source": [
    "model.reactions.NDP7"
   ]
  },
  {
   "cell_type": "code",
   "execution_count": 4,
   "metadata": {},
   "outputs": [
    {
     "data": {
      "text/html": [
       "\n",
       "        <table>\n",
       "            <tr>\n",
       "                <td><strong>Reaction identifier</strong></td><td>NDP7No1</td>\n",
       "            </tr><tr>\n",
       "                <td><strong>Name</strong></td><td>nucleoside diphosphatase (No1)</td>\n",
       "            </tr><tr>\n",
       "                <td><strong>Memory address</strong></td>\n",
       "                <td>0x016d12fd5648</td>\n",
       "            </tr><tr>\n",
       "                <td><strong>Stoichiometry</strong></td>\n",
       "                <td>\n",
       "                    <p style='text-align:right'>h2o_c + 3.4336e-06 prot_Q6CBD9 + udp_c --> h_c + pi_c + ump_c</p>\n",
       "                    <p style='text-align:right'>H2O + 3.4336e-06 prot_Q6CBD9 + UDP --> H+ + phosphate + UMP</p>\n",
       "                </td>\n",
       "            </tr><tr>\n",
       "                <td><strong>GPR</strong></td><td>YALI0_C19712g</td>\n",
       "            </tr><tr>\n",
       "                <td><strong>Lower bound</strong></td><td>0.0</td>\n",
       "            </tr><tr>\n",
       "                <td><strong>Upper bound</strong></td><td>1000.0</td>\n",
       "            </tr>\n",
       "        </table>\n",
       "        "
      ],
      "text/plain": [
       "<Reaction NDP7No1 at 0x16d12fd5648>"
      ]
     },
     "execution_count": 4,
     "metadata": {},
     "output_type": "execute_result"
    }
   ],
   "source": [
    "ec_model.reactions.NDP7No1"
   ]
  },
  {
   "cell_type": "code",
   "execution_count": 5,
   "metadata": {},
   "outputs": [
    {
     "data": {
      "text/html": [
       "\n",
       "        <table>\n",
       "            <tr>\n",
       "                <td><strong>Metabolite identifier</strong></td><td>prot_Q6CBD9</td>\n",
       "            </tr><tr>\n",
       "                <td><strong>Name</strong></td><td>prot_Q6CBD9</td>\n",
       "            </tr><tr>\n",
       "                <td><strong>Memory address</strong></td>\n",
       "                <td>0x016d122e5788</td>\n",
       "            </tr><tr>\n",
       "                <td><strong>Formula</strong></td><td></td>\n",
       "            </tr><tr>\n",
       "                <td><strong>Compartment</strong></td><td>c</td>\n",
       "            </tr><tr>\n",
       "                <td><strong>In 12 reaction(s)</strong></td><td>\n",
       "                    NDP3No1, NTP5No1, prot_Q6CBD9_exchange, CDPPHNo1, NDP7No1, y300074No1, IDPANo1, NTP3No1, y300075No1, ITPANo1, NDP1No1, NDP8exNo1</td>\n",
       "            </tr>\n",
       "        </table>"
      ],
      "text/plain": [
       "<Metabolite prot_Q6CBD9 at 0x16d122e5788>"
      ]
     },
     "execution_count": 5,
     "metadata": {},
     "output_type": "execute_result"
    }
   ],
   "source": [
    "ec_model.metabolites.prot_Q6CBD9"
   ]
  },
  {
   "cell_type": "markdown",
   "metadata": {},
   "source": [
    "**NB:** All protein ids follow the form `prot_UNIPROT`.\n",
    "\n",
    "The second difference is the existence of _protein exchange reactions_. These protein exchanges follow the naming `prot_UNIPROT_exchange`."
   ]
  },
  {
   "cell_type": "code",
   "execution_count": 6,
   "metadata": {},
   "outputs": [
    {
     "data": {
      "text/html": [
       "\n",
       "        <table>\n",
       "            <tr>\n",
       "                <td><strong>Reaction identifier</strong></td><td>prot_Q6CBD9_exchange</td>\n",
       "            </tr><tr>\n",
       "                <td><strong>Name</strong></td><td>prot_Q6CBD9_exchange</td>\n",
       "            </tr><tr>\n",
       "                <td><strong>Memory address</strong></td>\n",
       "                <td>0x016d1381c808</td>\n",
       "            </tr><tr>\n",
       "                <td><strong>Stoichiometry</strong></td>\n",
       "                <td>\n",
       "                    <p style='text-align:right'> --> prot_Q6CBD9</p>\n",
       "                    <p style='text-align:right'> --> prot_Q6CBD9</p>\n",
       "                </td>\n",
       "            </tr><tr>\n",
       "                <td><strong>GPR</strong></td><td>YALI0_C19712g</td>\n",
       "            </tr><tr>\n",
       "                <td><strong>Lower bound</strong></td><td>0.0</td>\n",
       "            </tr><tr>\n",
       "                <td><strong>Upper bound</strong></td><td>1000.0</td>\n",
       "            </tr>\n",
       "        </table>\n",
       "        "
      ],
      "text/plain": [
       "<Reaction prot_Q6CBD9_exchange at 0x16d1381c808>"
      ]
     },
     "execution_count": 6,
     "metadata": {},
     "output_type": "execute_result"
    }
   ],
   "source": [
    "ec_model.reactions.prot_Q6CBD9_exchange"
   ]
  },
  {
   "cell_type": "markdown",
   "metadata": {},
   "source": [
    "By putting an upper bound on these exchanges, we can integrate proteomics data into the model and treat it as an usual COBRA model without further changes.\n",
    "\n",
    "**NB:** Without any additional constraints, both models predict more or less the same using simple FBA simulations:"
   ]
  },
  {
   "cell_type": "code",
   "execution_count": 7,
   "metadata": {},
   "outputs": [
    {
     "data": {
      "text/html": [
       "<div>\n",
       "<style scoped>\n",
       "    .dataframe tbody tr th:only-of-type {\n",
       "        vertical-align: middle;\n",
       "    }\n",
       "\n",
       "    .dataframe tbody tr th {\n",
       "        vertical-align: top;\n",
       "    }\n",
       "\n",
       "    .dataframe thead tr th {\n",
       "        text-align: left;\n",
       "    }\n",
       "</style>\n",
       "<table border=\"1\" class=\"dataframe\">\n",
       "  <thead>\n",
       "    <tr>\n",
       "      <th></th>\n",
       "      <th colspan=\"2\" halign=\"left\">IN_FLUXES</th>\n",
       "      <th colspan=\"2\" halign=\"left\">OUT_FLUXES</th>\n",
       "      <th colspan=\"2\" halign=\"left\">OBJECTIVES</th>\n",
       "    </tr>\n",
       "    <tr>\n",
       "      <th></th>\n",
       "      <th>ID</th>\n",
       "      <th>FLUX</th>\n",
       "      <th>ID</th>\n",
       "      <th>FLUX</th>\n",
       "      <th>ID</th>\n",
       "      <th>FLUX</th>\n",
       "    </tr>\n",
       "  </thead>\n",
       "  <tbody>\n",
       "    <tr>\n",
       "      <th>0</th>\n",
       "      <td>h_e</td>\n",
       "      <td>8.244823</td>\n",
       "      <td>h2o_e</td>\n",
       "      <td>13.001930</td>\n",
       "      <td>xBIOMASS</td>\n",
       "      <td>0.105692</td>\n",
       "    </tr>\n",
       "    <tr>\n",
       "      <th>1</th>\n",
       "      <td>o2_e</td>\n",
       "      <td>1.846390</td>\n",
       "      <td>co2_e</td>\n",
       "      <td>1.979554</td>\n",
       "      <td>NaN</td>\n",
       "      <td>NaN</td>\n",
       "    </tr>\n",
       "    <tr>\n",
       "      <th>2</th>\n",
       "      <td>glc__D_e</td>\n",
       "      <td>1.000000</td>\n",
       "      <td>NaN</td>\n",
       "      <td>NaN</td>\n",
       "      <td>NaN</td>\n",
       "      <td>NaN</td>\n",
       "    </tr>\n",
       "    <tr>\n",
       "      <th>3</th>\n",
       "      <td>nh3_e</td>\n",
       "      <td>0.945233</td>\n",
       "      <td>NaN</td>\n",
       "      <td>NaN</td>\n",
       "      <td>NaN</td>\n",
       "      <td>NaN</td>\n",
       "    </tr>\n",
       "  </tbody>\n",
       "</table>\n",
       "</div>"
      ],
      "text/plain": [
       "<cobra.core.summary.model_summary.ModelSummary at 0x16d12136448>"
      ]
     },
     "execution_count": 7,
     "metadata": {},
     "output_type": "execute_result"
    }
   ],
   "source": [
    "model.optimize()\n",
    "model.summary()"
   ]
  },
  {
   "cell_type": "code",
   "execution_count": 8,
   "metadata": {},
   "outputs": [
    {
     "data": {
      "text/html": [
       "<div>\n",
       "<style scoped>\n",
       "    .dataframe tbody tr th:only-of-type {\n",
       "        vertical-align: middle;\n",
       "    }\n",
       "\n",
       "    .dataframe tbody tr th {\n",
       "        vertical-align: top;\n",
       "    }\n",
       "\n",
       "    .dataframe thead tr th {\n",
       "        text-align: left;\n",
       "    }\n",
       "</style>\n",
       "<table border=\"1\" class=\"dataframe\">\n",
       "  <thead>\n",
       "    <tr>\n",
       "      <th></th>\n",
       "      <th colspan=\"2\" halign=\"left\">IN_FLUXES</th>\n",
       "      <th colspan=\"2\" halign=\"left\">OUT_FLUXES</th>\n",
       "      <th colspan=\"2\" halign=\"left\">OBJECTIVES</th>\n",
       "    </tr>\n",
       "    <tr>\n",
       "      <th></th>\n",
       "      <th>ID</th>\n",
       "      <th>FLUX</th>\n",
       "      <th>ID</th>\n",
       "      <th>FLUX</th>\n",
       "      <th>ID</th>\n",
       "      <th>FLUX</th>\n",
       "    </tr>\n",
       "  </thead>\n",
       "  <tbody>\n",
       "    <tr>\n",
       "      <th>0</th>\n",
       "      <td>h_e</td>\n",
       "      <td>8.786245</td>\n",
       "      <td>NaN</td>\n",
       "      <td>NaN</td>\n",
       "      <td>xBIOMASS</td>\n",
       "      <td>0.103721</td>\n",
       "    </tr>\n",
       "    <tr>\n",
       "      <th>1</th>\n",
       "      <td>o2_e</td>\n",
       "      <td>1.926063</td>\n",
       "      <td>NaN</td>\n",
       "      <td>NaN</td>\n",
       "      <td>NaN</td>\n",
       "      <td>NaN</td>\n",
       "    </tr>\n",
       "    <tr>\n",
       "      <th>2</th>\n",
       "      <td>glc__D_e</td>\n",
       "      <td>1.000000</td>\n",
       "      <td>NaN</td>\n",
       "      <td>NaN</td>\n",
       "      <td>NaN</td>\n",
       "      <td>NaN</td>\n",
       "    </tr>\n",
       "    <tr>\n",
       "      <th>3</th>\n",
       "      <td>nh3_e</td>\n",
       "      <td>0.927612</td>\n",
       "      <td>NaN</td>\n",
       "      <td>NaN</td>\n",
       "      <td>NaN</td>\n",
       "      <td>NaN</td>\n",
       "    </tr>\n",
       "  </tbody>\n",
       "</table>\n",
       "</div>"
      ],
      "text/plain": [
       "<cobra.core.summary.model_summary.ModelSummary at 0x16d12133348>"
      ]
     },
     "execution_count": 8,
     "metadata": {},
     "output_type": "execute_result"
    }
   ],
   "source": [
    "ec_model.optimize()\n",
    "ec_model.summary()"
   ]
  },
  {
   "cell_type": "markdown",
   "metadata": {},
   "source": [
    "## 2. Metabolic engineering applications of models\n",
    "\n",
    "We will optimize for the production of:"
   ]
  },
  {
   "cell_type": "code",
   "execution_count": 9,
   "metadata": {},
   "outputs": [
    {
     "data": {
      "text/html": [
       "\n",
       "        <table>\n",
       "            <tr>\n",
       "                <td><strong>Metabolite identifier</strong></td><td>pmtcoa_c</td>\n",
       "            </tr><tr>\n",
       "                <td><strong>Name</strong></td><td>palmitoyl-CoA</td>\n",
       "            </tr><tr>\n",
       "                <td><strong>Memory address</strong></td>\n",
       "                <td>0x016d10b79b08</td>\n",
       "            </tr><tr>\n",
       "                <td><strong>Formula</strong></td><td>C37H62N7O17P3S</td>\n",
       "            </tr><tr>\n",
       "                <td><strong>Compartment</strong></td><td>c</td>\n",
       "            </tr><tr>\n",
       "                <td><strong>In 5 reaction(s)</strong></td><td>\n",
       "                    y002221, y003577, y001995, y003517, y002140</td>\n",
       "            </tr>\n",
       "        </table>"
      ],
      "text/plain": [
       "<Metabolite pmtcoa_c at 0x16d10b79b08>"
      ]
     },
     "execution_count": 9,
     "metadata": {},
     "output_type": "execute_result"
    }
   ],
   "source": [
    "model.metabolites.pmtcoa_c"
   ]
  },
  {
   "cell_type": "markdown",
   "metadata": {},
   "source": [
    "For this we add to both models a reaction that \"burns\" the palmitoyl from the palmitoyl-CoA:"
   ]
  },
  {
   "cell_type": "code",
   "execution_count": 10,
   "metadata": {},
   "outputs": [
    {
     "name": "stdout",
     "output_type": "stream",
     "text": [
      "test: pmtcoa_c --> coa_c\n",
      "test: pmtcoa_c --> coa_c\n"
     ]
    }
   ],
   "source": [
    "def add_pmt_rxn(model):\n",
    "    reaction = Reaction('test')\n",
    "    reaction.name = 'test rxn'\n",
    "    reaction.lower_bound = 0\n",
    "    reaction.upper_bound = 1000\n",
    "    reaction.add_metabolites({\n",
    "        model.metabolites.pmtcoa_c: -1.0,\n",
    "        model.metabolites.coa_c: +1})\n",
    "    model.add_reactions([reaction])\n",
    "    print(reaction)\n",
    "\n",
    "add_pmt_rxn(model)\n",
    "add_pmt_rxn(ec_model)"
   ]
  },
  {
   "cell_type": "markdown",
   "metadata": {},
   "source": [
    "Now we can perform any typical analysis, e.g. FSEOF:"
   ]
  },
  {
   "cell_type": "code",
   "execution_count": 11,
   "metadata": {},
   "outputs": [
    {
     "name": "stdout",
     "output_type": "stream",
     "text": [
      "                 1         2         3         4         5         6  \\\n",
      "y002198  -0.000013 -0.000012 -0.000011 -0.000010 -0.000008 -0.000007   \n",
      "y003512  -0.000013 -0.000012 -0.000011 -0.000010 -0.000008 -0.000007   \n",
      "y003515  -0.000033 -0.000030 -0.000026 -0.000023 -0.000020 -0.000017   \n",
      "y002196  -0.000117 -0.000105 -0.000094 -0.000083 -0.000072 -0.000060   \n",
      "y003510  -0.000117 -0.000105 -0.000094 -0.000083 -0.000072 -0.000060   \n",
      "y002199  -0.000206 -0.000186 -0.000166 -0.000146 -0.000126 -0.000106   \n",
      "y003513  -0.000206 -0.000186 -0.000166 -0.000146 -0.000126 -0.000106   \n",
      "y003543  -0.000304 -0.000274 -0.000245 -0.000215 -0.000186 -0.000157   \n",
      "y103554  -0.001205 -0.001089 -0.000972 -0.000855 -0.000738 -0.000622   \n",
      "y300018  -0.002231 -0.002015 -0.001799 -0.001583 -0.001367 -0.001151   \n",
      "SHSL1    -0.004529 -0.004090 -0.003652 -0.003213 -0.002774 -0.002336   \n",
      "GLYC3Ptm -0.004577 -0.004134 -0.003690 -0.003247 -0.002804 -0.002361   \n",
      "DHAPtm   -0.004658 -0.004207 -0.003756 -0.003305 -0.002854 -0.002402   \n",
      "y003520  -0.005568 -0.005029 -0.004490 -0.003950 -0.003411 -0.002872   \n",
      "y003527  -0.008506 -0.007682 -0.006859 -0.006035 -0.005211 -0.004387   \n",
      "y002125  -0.010360 -0.009356 -0.008353 -0.007349 -0.006346 -0.005343   \n",
      "y003530  -0.017013 -0.015365 -0.013717 -0.012069 -0.010421 -0.008774   \n",
      "y003526  -0.027854 -0.025156 -0.022458 -0.019760 -0.017062 -0.014365   \n",
      "y002119  -0.037387 -0.033766 -0.030145 -0.026524 -0.022902 -0.019281   \n",
      "FBA3      0.737824  0.738448  0.739072  0.739696  0.740320  0.740943   \n",
      "\n",
      "                 7         8         9        10         slope        r2  \n",
      "y002198  -0.000006 -0.000004 -0.000003 -0.000002  16156.195312  0.994886  \n",
      "y003512  -0.000006 -0.000004 -0.000003 -0.000002  16156.195312  0.994886  \n",
      "y003515  -0.000014 -0.000011 -0.000007 -0.000004   6467.847543  0.999042  \n",
      "y002196  -0.000049 -0.000038 -0.000026 -0.000014   1820.539518  0.999869  \n",
      "y003510  -0.000049 -0.000038 -0.000026 -0.000014   1820.539518  0.999869  \n",
      "y002199  -0.000086 -0.000066 -0.000046 -0.000025   1031.163838  0.999982  \n",
      "y003513  -0.000086 -0.000066 -0.000046 -0.000025   1031.163838  0.999982  \n",
      "y003543  -0.000127 -0.000098 -0.000068 -0.000036    698.874555  0.999925  \n",
      "y103554  -0.000505 -0.000388 -0.000270 -0.000144    176.166053  0.999946  \n",
      "y300018  -0.000935 -0.000719 -0.000499 -0.000267     95.179349  0.999947  \n",
      "SHSL1    -0.001897 -0.001458 -0.001014 -0.000542     46.886805  0.999950  \n",
      "GLYC3Ptm -0.001917 -0.001474 -0.001024 -0.000547     46.388203  0.999948  \n",
      "DHAPtm   -0.001951 -0.001500 -0.001043 -0.000557     45.583808  0.999949  \n",
      "y003520  -0.002332 -0.001793 -0.001246 -0.000666     38.132674  0.999950  \n",
      "y003527  -0.003563 -0.002739 -0.001904 -0.001017     24.962090  0.999948  \n",
      "y002125  -0.004339 -0.003336 -0.002319 -0.001239     20.496654  0.999949  \n",
      "y003530  -0.007126 -0.005478 -0.003808 -0.002034     12.480731  0.999949  \n",
      "y003526  -0.011667 -0.008969 -0.006234 -0.003331      7.623175  0.999949  \n",
      "y002119  -0.015660 -0.012039 -0.008367 -0.004471      5.679277  0.999949  \n",
      "FBA3      0.741567  0.742191  0.762222  0.765169      4.889869  0.660210  \n",
      "                   1         2         3         4         5         6  \\\n",
      "FBA3No1     0.750671  0.751264  0.751856  0.752448  0.753041  0.753633   \n",
      "PFK_3No1    0.750671  0.751264  0.751856  0.752448  0.753041  0.753633   \n",
      "TPINo1      0.746103  0.747141  0.748179  0.749218  0.750256  0.751294   \n",
      "RPINo1      0.158128  0.166436  0.174744  0.183052  0.191360  0.199668   \n",
      "TKT1No1     0.098046  0.112217  0.126389  0.140560  0.154732  0.168903   \n",
      "TKT2No1     0.057978  0.076060  0.094142  0.112223  0.130305  0.148387   \n",
      "y002140No1  0.022581  0.042797  0.063014  0.083230  0.103447  0.123663   \n",
      "PGKNo1      1.559193  1.578472  1.597751  1.617030  1.636310  1.655589   \n",
      "GAPDNo1     1.559193  1.578472  1.597751  1.617030  1.636310  1.655589   \n",
      "y001697     2.080528  2.104313  2.128097  2.151881  2.175665  2.199449   \n",
      "RPENo1      0.156023  0.188277  0.220530  0.252784  0.285037  0.317290   \n",
      "arm_PGL     0.314151  0.354713  0.395274  0.435836  0.476397  0.516958   \n",
      "GNDNo1      0.314151  0.354713  0.395274  0.435836  0.476397  0.516958   \n",
      "G6PDH2rNo1  0.314151  0.354713  0.395274  0.435836  0.476397  0.516958   \n",
      "PGLNo2      0.314151  0.354713  0.395274  0.435836  0.476397  0.516958   \n",
      "ENONo1      1.066376  1.141669  1.216961  1.292254  1.367546  1.442839   \n",
      "PGMNo1      1.066376  1.141669  1.216961  1.292254  1.367546  1.442839   \n",
      "PYKNo1      0.986241  1.069354  1.152467  1.235580  1.318693  1.401806   \n",
      "HCO3E       0.577017  0.677647  0.778277  0.878906  0.979536  1.080165   \n",
      "PPAmNo1     0.582541  0.705052  0.827563  0.950074  1.072584  1.195095   \n",
      "\n",
      "                   7         8         9        10     slope        r2  \n",
      "FBA3No1     0.754226  0.754818  0.755411  0.777585  5.294826  0.512839  \n",
      "PFK_3No1    0.754226  0.754818  0.755411  0.777585  5.294826  0.512839  \n",
      "TPINo1      0.752332  0.753371  0.754409  0.777037  5.258118  0.613360  \n",
      "RPINo1      0.207976  0.216284  0.224592  0.211487  2.670334  0.940055  \n",
      "TKT1No1     0.183075  0.197246  0.211418  0.204288  1.537427  0.981256  \n",
      "TKT2No1     0.166469  0.184551  0.202633  0.199486  1.192094  0.988904  \n",
      "y002140No1  0.143880  0.164097  0.184313  0.204526  1.010408  1.000000  \n",
      "PGKNo1      1.674868  1.694147  1.713426  1.754641  0.988610  0.991879  \n",
      "GAPDNo1     1.674868  1.694147  1.713426  1.754641  0.988610  0.991879  \n",
      "y001697     2.223233  2.247017  2.270801  2.301226  0.845451  0.999460  \n",
      "RPENo1      0.349544  0.381797  0.414051  0.403774  0.671645  0.985813  \n",
      "arm_PGL     0.557520  0.598081  0.638643  0.615261  0.538274  0.979248  \n",
      "GNDNo1      0.557520  0.598081  0.638643  0.615261  0.538274  0.979248  \n",
      "G6PDH2rNo1  0.557520  0.598081  0.638643  0.615261  0.538274  0.979248  \n",
      "PGLNo2      0.557520  0.598081  0.638643  0.615261  0.538274  0.979248  \n",
      "ENONo1      1.518131  1.593423  1.668716  1.742339  0.271626  0.999996  \n",
      "PGMNo1      1.518131  1.593423  1.668716  1.742339  0.271626  0.999996  \n",
      "PYKNo1      1.484919  1.568032  1.651145  1.732737  0.246016  0.999998  \n",
      "HCO3E       1.180795  1.281425  1.382054  1.489060  0.202284  0.999972  \n",
      "PPAmNo1     1.317606  1.440116  1.562627  1.700297  0.165597  0.999892  \n"
     ]
    }
   ],
   "source": [
    "biomass_rxn_id = 'xBIOMASS'\n",
    "test_rxn_id = 'test'\n",
    "\n",
    "def sorted_fseof(model, biomass_rxn_id, test_rxn_id):\n",
    "    # Revert the model to its original state:\n",
    "    model.reactions.get_by_id(biomass_rxn_id).lower_bound = 0\n",
    "    model.reactions.get_by_id(test_rxn_id).lower_bound = 0\n",
    "    model.objective = biomass_rxn_id\n",
    "    # Run analysis\n",
    "    fseof = FSEOF(model)\n",
    "    fseof_result = fseof.run(target=model.reactions.get_by_id(test_rxn_id))\n",
    "    fseof_df = fseof_result.data_frame\n",
    "    # For each row, create a linear model with the test exchange as prediction, and store the slope of said model:\n",
    "    fseof_df[\"slope\"] = np.nan\n",
    "    fseof_df[\"r2\"] = np.nan\n",
    "    for index, row in fseof_df.iterrows():\n",
    "        if sum(row) == 0:\n",
    "            fseof_df.loc[index,\"slope\"] = 0\n",
    "        else:\n",
    "            x = row.iloc[:-2]\n",
    "            y = fseof_df.loc[test_rxn_id].iloc[:-2]\n",
    "            A = np.vstack([x, np.ones(len(x))]).T\n",
    "            m, c = np.linalg.lstsq(A, y, rcond=None)[0]\n",
    "            resid = np.linalg.lstsq(A, y, rcond=None)[1]\n",
    "            r2 = 1 - resid / (y.size * y.var())\n",
    "            fseof_df.loc[index,\"slope\"] = m\n",
    "            try:\n",
    "                fseof_df.loc[index,\"r2\"] = r2\n",
    "            except:\n",
    "                fseof_df.loc[index,\"r2\"] = 0\n",
    "    # Sort the dataframe by slope and print only rows with R2 > 0.5:\n",
    "    fseof_df = fseof_df.sort_values(by=[\"slope\"], ascending=False)\n",
    "    print(fseof_df.loc[fseof_df.index != \"test\"].loc[fseof_df[\"r2\"] > 0.5].iloc[:20, :])\n",
    "    return fseof_df\n",
    "\n",
    "# Run the FSEOF analysis for both models:\n",
    "fseof_df = sorted_fseof(model, biomass_rxn_id, test_rxn_id)\n",
    "ec_fseof_df = sorted_fseof(ec_model, biomass_rxn_id, test_rxn_id)"
   ]
  },
  {
   "cell_type": "markdown",
   "metadata": {},
   "source": [
    "## 3. Integrating proteomics in an ecModel\n",
    "\n",
    "We will now load some data.\n",
    "\n",
    "**NB:** Data should come in mmol/gDW units."
   ]
  },
  {
   "cell_type": "code",
   "execution_count": 12,
   "metadata": {},
   "outputs": [
    {
     "data": {
      "text/plain": [
       "<bound method Series.items of ids\n",
       "Q6C1I4    7.728810e-06\n",
       "Q6C4R6    2.452620e-06\n",
       "Q6C1I7    6.206630e-06\n",
       "Q6CB22    6.751220e-07\n",
       "Q9B6E8    6.036220e-06\n",
       "              ...     \n",
       "Q6CCV6    5.227950e-06\n",
       "Q6C5I0    9.825330e-06\n",
       "Q6C793    8.445740e-07\n",
       "Q6CEQ0    8.268360e-06\n",
       "Q6C3M8    6.827770e-06\n",
       "Name: data, Length: 3550, dtype: float64>"
      ]
     },
     "execution_count": 12,
     "metadata": {},
     "output_type": "execute_result"
    }
   ],
   "source": [
    "proteomics = pd.read_csv(\"fake-data.csv\", index_col=0, squeeze=True)\n",
    "proteomics.items"
   ]
  },
  {
   "cell_type": "markdown",
   "metadata": {},
   "source": [
    "We now add the data to the ecModel:"
   ]
  },
  {
   "cell_type": "code",
   "execution_count": 13,
   "metadata": {},
   "outputs": [],
   "source": [
    "# Add simulations to python's search path & import simulation functions:\n",
    "sys.path.append('../../simulations/src')\n",
    "from simulations.modeling.driven import limit_proteins, flexibilize_proteomics\n",
    "\n",
    "# Limit model with abundances:\n",
    "limit_proteins(ec_model, proteomics)"
   ]
  },
  {
   "cell_type": "code",
   "execution_count": 14,
   "metadata": {},
   "outputs": [
    {
     "data": {
      "text/html": [
       "<strong><em>Optimal</em> solution with objective value 0.001</strong><br><div>\n",
       "<style scoped>\n",
       "    .dataframe tbody tr th:only-of-type {\n",
       "        vertical-align: middle;\n",
       "    }\n",
       "\n",
       "    .dataframe tbody tr th {\n",
       "        vertical-align: top;\n",
       "    }\n",
       "\n",
       "    .dataframe thead th {\n",
       "        text-align: right;\n",
       "    }\n",
       "</style>\n",
       "<table border=\"1\" class=\"dataframe\">\n",
       "  <thead>\n",
       "    <tr style=\"text-align: right;\">\n",
       "      <th></th>\n",
       "      <th>fluxes</th>\n",
       "      <th>reduced_costs</th>\n",
       "    </tr>\n",
       "  </thead>\n",
       "  <tbody>\n",
       "    <tr>\n",
       "      <th>xAMINOACID</th>\n",
       "      <td>1.169163e-03</td>\n",
       "      <td>2.308050e-15</td>\n",
       "    </tr>\n",
       "    <tr>\n",
       "      <th>xBIOMASS</th>\n",
       "      <td>1.169163e-03</td>\n",
       "      <td>1.422473e-16</td>\n",
       "    </tr>\n",
       "    <tr>\n",
       "      <th>xLIPID</th>\n",
       "      <td>1.169163e-06</td>\n",
       "      <td>7.382983e-15</td>\n",
       "    </tr>\n",
       "    <tr>\n",
       "      <th>xMAINTENANCE</th>\n",
       "      <td>7.000000e-01</td>\n",
       "      <td>-1.796347e-02</td>\n",
       "    </tr>\n",
       "    <tr>\n",
       "      <th>xPOOL_AC_EM</th>\n",
       "      <td>1.321756e-04</td>\n",
       "      <td>1.978669e-17</td>\n",
       "    </tr>\n",
       "    <tr>\n",
       "      <th>...</th>\n",
       "      <td>...</td>\n",
       "      <td>...</td>\n",
       "    </tr>\n",
       "    <tr>\n",
       "      <th>prot_Q9UVF4_exchange</th>\n",
       "      <td>4.025696e-11</td>\n",
       "      <td>0.000000e+00</td>\n",
       "    </tr>\n",
       "    <tr>\n",
       "      <th>prot_Q9Y753_exchange</th>\n",
       "      <td>4.247756e-09</td>\n",
       "      <td>0.000000e+00</td>\n",
       "    </tr>\n",
       "    <tr>\n",
       "      <th>prot_W0TYM5_exchange</th>\n",
       "      <td>0.000000e+00</td>\n",
       "      <td>0.000000e+00</td>\n",
       "    </tr>\n",
       "    <tr>\n",
       "      <th>prot_W0TYP2_exchange</th>\n",
       "      <td>0.000000e+00</td>\n",
       "      <td>0.000000e+00</td>\n",
       "    </tr>\n",
       "    <tr>\n",
       "      <th>test</th>\n",
       "      <td>0.000000e+00</td>\n",
       "      <td>-3.495360e-01</td>\n",
       "    </tr>\n",
       "  </tbody>\n",
       "</table>\n",
       "<p>4023 rows × 2 columns</p>\n",
       "</div>"
      ],
      "text/plain": [
       "<Solution 0.001 at 0x16d150b9e08>"
      ]
     },
     "execution_count": 14,
     "metadata": {},
     "output_type": "execute_result"
    }
   ],
   "source": [
    "# Visualize results:\n",
    "ec_model.optimize()"
   ]
  },
  {
   "cell_type": "markdown",
   "metadata": {},
   "source": [
    "Note that the model grows very slow! Probably due to some values in the data (it is fake after all...)\n",
    "\n",
    "## 4. Flexibilization\n",
    "\n",
    "Experimental proteomics measurements can be too restrictive, due to instrument error and/or non-accurate kinetic data in the model. Thus, a flexibilization of the proteomics data is usually required to work with enzyme constrained models. Let's do that by requiring at least a growth rate of 0.1 1/h:"
   ]
  },
  {
   "cell_type": "code",
   "execution_count": 15,
   "metadata": {
    "scrolled": true
   },
   "outputs": [
    {
     "name": "stdout",
     "output_type": "stream",
     "text": [
      "new growth rate: {'measurement': 0.1, 'uncertainty': 0.01} h-1\n",
      "filtered proteins: 46 proteins\n"
     ]
    }
   ],
   "source": [
    "# Convert proteomics to list opf dictionaries (required for flexibilizing):\n",
    "proteomics_list = []\n",
    "for key, value in proteomics.items():\n",
    "    protein = {\"identifier\":key, \"measurement\":value, \"uncertainty\":0}\n",
    "    proteomics_list.append(protein)\n",
    "\n",
    "#Flexibilize proteomics:\n",
    "D = {\"measurement\":0.1, \"uncertainty\":0.01}\n",
    "new_growth_rate, proteomics_filtered, warnings = flexibilize_proteomics(ec_model, biomass_rxn_id, D, proteomics_list, [])\n",
    "print(f\"new growth rate: {new_growth_rate} h-1\")\n",
    "print(f\"filtered proteins: {len(proteomics) - len(proteomics_filtered)} proteins\")"
   ]
  },
  {
   "cell_type": "code",
   "execution_count": 16,
   "metadata": {},
   "outputs": [
    {
     "data": {
      "text/html": [
       "<strong><em>Optimal</em> solution with objective value 0.099</strong><br><div>\n",
       "<style scoped>\n",
       "    .dataframe tbody tr th:only-of-type {\n",
       "        vertical-align: middle;\n",
       "    }\n",
       "\n",
       "    .dataframe tbody tr th {\n",
       "        vertical-align: top;\n",
       "    }\n",
       "\n",
       "    .dataframe thead th {\n",
       "        text-align: right;\n",
       "    }\n",
       "</style>\n",
       "<table border=\"1\" class=\"dataframe\">\n",
       "  <thead>\n",
       "    <tr style=\"text-align: right;\">\n",
       "      <th></th>\n",
       "      <th>fluxes</th>\n",
       "      <th>reduced_costs</th>\n",
       "    </tr>\n",
       "  </thead>\n",
       "  <tbody>\n",
       "    <tr>\n",
       "      <th>xAMINOACID</th>\n",
       "      <td>9.851700e-02</td>\n",
       "      <td>-3.667205e-15</td>\n",
       "    </tr>\n",
       "    <tr>\n",
       "      <th>xBIOMASS</th>\n",
       "      <td>9.851700e-02</td>\n",
       "      <td>2.525757e-15</td>\n",
       "    </tr>\n",
       "    <tr>\n",
       "      <th>xLIPID</th>\n",
       "      <td>9.851700e-05</td>\n",
       "      <td>6.217249e-15</td>\n",
       "    </tr>\n",
       "    <tr>\n",
       "      <th>xMAINTENANCE</th>\n",
       "      <td>7.000000e-01</td>\n",
       "      <td>-6.684597e-03</td>\n",
       "    </tr>\n",
       "    <tr>\n",
       "      <th>xPOOL_AC_EM</th>\n",
       "      <td>0.000000e+00</td>\n",
       "      <td>-9.063930e-17</td>\n",
       "    </tr>\n",
       "    <tr>\n",
       "      <th>...</th>\n",
       "      <td>...</td>\n",
       "      <td>...</td>\n",
       "    </tr>\n",
       "    <tr>\n",
       "      <th>prot_Q9UVF4_exchange</th>\n",
       "      <td>5.908207e-11</td>\n",
       "      <td>0.000000e+00</td>\n",
       "    </tr>\n",
       "    <tr>\n",
       "      <th>prot_Q9Y753_exchange</th>\n",
       "      <td>3.579282e-07</td>\n",
       "      <td>0.000000e+00</td>\n",
       "    </tr>\n",
       "    <tr>\n",
       "      <th>prot_W0TYM5_exchange</th>\n",
       "      <td>0.000000e+00</td>\n",
       "      <td>0.000000e+00</td>\n",
       "    </tr>\n",
       "    <tr>\n",
       "      <th>prot_W0TYP2_exchange</th>\n",
       "      <td>0.000000e+00</td>\n",
       "      <td>-1.027562e+00</td>\n",
       "    </tr>\n",
       "    <tr>\n",
       "      <th>test</th>\n",
       "      <td>0.000000e+00</td>\n",
       "      <td>-8.126420e-01</td>\n",
       "    </tr>\n",
       "  </tbody>\n",
       "</table>\n",
       "<p>4023 rows × 2 columns</p>\n",
       "</div>"
      ],
      "text/plain": [
       "<Solution 0.099 at 0x16d15095f08>"
      ]
     },
     "execution_count": 16,
     "metadata": {},
     "output_type": "execute_result"
    }
   ],
   "source": [
    "ec_model.optimize()"
   ]
  },
  {
   "cell_type": "markdown",
   "metadata": {},
   "source": [
    "Now that we have a functional model, we can repeat the previous FSEOF analysis"
   ]
  },
  {
   "cell_type": "code",
   "execution_count": 17,
   "metadata": {},
   "outputs": [
    {
     "name": "stdout",
     "output_type": "stream",
     "text": [
      "                      1         2         3         4         5         6  \\\n",
      "COAtim         0.000000  0.000000  0.000000  0.000000  0.000000  0.000000   \n",
      "HMGCOAtm_REV   0.000000  0.000000  0.000000  0.000000  0.000000  0.000000   \n",
      "y000560No1     0.000000  0.000000  0.000000  0.000000  0.000000  0.000000   \n",
      "ACACT1mNo1     0.000000  0.000000  0.000000  0.000000  0.000000  0.000000   \n",
      "LEUTAm_REVNo1  0.000000  0.000000  0.000000  0.000000  0.000000  0.007929   \n",
      "y300030        0.000000  0.000000  0.000000  0.000000  0.000000  0.007929   \n",
      "3C4MOPtm       0.000000  0.000000  0.000000  0.000000  0.000000  0.007929   \n",
      "OMCDCmNo1      0.000000  0.000000  0.000000  0.000000  0.000000  0.007929   \n",
      "ME2mNo1        0.000000  0.000000  0.000000  0.000000  0.006942  0.014341   \n",
      "HSDxiNo1       0.000000  0.000000  0.000000  0.000000  0.000000  0.000000   \n",
      "ICDHymNo1      0.009079  0.003956  0.000000  0.000000  0.000000  0.000000   \n",
      "arm_MTHFD      0.000000  0.000000  0.014279  0.000000  0.000000  0.040708   \n",
      "MTHFDNo1       0.000000  0.000000  0.014279  0.000000  0.000000  0.040708   \n",
      "y002140No1     0.013999  0.027995  0.040867  0.053740  0.066611  0.079483   \n",
      "TPINo1         0.448674  0.529729  0.546916  0.557000  0.567174  0.577347   \n",
      "PFKNo1         0.450801  0.533979  0.550902  0.560724  0.570633  0.580542   \n",
      "FBANo1         0.450801  0.533979  0.550902  0.560724  0.570633  0.580542   \n",
      "PGINo1         0.000000  0.000000  0.000000  0.001332  0.008414  0.015496   \n",
      "PYKNo1         1.066726  1.267043  1.299623  1.325019  1.350638  1.376257   \n",
      "ENONo1         1.112573  1.341584  1.369544  1.390345  1.411329  1.432313   \n",
      "\n",
      "                      7         8         9        10      slope        r2  \n",
      "COAtim         0.003199  0.007141  0.006420  0.005691  10.887722  0.746432  \n",
      "HMGCOAtm_REV   0.003199  0.007141  0.006420  0.005691  10.887722  0.746432  \n",
      "y000560No1     0.003199  0.007141  0.006420  0.005691  10.887722  0.746432  \n",
      "ACACT1mNo1     0.003199  0.007141  0.006420  0.005691  10.887722  0.746432  \n",
      "LEUTAm_REVNo1  0.020986  0.023219  0.020874  0.018503   3.302515  0.792532  \n",
      "y300030        0.020986  0.023219  0.020874  0.018503   3.302515  0.792532  \n",
      "3C4MOPtm       0.020986  0.023219  0.020874  0.018503   3.302515  0.792532  \n",
      "OMCDCmNo1      0.020986  0.023219  0.020874  0.018503   3.302515  0.792532  \n",
      "ME2mNo1        0.026868  0.028569  0.025684  0.022766   2.850548  0.836422  \n",
      "HSDxiNo1       0.000000  0.000000  0.012899  0.028568   2.785022  0.506082  \n",
      "ICDHymNo1      0.000000  0.034966  0.031435  0.027864   1.801790  0.505526  \n",
      "arm_MTHFD      0.037340  0.033964  0.068912  0.034207   1.336049  0.683968  \n",
      "MTHFDNo1       0.037340  0.033964  0.068912  0.034207   1.336049  0.683968  \n",
      "y002140No1     0.092354  0.105225  0.118094  0.130962   1.004849  0.999946  \n",
      "TPINo1         0.587526  0.585370  0.639376  0.634912   0.668575  0.868217  \n",
      "PFKNo1         0.590458  0.588036  0.641773  0.637037   0.666985  0.860167  \n",
      "FBANo1         0.590458  0.588036  0.641773  0.637037   0.666985  0.860167  \n",
      "PGINo1         0.022583  0.000000  0.130738  0.093196   0.617077  0.572601  \n",
      "PYKNo1         1.401892  1.415230  1.484974  1.496427   0.294157  0.868801  \n",
      "ENONo1         1.453310  1.461999  1.527020  1.533696   0.290608  0.802590  \n"
     ]
    }
   ],
   "source": [
    "# Run the FSEOF analysis, filtering out any reaction that is not a protein exchange pseudo-rxn:\n",
    "ec_fseof_df = sorted_fseof(ec_model, biomass_rxn_id, test_rxn_id)"
   ]
  },
  {
   "cell_type": "markdown",
   "metadata": {},
   "source": [
    "## 5. Enzyme Usage\n",
    "\n",
    "Finally, we can  look at enzyme usage values between biomass production and our test production. For this, we should first perform simulations with the ecModel now that it has proteomics data integrated:"
   ]
  },
  {
   "cell_type": "code",
   "execution_count": 18,
   "metadata": {},
   "outputs": [],
   "source": [
    "def simulate_ec_model(model, rxn_id):\n",
    "    # First optimization: maximize input\n",
    "    model.objective = rxn_id\n",
    "    solution = model.optimize()\n",
    "    # Second optimization: minimize glucose\n",
    "    model.reactions.get_by_id(rxn_id).lower_bound = solution.fluxes[rxn_id]\n",
    "    glc_rxn = model.reactions.get_by_id(\"EX_glc__D_e_REV\")\n",
    "    model.objective = {glc_rxn: -1}\n",
    "    solution = pfba(model)\n",
    "    return solution\n",
    "\n",
    "def print_fluxes(model, solution, bio_rxn_id):\n",
    "    print(\"growth: \" + str(solution.fluxes[bio_rxn_id]))\n",
    "    for rxn in model.reactions:\n",
    "        if (len(rxn.metabolites) == 1 or rxn.id == \"test\") and solution.fluxes[rxn.id] != 0 and \"_exchange\" not in rxn.id:\n",
    "            print(rxn.id + \": \" + str(solution.fluxes[rxn.id]))"
   ]
  },
  {
   "cell_type": "markdown",
   "metadata": {},
   "source": [
    "Condition 1: 100% of carbon going towards biomass."
   ]
  },
  {
   "cell_type": "code",
   "execution_count": 19,
   "metadata": {},
   "outputs": [
    {
     "name": "stdout",
     "output_type": "stream",
     "text": [
      "growth: 0.09851700232834214\n",
      "EX_co2_e: 2.254600561855864\n",
      "EX_h2o_e: 13.22411702635702\n",
      "y002111: 0.09851700232834214\n",
      "y001654_REV: 0.8810678950590556\n",
      "EX_glc__D_e_REV: 1.0\n",
      "EX_h_e_REV: 8.861037207464555\n",
      "EX_inost_e_REV: 0.00035466120838203167\n",
      "EX_o2_e_REV: 2.130476511070629\n",
      "EX_pi_e_REV: 0.04687350305479499\n",
      "EX_so4_e_REV: 0.019210815454026718\n"
     ]
    }
   ],
   "source": [
    "ec_sol_biomass = simulate_ec_model(ec_model, biomass_rxn_id)\n",
    "print_fluxes(ec_model, ec_sol_biomass, biomass_rxn_id)"
   ]
  },
  {
   "cell_type": "markdown",
   "metadata": {},
   "source": [
    "Condition 2: 20% going towards the desired metabolite, and the rest to biomass."
   ]
  },
  {
   "cell_type": "code",
   "execution_count": 20,
   "metadata": {},
   "outputs": [
    {
     "name": "stdout",
     "output_type": "stream",
     "text": [
      "growth: 0.07881360186267372\n",
      "EX_co2_e: 2.240301346058031\n",
      "EX_h2o_e: 11.20362571162318\n",
      "y002111: 0.07881360186267372\n",
      "y001654_REV: 0.7048543160472669\n",
      "EX_glc__D_e_REV: 1.0\n",
      "EX_h_e_REV: 7.427626345008472\n",
      "EX_inost_e_REV: 0.0002837289667056254\n",
      "EX_o2_e_REV: 1.8070237476807125\n",
      "EX_pi_e_REV: 0.03749880244384594\n",
      "EX_so4_e_REV: 0.015368652363221377\n",
      "test: 0.047711193964163304\n"
     ]
    }
   ],
   "source": [
    "ec_model.reactions.get_by_id(biomass_rxn_id).lower_bound = 0.8 * ec_sol_biomass.fluxes[biomass_rxn_id]\n",
    "ec_sol_test = simulate_ec_model(ec_model, test_rxn_id)\n",
    "print_fluxes(ec_model, ec_sol_test, biomass_rxn_id)"
   ]
  },
  {
   "cell_type": "markdown",
   "metadata": {},
   "source": [
    "Now let's build a dataframe with all enzyme usages under both conditions. We are looking for this in the `prot_XXXXXX_exchange` rxns, and they are all in units of `mmol/gDW`."
   ]
  },
  {
   "cell_type": "code",
   "execution_count": 21,
   "metadata": {},
   "outputs": [
    {
     "name": "stdout",
     "output_type": "stream",
     "text": [
      "                 gene  biomass_usage    test_usage\n",
      "B5FVA8  YALI0_B01771g   0.000000e+00  0.000000e+00\n",
      "B5FVG3  YALI0_E32164g   1.460908e-04  1.268095e-04\n",
      "B5FVG6  YALI0_E32736g   0.000000e+00  0.000000e+00\n",
      "F2Z5Z7  YALI0_B09361g   0.000000e+00  0.000000e+00\n",
      "F2Z650  YALI0_E01056g   4.732307e-09  0.000000e+00\n",
      "...               ...            ...           ...\n",
      "Q99148  YALI0_F21010g   1.913285e-06  1.530628e-06\n",
      "Q9UVF4  YALI0_B02948g   5.908207e-11  2.713734e-09\n",
      "Q9Y753  YALI0_A10076g   3.579282e-07  2.863425e-07\n",
      "W0TYM5  YALI0_E11355g   0.000000e+00  0.000000e+00\n",
      "W0TYP2  YALI0_B11154g   0.000000e+00  0.000000e+00\n",
      "\n",
      "[647 rows x 3 columns]\n"
     ]
    }
   ],
   "source": [
    "usage_df = pd.DataFrame()\n",
    "for reaction in ec_model.reactions:\n",
    "    if reaction.id.startswith(\"prot_\") and reaction.id.endswith(\"_exchange\"):\n",
    "        new_line = pd.DataFrame(index = [reaction.id[5:11]],\n",
    "                                data = {\"gene\":reaction.gene_reaction_rule,\n",
    "                                        \"biomass_usage\":[ec_sol_biomass.fluxes[reaction.id]],\n",
    "                                        \"test_usage\":[ec_sol_test.fluxes[reaction.id]]})\n",
    "        usage_df = usage_df.append(new_line)\n",
    "\n",
    "print(usage_df)"
   ]
  },
  {
   "cell_type": "markdown",
   "metadata": {},
   "source": [
    "Let's make sure all values are positive:"
   ]
  },
  {
   "cell_type": "code",
   "execution_count": 22,
   "metadata": {},
   "outputs": [
    {
     "name": "stdout",
     "output_type": "stream",
     "text": [
      "                 gene  biomass_usage  test_usage\n",
      "B5FVA8  YALI0_B01771g            0.0         0.0\n",
      "Q6CA24  YALI0_D06501g            0.0         0.0\n",
      "Q6CA04  YALI0_D06930g            0.0         0.0\n",
      "Q6CA02  YALI0_D06974g            0.0         0.0\n",
      "Q6C9Z8  YALI0_D07062g            0.0         0.0\n",
      "                 gene  biomass_usage  test_usage\n",
      "B5FVA8  YALI0_B01771g            0.0         0.0\n",
      "Q6C0Q9  YALI0_F22517g            0.0         0.0\n",
      "Q6C0Q5  YALI0_F22605g            0.0         0.0\n",
      "Q6C2G0  YALI0_F08195g            0.0         0.0\n",
      "Q6C2F9  YALI0_F08217g            0.0         0.0\n"
     ]
    }
   ],
   "source": [
    "usage_df = usage_df.sort_values(by=['biomass_usage'])\n",
    "print(usage_df.head(n=5))\n",
    "usage_df = usage_df.sort_values(by=['test_usage'])\n",
    "print(usage_df.head(n=5))"
   ]
  },
  {
   "cell_type": "markdown",
   "metadata": {},
   "source": [
    "There are a lot of rows with zero usage under both conditions, so let's filter them out:"
   ]
  },
  {
   "cell_type": "code",
   "execution_count": 23,
   "metadata": {},
   "outputs": [
    {
     "name": "stdout",
     "output_type": "stream",
     "text": [
      "                 gene  biomass_usage  test_usage\n",
      "Q6CA97  YALI0_D04741g   1.907871e-07    0.000000\n",
      "Q6C4S9  YALI0_E24013g   1.907871e-07    0.000000\n",
      "Q6CG81  YALI0_A21417g   6.945781e-08    0.000000\n",
      "F2Z650  YALI0_E01056g   4.732307e-09    0.000000\n",
      "Q6C8R8  YALI0_D17534g   8.306858e-11    0.000000\n",
      "...               ...            ...         ...\n",
      "Q6C326  YALI0_F03179g   1.460908e-04    0.000127\n",
      "Q6C2V6  YALI0_F04774g   1.460908e-04    0.000127\n",
      "Q6CFH9  YALI0_B06831g   1.460908e-04    0.000127\n",
      "Q6C877  YALI0_D22022g   1.460908e-04    0.000127\n",
      "Q6C4K5  YALI0_E26004g   2.564441e-02    0.030103\n",
      "\n",
      "[238 rows x 3 columns]\n"
     ]
    }
   ],
   "source": [
    "usage_df = usage_df.query(\"biomass_usage > 0 or test_usage > 0\")\n",
    "print(usage_df)"
   ]
  },
  {
   "cell_type": "markdown",
   "metadata": {},
   "source": [
    "Now let's compute usage changes. We will look at both absolute changes (the difference between both conditions) and relative changes (the fold change or ratio between them)."
   ]
  },
  {
   "cell_type": "code",
   "execution_count": 24,
   "metadata": {},
   "outputs": [
    {
     "name": "stdout",
     "output_type": "stream",
     "text": [
      "                 gene  biomass_usage  test_usage   abs_changes  rel_changes\n",
      "Q6CA97  YALI0_D04741g   1.907871e-07    0.000000 -1.907871e-07     0.000000\n",
      "Q6C4S9  YALI0_E24013g   1.907871e-07    0.000000 -1.907871e-07     0.000000\n",
      "Q6CG81  YALI0_A21417g   6.945781e-08    0.000000 -6.945781e-08     0.000000\n",
      "F2Z650  YALI0_E01056g   4.732307e-09    0.000000 -4.732307e-09     0.000000\n",
      "Q6C8R8  YALI0_D17534g   8.306858e-11    0.000000 -8.306858e-11     0.000000\n",
      "...               ...            ...         ...           ...          ...\n",
      "Q6C326  YALI0_F03179g   1.460908e-04    0.000127 -1.928124e-05     0.868019\n",
      "Q6C2V6  YALI0_F04774g   1.460908e-04    0.000127 -1.928124e-05     0.868019\n",
      "Q6CFH9  YALI0_B06831g   1.460908e-04    0.000127 -1.928124e-05     0.868019\n",
      "Q6C877  YALI0_D22022g   1.460908e-04    0.000127 -1.928124e-05     0.868019\n",
      "Q6C4K5  YALI0_E26004g   2.564441e-02    0.030103  4.458712e-03     1.173867\n",
      "\n",
      "[238 rows x 5 columns]\n"
     ]
    }
   ],
   "source": [
    "usage_df[\"abs_changes\"] = usage_df[\"test_usage\"] - usage_df[\"biomass_usage\"]\n",
    "usage_df[\"rel_changes\"] = usage_df[\"test_usage\"] / usage_df[\"biomass_usage\"]\n",
    "print(usage_df)"
   ]
  },
  {
   "cell_type": "markdown",
   "metadata": {},
   "source": [
    "We can now sort and take a look at the top 20 of enzymes that:\n",
    "\n",
    "* Increased their absolute usage the most:"
   ]
  },
  {
   "cell_type": "code",
   "execution_count": 25,
   "metadata": {},
   "outputs": [
    {
     "name": "stdout",
     "output_type": "stream",
     "text": [
      "                 gene  biomass_usage    test_usage   abs_changes  rel_changes\n",
      "Q6C4K5  YALI0_E26004g   2.564441e-02  3.010312e-02  4.458712e-03     1.173867\n",
      "Q6CFH4  YALI0_B06941g   4.716381e-05  5.211255e-05  4.948746e-06     1.104927\n",
      "Q6C2W9  YALI0_F04444g   4.288555e-06  5.324043e-06  1.035489e-06     1.241454\n",
      "P34229  YALI0_B15059g   2.369197e-07  1.117232e-06  8.803125e-07     4.715658\n",
      "Q6CEH4  YALI0_B15598g   3.240830e-06  3.774704e-06  5.338739e-07     1.164734\n",
      "Q6CG57  YALI0_B00704g   3.615185e-06  3.997173e-06  3.819873e-07     1.105662\n",
      "Q6C6T4  YALI0_E06479g   1.460020e-06  1.758435e-06  2.984155e-07     1.204391\n",
      "Q6C9L5  YALI0_D10131g   7.293276e-07  9.233388e-07  1.940111e-07     1.266014\n",
      "Q6C0A1  YALI0_F26521g   0.000000e+00  1.461931e-07  1.461931e-07          inf\n",
      "Q6BZZ9  YALI0_F29337g   2.799737e-06  2.882254e-06  8.251687e-08     1.029473\n",
      "Q6C1T4  YALI0_F13541g   8.094064e-07  8.881473e-07  7.874093e-08     1.097282\n",
      "P30614  YALI0_F09185g   1.518052e-06  1.565965e-06  4.791287e-08     1.031562\n",
      "Q6C4Y7  YALI0_E22649g   2.102894e-07  2.449312e-07  3.464175e-08     1.164734\n",
      "Q6C138  YALI0_F19514g   0.000000e+00  3.081273e-08  3.081273e-08          inf\n",
      "Q6C1F3  YALI0_F16819g   1.632133e-06  1.660283e-06  2.815021e-08     1.017248\n",
      "Q6CCU7  YALI0_C06369g   1.621225e-06  1.648895e-06  2.766958e-08     1.017067\n",
      "Q6CC71  YALI0_C11880g   1.094272e-07  1.317932e-07  2.236598e-08     1.204391\n",
      "Q6CFX7  YALI0_B02728g   7.083026e-07  7.205190e-07  1.221645e-08     1.017248\n",
      "Q6C682  YALI0_E11671g   7.006639e-08  8.160868e-08  1.154229e-08     1.164734\n",
      "P29407  YALI0_D12400g   3.939025e-07  4.006252e-07  6.722766e-09     1.017067\n"
     ]
    }
   ],
   "source": [
    "usage_df = usage_df.sort_values(by=['abs_changes'])\n",
    "print(usage_df.tail(n=20).iloc[::-1])"
   ]
  },
  {
   "cell_type": "markdown",
   "metadata": {},
   "source": [
    "* Decreased their absolute usage the most:"
   ]
  },
  {
   "cell_type": "code",
   "execution_count": 26,
   "metadata": {},
   "outputs": [
    {
     "name": "stdout",
     "output_type": "stream",
     "text": [
      "                 gene  biomass_usage  test_usage  abs_changes  rel_changes\n",
      "Q6C968  YALI0_D13596g       0.000173    0.000119    -0.000055     0.684986\n",
      "Q6C5V2  YALI0_E14949g       0.000075    0.000048    -0.000027     0.639825\n",
      "Q6C877  YALI0_D22022g       0.000146    0.000127    -0.000019     0.868019\n",
      "Q6CFH9  YALI0_B06831g       0.000146    0.000127    -0.000019     0.868019\n",
      "Q6C2V6  YALI0_F04774g       0.000146    0.000127    -0.000019     0.868019\n",
      "Q6C326  YALI0_F03179g       0.000146    0.000127    -0.000019     0.868019\n",
      "Q6C338  YALI0_F02893g       0.000146    0.000127    -0.000019     0.868019\n",
      "Q6C105  YALI0_F20306g       0.000146    0.000127    -0.000019     0.868019\n",
      "Q6CFT7  YALI0_B03982g       0.000146    0.000127    -0.000019     0.868019\n",
      "Q6C9E6  YALI0_D11814g       0.000146    0.000127    -0.000019     0.868019\n",
      "B5FVG3  YALI0_E32164g       0.000146    0.000127    -0.000019     0.868019\n",
      "Q6C9B1  YALI0_D12584g       0.000146    0.000127    -0.000019     0.868019\n",
      "Q6C8S0  YALI0_D17490g       0.000146    0.000127    -0.000019     0.868019\n",
      "Q6C0G7  YALI0_F24893g       0.000058    0.000046    -0.000012     0.800000\n",
      "Q6C2D9  YALI0_F08701g       0.000054    0.000043    -0.000011     0.800000\n",
      "Q6C8C2  YALI0_D20878g       0.000039    0.000031    -0.000008     0.800000\n",
      "Q6CGM4  YALI0_A18062g       0.000039    0.000031    -0.000008     0.800000\n",
      "Q6C627  YALI0_E13057g       0.000028    0.000023    -0.000006     0.800000\n",
      "Q6C0G0  YALI0_F25047g       0.000026    0.000021    -0.000005     0.800000\n",
      "Q6CER7  YALI0_B13552g       0.000026    0.000021    -0.000005     0.800000\n"
     ]
    }
   ],
   "source": [
    "print(usage_df.head(n=20))"
   ]
  },
  {
   "cell_type": "markdown",
   "metadata": {},
   "source": [
    "* Increased their relative usage the most:"
   ]
  },
  {
   "cell_type": "code",
   "execution_count": 27,
   "metadata": {},
   "outputs": [
    {
     "name": "stdout",
     "output_type": "stream",
     "text": [
      "                 gene  biomass_usage    test_usage   abs_changes  rel_changes\n",
      "Q6C0A1  YALI0_F26521g   0.000000e+00  1.461931e-07  1.461931e-07          inf\n",
      "Q6C138  YALI0_F19514g   0.000000e+00  3.081273e-08  3.081273e-08          inf\n",
      "Q9UVF4  YALI0_B02948g   5.908207e-11  2.713734e-09  2.654652e-09    45.931591\n",
      "Q6CC91  YALI0_C11407g   6.581142e-11  3.103468e-10  2.445354e-10     4.715699\n",
      "Q6C416  YALI0_E30591g   6.581142e-11  3.103468e-10  2.445354e-10     4.715699\n",
      "P34229  YALI0_B15059g   2.369197e-07  1.117232e-06  8.803125e-07     4.715658\n",
      "Q6C2Q5  YALI0_F05962g   1.407104e-08  1.791223e-08  3.841190e-09     1.272986\n",
      "Q6C9L5  YALI0_D10131g   7.293276e-07  9.233388e-07  1.940111e-07     1.266014\n",
      "Q6C2W9  YALI0_F04444g   4.288555e-06  5.324043e-06  1.035489e-06     1.241454\n",
      "Q6C6T4  YALI0_E06479g   1.460020e-06  1.758435e-06  2.984155e-07     1.204391\n",
      "Q6CC71  YALI0_C11880g   1.094272e-07  1.317932e-07  2.236598e-08     1.204391\n",
      "Q6C4K5  YALI0_E26004g   2.564441e-02  3.010312e-02  4.458712e-03     1.173867\n",
      "Q6C4Y7  YALI0_E22649g   2.102894e-07  2.449312e-07  3.464175e-08     1.164734\n",
      "Q6C682  YALI0_E11671g   7.006639e-08  8.160868e-08  1.154229e-08     1.164734\n",
      "Q6CEH4  YALI0_B15598g   3.240830e-06  3.774704e-06  5.338739e-07     1.164734\n",
      "Q6CG57  YALI0_B00704g   3.615185e-06  3.997173e-06  3.819873e-07     1.105662\n",
      "Q6CFH4  YALI0_B06941g   4.716381e-05  5.211255e-05  4.948746e-06     1.104927\n",
      "Q6C1T4  YALI0_F13541g   8.094064e-07  8.881473e-07  7.874093e-08     1.097282\n",
      "P30614  YALI0_F09185g   1.518052e-06  1.565965e-06  4.791287e-08     1.031562\n",
      "Q6BZZ9  YALI0_F29337g   2.799737e-06  2.882254e-06  8.251687e-08     1.029473\n"
     ]
    }
   ],
   "source": [
    "usage_df = usage_df.sort_values(by=['rel_changes'])\n",
    "print(usage_df.tail(n=20).iloc[::-1])"
   ]
  },
  {
   "cell_type": "markdown",
   "metadata": {},
   "source": [
    "* Decreased their relative usage the most:"
   ]
  },
  {
   "cell_type": "code",
   "execution_count": 28,
   "metadata": {},
   "outputs": [
    {
     "name": "stdout",
     "output_type": "stream",
     "text": [
      "                 gene  biomass_usage    test_usage   abs_changes  rel_changes\n",
      "F2Z650  YALI0_E01056g   4.732307e-09  0.000000e+00 -4.732307e-09     0.000000\n",
      "Q6CG81  YALI0_A21417g   6.945781e-08  0.000000e+00 -6.945781e-08     0.000000\n",
      "Q6C8R8  YALI0_D17534g   8.306858e-11  0.000000e+00 -8.306858e-11     0.000000\n",
      "Q6CA97  YALI0_D04741g   1.907871e-07  0.000000e+00 -1.907871e-07     0.000000\n",
      "Q6C4S9  YALI0_E24013g   1.907871e-07  0.000000e+00 -1.907871e-07     0.000000\n",
      "Q6C0W4  YALI0_F21197g   8.036518e-07  1.226920e-07 -6.809598e-07     0.152668\n",
      "Q6CF46  YALI0_B10340g   8.041738e-07  1.231097e-07 -6.810642e-07     0.153088\n",
      "Q6C2I1  YALI0_F07711g   2.894179e-08  1.166083e-08 -1.728097e-08     0.402906\n",
      "Q6C3M8  YALI0_E33517g   1.734581e-07  7.171424e-08 -1.017439e-07     0.413438\n",
      "Q6C5L8  YALI0_E16929g   1.734581e-07  7.171424e-08 -1.017439e-07     0.413438\n",
      "Q6CA33  YALI0_D06303g   3.165788e-06  1.628464e-06 -1.537324e-06     0.514395\n",
      "Q6C340  YALI0_F02849g   1.065339e-07  5.623237e-08 -5.030157e-08     0.527835\n",
      "Q6C7J7  YALI0_E00242g   1.065339e-07  5.623237e-08 -5.030157e-08     0.527835\n",
      "Q6CHE0  YALI0_A09856g   1.065339e-07  5.623237e-08 -5.030157e-08     0.527835\n",
      "Q6CGZ0  YALI0_A14784g   7.142255e-07  4.248556e-07 -2.893699e-07     0.594848\n",
      "Q6C823  YALI0_D23397g   7.142255e-07  4.248556e-07 -2.893699e-07     0.594848\n",
      "Q6C9G6  YALI0_D11374g   7.142255e-07  4.248556e-07 -2.893699e-07     0.594848\n",
      "Q6C450  YALI0_E29667g   7.142255e-07  4.248556e-07 -2.893699e-07     0.594848\n",
      "Q6CCT2  YALI0_C06776g   6.564298e-07  4.053111e-07 -2.511187e-07     0.617448\n",
      "Q6C793  YALI0_E02684g   5.109403e-06  3.269122e-06 -1.840281e-06     0.639825\n"
     ]
    }
   ],
   "source": [
    "print(usage_df.head(n=20))"
   ]
  },
  {
   "cell_type": "code",
   "execution_count": null,
   "metadata": {},
   "outputs": [],
   "source": []
  }
 ],
 "metadata": {
  "kernelspec": {
   "display_name": "Python 3",
   "language": "python",
   "name": "python3"
  },
  "language_info": {
   "codemirror_mode": {
    "name": "ipython",
    "version": 3
   },
   "file_extension": ".py",
   "mimetype": "text/x-python",
   "name": "python",
   "nbconvert_exporter": "python",
   "pygments_lexer": "ipython3",
   "version": "3.7.6"
  }
 },
 "nbformat": 4,
 "nbformat_minor": 2
}
