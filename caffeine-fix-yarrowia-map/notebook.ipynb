{
 "cells": [
  {
   "cell_type": "markdown",
   "metadata": {},
   "source": [
    "# Fix gene ids in iYali map\n",
    "\n",
    "This notebook fixes the iYali gene ids available at https://caffeine.dd-decaf.eu/\n",
    "\n",
    "Benjamín J. Sánchez, 2020-03-23\n",
    "\n",
    "## 1. Getting model and map\n",
    "\n",
    "* Model: https://api.dd-decaf.eu/model-storage/models/44\n",
    "* Map: https://api.dd-decaf.eu/map-storage/maps/37"
   ]
  },
  {
   "cell_type": "code",
   "execution_count": 1,
   "metadata": {},
   "outputs": [
    {
     "data": {
      "text/plain": [
       "'iYali-map.json'"
      ]
     },
     "execution_count": 1,
     "metadata": {},
     "output_type": "execute_result"
    }
   ],
   "source": [
    "import wget\n",
    "import os\n",
    "\n",
    "def deleteIfExists(filename):\n",
    "    if os.path.exists(filename):\n",
    "        os.remove(filename)\n",
    "\n",
    "deleteIfExists(\"iYali-model.json\")\n",
    "deleteIfExists(\"iYali-map.json\")\n",
    "wget.download(\"https://api.dd-decaf.eu/model-storage/models/44\", \"iYali-model.json\", bar=False)\n",
    "wget.download(\"https://api.dd-decaf.eu/map-storage/maps/37\", \"iYali-map.json\", bar=False)"
   ]
  },
  {
   "cell_type": "markdown",
   "metadata": {},
   "source": [
    "Let's check if they are the same in staging:\n",
    "\n",
    "* Model: https://api-staging.dd-decaf.eu/model-storage/models/44\n",
    "* Map: https://api-staging.dd-decaf.eu/map-storage/maps/90"
   ]
  },
  {
   "cell_type": "code",
   "execution_count": 2,
   "metadata": {},
   "outputs": [
    {
     "data": {
      "text/plain": [
       "'iYali-map.json'"
      ]
     },
     "execution_count": 2,
     "metadata": {},
     "output_type": "execute_result"
    }
   ],
   "source": [
    "deleteIfExists(\"iYali-model.json\")\n",
    "deleteIfExists(\"iYali-map.json\")\n",
    "wget.download(\"https://api-staging.dd-decaf.eu/model-storage/models/44\", \"iYali-model.json\", bar=False)\n",
    "wget.download(\"https://api-staging.dd-decaf.eu/map-storage/maps/90\", \"iYali-map.json\", bar=False)  # note the id is different"
   ]
  },
  {
   "cell_type": "markdown",
   "metadata": {},
   "source": [
    "So the model is the same (no changes in git) but the map is different. To what is exactly different, we first need to store the json files in a readable format (currently they are stored in one line):"
   ]
  },
  {
   "cell_type": "code",
   "execution_count": 3,
   "metadata": {},
   "outputs": [],
   "source": [
    "# Go back to the main version:\n",
    "deleteIfExists(\"iYali-model.json\")\n",
    "deleteIfExists(\"iYali-map.json\")\n",
    "wget.download(\"https://api.dd-decaf.eu/model-storage/models/44\", \"iYali-model.json\", bar=False)\n",
    "wget.download(\"https://api.dd-decaf.eu/map-storage/maps/37\", \"iYali-map.json\", bar=False)\n",
    "\n",
    "# Load object:\n",
    "import json\n",
    "def openJSON(filename):\n",
    "    with open(filename, 'r') as handle:\n",
    "        parsed = json.load(handle)\n",
    "        handle.close()\n",
    "    return parsed\n",
    "\n",
    "# Convert to readable format:\n",
    "def storePrettyJSON(parsed, filename):\n",
    "    # Generate pretty text from stored file:\n",
    "    pretty_text = json.dumps(parsed, indent=4, sort_keys=True)\n",
    "    # Store pretty text as file:\n",
    "    with open(filename, \"w\") as handle:\n",
    "        handle.write(pretty_text)\n",
    "        handle.close()\n",
    "\n",
    "# Function for doing both:\n",
    "def makeJSONpretty(filename):\n",
    "    parsed = openJSON(filename)\n",
    "    storePrettyJSON(parsed, filename)\n",
    "\n",
    "makeJSONpretty(\"iYali-model.json\")\n",
    "makeJSONpretty(\"iYali-map.json\")"
   ]
  },
  {
   "cell_type": "markdown",
   "metadata": {},
   "source": [
    "Let's repeat the analysis to see what has changed in staging:"
   ]
  },
  {
   "cell_type": "code",
   "execution_count": 4,
   "metadata": {},
   "outputs": [],
   "source": [
    "deleteIfExists(\"iYali-model.json\")\n",
    "deleteIfExists(\"iYali-map.json\")\n",
    "wget.download(\"https://api-staging.dd-decaf.eu/model-storage/models/44\", \"iYali-model.json\", bar=False)\n",
    "wget.download(\"https://api-staging.dd-decaf.eu/map-storage/maps/90\", \"iYali-map.json\", bar=False)\n",
    "makeJSONpretty(\"iYali-model.json\")\n",
    "makeJSONpretty(\"iYali-map.json\")"
   ]
  },
  {
   "cell_type": "markdown",
   "metadata": {},
   "source": [
    "So actually the only thing that changed was the map id (see git), the map itself is the same. Great! We can proceed by only fixing one model and one map. Let's get the relevant parts out of the caffeine-specific objects and save them again as pretty JSON:"
   ]
  },
  {
   "cell_type": "code",
   "execution_count": 5,
   "metadata": {},
   "outputs": [],
   "source": [
    "# Load models\n",
    "iYali_model = openJSON(\"iYali-model.json\")\n",
    "iYali_map = openJSON(\"iYali-map.json\")\n",
    "\n",
    "# Get relevant parts:\n",
    "iYali_model = iYali_model[\"model_serialized\"]\n",
    "iYali_map = iYali_map[\"map\"]\n",
    "\n",
    "# Store the new elements:\n",
    "storePrettyJSON(iYali_model, \"iYali-model.json\")\n",
    "storePrettyJSON(iYali_map, \"iYali-map.json\")"
   ]
  },
  {
   "cell_type": "markdown",
   "metadata": {},
   "source": [
    "And in the case of the model, let's load it / save it as a model using cobrapy:"
   ]
  },
  {
   "cell_type": "code",
   "execution_count": 6,
   "metadata": {},
   "outputs": [
    {
     "name": "stdout",
     "output_type": "stream",
     "text": [
      "Using license file C:\\Users\\bejsab\\gurobi.lic\n",
      "Academic license - for non-commercial use only\n"
     ]
    },
    {
     "data": {
      "text/html": [
       "\n",
       "        <table>\n",
       "            <tr>\n",
       "                <td><strong>Name</strong></td>\n",
       "                <td>iYali</td>\n",
       "            </tr><tr>\n",
       "                <td><strong>Memory address</strong></td>\n",
       "                <td>0x02577a6408c8</td>\n",
       "            </tr><tr>\n",
       "                <td><strong>Number of metabolites</strong></td>\n",
       "                <td>1671</td>\n",
       "            </tr><tr>\n",
       "                <td><strong>Number of reactions</strong></td>\n",
       "                <td>1924</td>\n",
       "            </tr><tr>\n",
       "                <td><strong>Number of groups</strong></td>\n",
       "                <td>0</td>\n",
       "            </tr><tr>\n",
       "                <td><strong>Objective expression</strong></td>\n",
       "                <td>1.0*xBIOMASS - 1.0*xBIOMASS_reverse_52bad</td>\n",
       "            </tr><tr>\n",
       "                <td><strong>Compartments</strong></td>\n",
       "                <td>cell envelope, extracellular, mitochondrion, cytoplasm, peroxisome, endoplasmic reticulum, nucleus, Golgi, lipid particle, vacuole, endoplasmic reticulum membrane, vacuolar membrane, mitochondrial membrane, Golgi membrane</td>\n",
       "            </tr>\n",
       "          </table>"
      ],
      "text/plain": [
       "<Model iYali at 0x2577a6408c8>"
      ]
     },
     "execution_count": 6,
     "metadata": {},
     "output_type": "execute_result"
    }
   ],
   "source": [
    "import cobra\n",
    "iYali_model = cobra.io.load_json_model(\"iYali-model.json\")\n",
    "iYali_model"
   ]
  },
  {
   "cell_type": "code",
   "execution_count": 7,
   "metadata": {},
   "outputs": [],
   "source": [
    "cobra.io.save_json_model(iYali_model, \"iYali-model.json\")"
   ]
  },
  {
   "cell_type": "markdown",
   "metadata": {},
   "source": [
    "## 2. Fix model\n",
    "\n",
    "First we will fix the model. The only thing needed is to swap id for name in each gene, cobrapy takes care of the rest:"
   ]
  },
  {
   "cell_type": "code",
   "execution_count": 8,
   "metadata": {
    "scrolled": true
   },
   "outputs": [],
   "source": [
    "gene_dict = {}\n",
    "for gene in iYali_model.genes:\n",
    "    # Store dictionary (old, new):\n",
    "    gene_dict[gene.id] = gene.name\n",
    "    # Change gene name:\n",
    "    gene.name = gene.id\n",
    "\n",
    "# Apply dictionary to change all ids using cobra function:\n",
    "cobra.manipulation.modify.rename_genes(iYali_model, gene_dict)\n",
    "\n",
    "# Save new model:\n",
    "cobra.io.save_json_model(iYali_model, \"iYali-model.json\")"
   ]
  },
  {
   "cell_type": "markdown",
   "metadata": {},
   "source": [
    "## Fix map\n",
    "\n",
    "Now we fix the map. The map consists of a list with two elements: All map info is in the second one, as the first one just has:"
   ]
  },
  {
   "cell_type": "code",
   "execution_count": 9,
   "metadata": {},
   "outputs": [
    {
     "name": "stdout",
     "output_type": "stream",
     "text": [
      "2\n"
     ]
    },
    {
     "data": {
      "text/plain": [
       "{'homepage': 'https://escher.github.io',\n",
       " 'map_description': '\\nLast Modified Mon Jul 01 2019 15:05:09 GMT+0200 (Central European Summer Time)',\n",
       " 'map_id': 'xXdlpXnnusXP',\n",
       " 'map_name': 'YALI_combined',\n",
       " 'schema': 'https://escher.github.io/escher/jsonschema/1-0-0#'}"
      ]
     },
     "execution_count": 9,
     "metadata": {},
     "output_type": "execute_result"
    }
   ],
   "source": [
    "print(len(iYali_map))\n",
    "iYali_map[0]"
   ]
  },
  {
   "cell_type": "markdown",
   "metadata": {},
   "source": [
    "The second element is a dictionary, let's see the keys in it:"
   ]
  },
  {
   "cell_type": "code",
   "execution_count": 10,
   "metadata": {},
   "outputs": [
    {
     "name": "stdout",
     "output_type": "stream",
     "text": [
      "canvas\n",
      "nodes\n",
      "reactions\n",
      "text_labels\n"
     ]
    }
   ],
   "source": [
    "for key, value in iYali_map[1].items() :\n",
    "    print(key)"
   ]
  },
  {
   "cell_type": "markdown",
   "metadata": {},
   "source": [
    "All information is in the `reactions` key, stored for each reaction in the `genes` and `gene_reaction_rule` keys (as genes don't have a node assign to them, they just appear as extra text next to the reaction):"
   ]
  },
  {
   "cell_type": "code",
   "execution_count": 11,
   "metadata": {},
   "outputs": [
    {
     "data": {
      "text/plain": [
       "{'bigg_id': 'GALt2',\n",
       " 'gene_reaction_rule': 'YALI1_F25587g',\n",
       " 'genes': [{'annotation': {'Annotation': '  similar to uniprot|P32466 Saccharomyces cerevisiae YDR345c HXT3 low-affinity hexose transporter or uniprot|P23585 Saccharomyces cerevisiae YMR011w HXT2 high- affinity hexose transporter',\n",
       "    'Chromosome': 'YALI1F',\n",
       "    'Strand': '+',\n",
       "    'YALI0_locus_tag': 'YALI0F19184g',\n",
       "    'YALI1_locus_tag': 'YALI1_F25587g',\n",
       "    'sbo': 'SBO:0000252'},\n",
       "   'bigg_id': 'YALI1_F25587g',\n",
       "   'name': 'YALI0F19184g'}],\n",
       " 'label_x': -39744.908111572266,\n",
       " 'label_y': -26567.39727783203,\n",
       " 'metabolites': [{'bigg_id': 'gal_c', 'coefficient': 1},\n",
       "  {'bigg_id': 'gal_e', 'coefficient': -1},\n",
       "  {'bigg_id': 'h_c', 'coefficient': 1},\n",
       "  {'bigg_id': 'h_e', 'coefficient': -1}],\n",
       " 'name': 'D-galactose transport',\n",
       " 'reversibility': False,\n",
       " 'segments': {'3': {'b1': None,\n",
       "   'b2': None,\n",
       "   'from_node_id': '4',\n",
       "   'to_node_id': '5'},\n",
       "  '4': {'b1': None, 'b2': None, 'from_node_id': '6', 'to_node_id': '5'},\n",
       "  '5': {'b1': {'x': -39759.908111572266, 'y': -26515.39727783203},\n",
       "   'b2': {'x': -39759.908111572266, 'y': -26461.14727783203},\n",
       "   'from_node_id': '6',\n",
       "   'to_node_id': '7'},\n",
       "  '6': {'b1': {'x': -39759.908111572266, 'y': -26639.39727783203},\n",
       "   'b2': {'x': -39759.908111572266, 'y': -26693.64727783203},\n",
       "   'from_node_id': '4',\n",
       "   'to_node_id': '0'},\n",
       "  '7': {'b1': {'x': -39759.908111572266, 'y': -26511.39727783203},\n",
       "   'b2': {'x': -39777.908111572266, 'y': -26506.14727783203},\n",
       "   'from_node_id': '6',\n",
       "   'to_node_id': '8'},\n",
       "  '8': {'b1': {'x': -39759.908111572266, 'y': -26643.39727783203},\n",
       "   'b2': {'x': -39777.908111572266, 'y': -26648.64727783203},\n",
       "   'from_node_id': '4',\n",
       "   'to_node_id': '9'}}}"
      ]
     },
     "execution_count": 11,
     "metadata": {},
     "output_type": "execute_result"
    }
   ],
   "source": [
    "iYali_map[1][\"reactions\"][\"1\"]  # show as example"
   ]
  },
  {
   "cell_type": "markdown",
   "metadata": {},
   "source": [
    "And as we already have the dictionary `gene_dict`, we can just go through the dictionary and replace stuff:"
   ]
  },
  {
   "cell_type": "code",
   "execution_count": 12,
   "metadata": {},
   "outputs": [],
   "source": [
    "for key, reaction in iYali_map[1][\"reactions\"].items() :\n",
    "    # Iterate through genes to assign the proper ids/names:\n",
    "    for gene in reaction[\"genes\"]:\n",
    "        gene[\"name\"] = gene[\"bigg_id\"]  # The name should be the id\n",
    "        gene[\"bigg_id\"] = gene_dict[gene[\"bigg_id\"]]  # The id is stored in the dict\n",
    "    # Replace gene_reaction_rule using info from model:\n",
    "    reaction_model = iYali_model.reactions.get_by_id(reaction[\"bigg_id\"])\n",
    "    reaction[\"gene_reaction_rule\"] = reaction_model.gene_reaction_rule"
   ]
  },
  {
   "cell_type": "markdown",
   "metadata": {},
   "source": [
    "Let's confirm that this worked by looking at the same gene from before:"
   ]
  },
  {
   "cell_type": "code",
   "execution_count": 13,
   "metadata": {},
   "outputs": [
    {
     "data": {
      "text/plain": [
       "{'bigg_id': 'GALt2',\n",
       " 'gene_reaction_rule': 'YALI0F19184g',\n",
       " 'genes': [{'annotation': {'Annotation': '  similar to uniprot|P32466 Saccharomyces cerevisiae YDR345c HXT3 low-affinity hexose transporter or uniprot|P23585 Saccharomyces cerevisiae YMR011w HXT2 high- affinity hexose transporter',\n",
       "    'Chromosome': 'YALI1F',\n",
       "    'Strand': '+',\n",
       "    'YALI0_locus_tag': 'YALI0F19184g',\n",
       "    'YALI1_locus_tag': 'YALI1_F25587g',\n",
       "    'sbo': 'SBO:0000252'},\n",
       "   'bigg_id': 'YALI0F19184g',\n",
       "   'name': 'YALI1_F25587g'}],\n",
       " 'label_x': -39744.908111572266,\n",
       " 'label_y': -26567.39727783203,\n",
       " 'metabolites': [{'bigg_id': 'gal_c', 'coefficient': 1},\n",
       "  {'bigg_id': 'gal_e', 'coefficient': -1},\n",
       "  {'bigg_id': 'h_c', 'coefficient': 1},\n",
       "  {'bigg_id': 'h_e', 'coefficient': -1}],\n",
       " 'name': 'D-galactose transport',\n",
       " 'reversibility': False,\n",
       " 'segments': {'3': {'b1': None,\n",
       "   'b2': None,\n",
       "   'from_node_id': '4',\n",
       "   'to_node_id': '5'},\n",
       "  '4': {'b1': None, 'b2': None, 'from_node_id': '6', 'to_node_id': '5'},\n",
       "  '5': {'b1': {'x': -39759.908111572266, 'y': -26515.39727783203},\n",
       "   'b2': {'x': -39759.908111572266, 'y': -26461.14727783203},\n",
       "   'from_node_id': '6',\n",
       "   'to_node_id': '7'},\n",
       "  '6': {'b1': {'x': -39759.908111572266, 'y': -26639.39727783203},\n",
       "   'b2': {'x': -39759.908111572266, 'y': -26693.64727783203},\n",
       "   'from_node_id': '4',\n",
       "   'to_node_id': '0'},\n",
       "  '7': {'b1': {'x': -39759.908111572266, 'y': -26511.39727783203},\n",
       "   'b2': {'x': -39777.908111572266, 'y': -26506.14727783203},\n",
       "   'from_node_id': '6',\n",
       "   'to_node_id': '8'},\n",
       "  '8': {'b1': {'x': -39759.908111572266, 'y': -26643.39727783203},\n",
       "   'b2': {'x': -39777.908111572266, 'y': -26648.64727783203},\n",
       "   'from_node_id': '4',\n",
       "   'to_node_id': '9'}}}"
      ]
     },
     "execution_count": 13,
     "metadata": {},
     "output_type": "execute_result"
    }
   ],
   "source": [
    "iYali_map[1][\"reactions\"][\"1\"]  # show as example"
   ]
  },
  {
   "cell_type": "markdown",
   "metadata": {},
   "source": [
    "Looks good! Let's save results:"
   ]
  },
  {
   "cell_type": "code",
   "execution_count": 14,
   "metadata": {},
   "outputs": [],
   "source": [
    "storePrettyJSON(iYali_map, \"iYali-map.json\")"
   ]
  },
  {
   "cell_type": "markdown",
   "metadata": {},
   "source": [
    "## Fix new id bug\n",
    "\n",
    "We should add an underscore to all ids, both in the model and map:"
   ]
  },
  {
   "cell_type": "code",
   "execution_count": 15,
   "metadata": {},
   "outputs": [
    {
     "name": "stdout",
     "output_type": "stream",
     "text": [
      "NP_075432\n",
      "NP_075433\n",
      "NP_075437\n",
      "NP_075434\n",
      "NP_075438\n",
      "NP_075443\n",
      "YALIUNK1\n"
     ]
    }
   ],
   "source": [
    "# model changes:\n",
    "iYali_model = cobra.io.load_json_model(\"iYali-model.json\")\n",
    "gene_dict = {}\n",
    "for gene in iYali_model.genes:\n",
    "    if gene.id.startswith(\"YALI0\"):\n",
    "        if not gene.id.startswith(\"YALI0_\"):\n",
    "            gene_dict[gene.id] = f\"YALI0_{gene.id.split('YALI0')[1]}\"\n",
    "    else:\n",
    "        print(gene.id)\n",
    "cobra.manipulation.modify.rename_genes(iYali_model, gene_dict)\n",
    "cobra.io.save_json_model(iYali_model, \"iYali-model.json\")\n",
    "\n",
    "# map changes:\n",
    "iYali_map = openJSON(\"iYali-map.json\")\n",
    "for key, reaction in iYali_map[1][\"reactions\"].items():\n",
    "    for gene in reaction[\"genes\"]:\n",
    "        if gene[\"bigg_id\"].startswith(\"YALI0\"):\n",
    "            if not gene[\"bigg_id\"].startswith(\"YALI0_\"): \n",
    "                gene[\"bigg_id\"] = gene_dict[gene[\"bigg_id\"]]\n",
    "    reaction_model = iYali_model.reactions.get_by_id(reaction[\"bigg_id\"])\n",
    "    reaction[\"gene_reaction_rule\"] = reaction_model.gene_reaction_rule\n",
    "storePrettyJSON(iYali_map, \"iYali-map.json\")"
   ]
  },
  {
   "cell_type": "code",
   "execution_count": 1,
   "metadata": {},
   "outputs": [
    {
     "name": "stdout",
     "output_type": "stream",
     "text": [
      "Using license file C:\\Users\\bejsab\\gurobi.lic\n",
      "Academic license - for non-commercial use only\n"
     ]
    }
   ],
   "source": [
    "# save SBML as well:\n",
    "import cobra\n",
    "iYali_model = cobra.io.load_json_model(\"iYali-model.json\")\n",
    "cobra.io.write_sbml_model(iYali_model, \"iYali-model.xml\")"
   ]
  },
  {
   "cell_type": "code",
   "execution_count": null,
   "metadata": {},
   "outputs": [],
   "source": []
  }
 ],
 "metadata": {
  "kernelspec": {
   "display_name": "Python 3",
   "language": "python",
   "name": "python3"
  },
  "language_info": {
   "codemirror_mode": {
    "name": "ipython",
    "version": 3
   },
   "file_extension": ".py",
   "mimetype": "text/x-python",
   "name": "python",
   "nbconvert_exporter": "python",
   "pygments_lexer": "ipython3",
   "version": "3.7.6"
  }
 },
 "nbformat": 4,
 "nbformat_minor": 4
}
