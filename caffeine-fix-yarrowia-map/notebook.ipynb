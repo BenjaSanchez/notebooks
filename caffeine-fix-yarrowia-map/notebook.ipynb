{
 "cells": [
  {
   "cell_type": "markdown",
   "metadata": {},
   "source": [
    "# Fix gene ids in iYali map\n",
    "\n",
    "This notebook fixes the iYali gene ids available at https://caffeine.dd-decaf.eu/\n",
    "\n",
    "Benjamín J. Sánchez, 2020-03-23\n",
    "\n",
    "## 1. Getting model and map\n",
    "\n",
    "* Model: https://api.dd-decaf.eu/model-storage/models/44\n",
    "* Map: https://api.dd-decaf.eu/map-storage/maps/37"
   ]
  },
  {
   "cell_type": "code",
   "execution_count": 1,
   "metadata": {},
   "outputs": [
    {
     "data": {
      "text/plain": [
       "'iYali-map.json'"
      ]
     },
     "execution_count": 1,
     "metadata": {},
     "output_type": "execute_result"
    }
   ],
   "source": [
    "import wget\n",
    "wget.download(\"https://api.dd-decaf.eu/model-storage/models/44\", \"iYali-model.json\", bar=False)\n",
    "wget.download(\"https://api.dd-decaf.eu/map-storage/maps/37\", \"iYali-map.json\", bar=False)"
   ]
  },
  {
   "cell_type": "markdown",
   "metadata": {},
   "source": [
    "Let's check if they are the same in staging:\n",
    "\n",
    "* Model: https://api-staging.dd-decaf.eu/model-storage/models/44\n",
    "* Map: https://api-staging.dd-decaf.eu/map-storage/maps/90"
   ]
  },
  {
   "cell_type": "code",
   "execution_count": 2,
   "metadata": {},
   "outputs": [
    {
     "data": {
      "text/plain": [
       "'iYali-map.json'"
      ]
     },
     "execution_count": 2,
     "metadata": {},
     "output_type": "execute_result"
    }
   ],
   "source": [
    "import os\n",
    "os.remove(\"iYali-model.json\")\n",
    "os.remove(\"iYali-map.json\")\n",
    "wget.download(\"https://api-staging.dd-decaf.eu/model-storage/models/44\", \"iYali-model.json\", bar=False)\n",
    "wget.download(\"https://api-staging.dd-decaf.eu/map-storage/maps/90\", \"iYali-map.json\", bar=False)  # note the id is different"
   ]
  },
  {
   "cell_type": "markdown",
   "metadata": {},
   "source": [
    "So the model is the same (no changes in git) but the map is different."
   ]
  },
  {
   "cell_type": "code",
   "execution_count": null,
   "metadata": {},
   "outputs": [],
   "source": []
  }
 ],
 "metadata": {
  "kernelspec": {
   "display_name": "Python 3",
   "language": "python",
   "name": "python3"
  },
  "language_info": {
   "codemirror_mode": {
    "name": "ipython",
    "version": 3
   },
   "file_extension": ".py",
   "mimetype": "text/x-python",
   "name": "python",
   "nbconvert_exporter": "python",
   "pygments_lexer": "ipython3",
   "version": "3.7.6"
  }
 },
 "nbformat": 4,
 "nbformat_minor": 4
}
