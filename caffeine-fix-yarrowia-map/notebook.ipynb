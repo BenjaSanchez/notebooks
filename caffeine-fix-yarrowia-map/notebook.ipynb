{
 "cells": [
  {
   "cell_type": "markdown",
   "metadata": {},
   "source": [
    "# Fix gene ids in iYali map\n",
    "\n",
    "This notebook fixes the iYali gene ids available at https://caffeine.dd-decaf.eu/\n",
    "\n",
    "Benjamín J. Sánchez, 2020-03-23\n",
    "\n",
    "## 1. Getting model and map\n",
    "\n",
    "* Model: https://api.dd-decaf.eu/model-storage/models/44\n",
    "* Map: https://api.dd-decaf.eu/map-storage/maps/37"
   ]
  },
  {
   "cell_type": "code",
   "execution_count": 1,
   "metadata": {},
   "outputs": [
    {
     "data": {
      "text/plain": [
       "'iYali-map.json'"
      ]
     },
     "execution_count": 1,
     "metadata": {},
     "output_type": "execute_result"
    }
   ],
   "source": [
    "import wget\n",
    "import os\n",
    "\n",
    "def deleteIfExists(filename):\n",
    "    if os.path.exists(filename):\n",
    "        os.remove(filename)\n",
    "\n",
    "deleteIfExists(\"iYali-model.json\")\n",
    "deleteIfExists(\"iYali-map.json\")\n",
    "wget.download(\"https://api.dd-decaf.eu/model-storage/models/44\", \"iYali-model.json\", bar=False)\n",
    "wget.download(\"https://api.dd-decaf.eu/map-storage/maps/37\", \"iYali-map.json\", bar=False)"
   ]
  },
  {
   "cell_type": "markdown",
   "metadata": {},
   "source": [
    "Let's check if they are the same in staging:\n",
    "\n",
    "* Model: https://api-staging.dd-decaf.eu/model-storage/models/44\n",
    "* Map: https://api-staging.dd-decaf.eu/map-storage/maps/90"
   ]
  },
  {
   "cell_type": "code",
   "execution_count": 2,
   "metadata": {},
   "outputs": [
    {
     "data": {
      "text/plain": [
       "'iYali-map.json'"
      ]
     },
     "execution_count": 2,
     "metadata": {},
     "output_type": "execute_result"
    }
   ],
   "source": [
    "deleteIfExists(\"iYali-model.json\")\n",
    "deleteIfExists(\"iYali-map.json\")\n",
    "wget.download(\"https://api-staging.dd-decaf.eu/model-storage/models/44\", \"iYali-model.json\", bar=False)\n",
    "wget.download(\"https://api-staging.dd-decaf.eu/map-storage/maps/90\", \"iYali-map.json\", bar=False)  # note the id is different"
   ]
  },
  {
   "cell_type": "markdown",
   "metadata": {},
   "source": [
    "So the model is the same (no changes in git) but the map is different. To what is exactly different, we first need to store the json files in a readable format (currently they are stored in one line):"
   ]
  },
  {
   "cell_type": "code",
   "execution_count": 3,
   "metadata": {},
   "outputs": [],
   "source": [
    "# Go back to the main version:\n",
    "deleteIfExists(\"iYali-model.json\")\n",
    "deleteIfExists(\"iYali-map.json\")\n",
    "wget.download(\"https://api.dd-decaf.eu/model-storage/models/44\", \"iYali-model.json\", bar=False)\n",
    "wget.download(\"https://api.dd-decaf.eu/map-storage/maps/37\", \"iYali-map.json\", bar=False)\n",
    "\n",
    "# Load object:\n",
    "import json\n",
    "def openJSON(filename):\n",
    "    with open(filename, 'r') as handle:\n",
    "        parsed = json.load(handle)\n",
    "        handle.close()\n",
    "    return parsed\n",
    "\n",
    "# Convert to readable format:\n",
    "def storePrettyJSON(parsed, filename):\n",
    "    # Generate pretty text from stored file:\n",
    "    pretty_text = json.dumps(parsed, indent=4, sort_keys=True)\n",
    "    # Store pretty text as file:\n",
    "    with open(filename, \"w\") as handle:\n",
    "        handle.write(pretty_text)\n",
    "        handle.close()\n",
    "\n",
    "# Function for doing both:\n",
    "def makeJSONpretty(filename):\n",
    "    parsed = openJSON(filename)\n",
    "    storePrettyJSON(parsed, filename)\n",
    "\n",
    "makeJSONpretty(\"iYali-model.json\")\n",
    "makeJSONpretty(\"iYali-map.json\")"
   ]
  },
  {
   "cell_type": "markdown",
   "metadata": {},
   "source": [
    "Let's repeat the analysis to see what has changed in staging:"
   ]
  },
  {
   "cell_type": "code",
   "execution_count": 4,
   "metadata": {},
   "outputs": [],
   "source": [
    "deleteIfExists(\"iYali-model.json\")\n",
    "deleteIfExists(\"iYali-map.json\")\n",
    "wget.download(\"https://api-staging.dd-decaf.eu/model-storage/models/44\", \"iYali-model.json\", bar=False)\n",
    "wget.download(\"https://api-staging.dd-decaf.eu/map-storage/maps/90\", \"iYali-map.json\", bar=False)\n",
    "makeJSONpretty(\"iYali-model.json\")\n",
    "makeJSONpretty(\"iYali-map.json\")"
   ]
  },
  {
   "cell_type": "markdown",
   "metadata": {},
   "source": [
    "So actually the only thing that changed was the map id (see git), the map itself is the same. Great! We can proceed by only fixing one model and one map. Let's get the relevant parts out of the caffeine-specific objects and save them again as pretty JSON:"
   ]
  },
  {
   "cell_type": "code",
   "execution_count": 5,
   "metadata": {},
   "outputs": [],
   "source": [
    "# Load models\n",
    "iYali_model = openJSON(\"iYali-model.json\")\n",
    "iYali_map = openJSON(\"iYali-map.json\")\n",
    "\n",
    "# Get relevant parts:\n",
    "iYali_model = iYali_model[\"model_serialized\"]\n",
    "iYali_map = iYali_map[\"map\"]\n",
    "\n",
    "# Store the new elements:\n",
    "storePrettyJSON(iYali_model, \"iYali-model.json\")\n",
    "storePrettyJSON(iYali_map, \"iYali-map.json\")"
   ]
  },
  {
   "cell_type": "markdown",
   "metadata": {},
   "source": [
    "And in the case of the model, let's load it / save it as a model using cobrapy:"
   ]
  },
  {
   "cell_type": "code",
   "execution_count": 6,
   "metadata": {},
   "outputs": [
    {
     "name": "stdout",
     "output_type": "stream",
     "text": [
      "Using license file C:\\Users\\bejsab\\gurobi.lic\n",
      "Academic license - for non-commercial use only\n"
     ]
    },
    {
     "data": {
      "text/html": [
       "\n",
       "        <table>\n",
       "            <tr>\n",
       "                <td><strong>Name</strong></td>\n",
       "                <td>iYali</td>\n",
       "            </tr><tr>\n",
       "                <td><strong>Memory address</strong></td>\n",
       "                <td>0x02577a6408c8</td>\n",
       "            </tr><tr>\n",
       "                <td><strong>Number of metabolites</strong></td>\n",
       "                <td>1671</td>\n",
       "            </tr><tr>\n",
       "                <td><strong>Number of reactions</strong></td>\n",
       "                <td>1924</td>\n",
       "            </tr><tr>\n",
       "                <td><strong>Number of groups</strong></td>\n",
       "                <td>0</td>\n",
       "            </tr><tr>\n",
       "                <td><strong>Objective expression</strong></td>\n",
       "                <td>1.0*xBIOMASS - 1.0*xBIOMASS_reverse_52bad</td>\n",
       "            </tr><tr>\n",
       "                <td><strong>Compartments</strong></td>\n",
       "                <td>cell envelope, extracellular, mitochondrion, cytoplasm, peroxisome, endoplasmic reticulum, nucleus, Golgi, lipid particle, vacuole, endoplasmic reticulum membrane, vacuolar membrane, mitochondrial membrane, Golgi membrane</td>\n",
       "            </tr>\n",
       "          </table>"
      ],
      "text/plain": [
       "<Model iYali at 0x2577a6408c8>"
      ]
     },
     "execution_count": 6,
     "metadata": {},
     "output_type": "execute_result"
    }
   ],
   "source": [
    "import cobra\n",
    "iYali_model = cobra.io.load_json_model(\"iYali-model.json\")\n",
    "iYali_model"
   ]
  },
  {
   "cell_type": "code",
   "execution_count": 7,
   "metadata": {},
   "outputs": [],
   "source": [
    "cobra.io.save_json_model(iYali_model, \"iYali-model.json\")"
   ]
  },
  {
   "cell_type": "markdown",
   "metadata": {},
   "source": [
    "## 2. Fix model\n",
    "\n",
    "First we will fix the model. The only thing needed is to swap id for name in each gene, cobrapy takes care of the rest:"
   ]
  },
  {
   "cell_type": "code",
   "execution_count": 8,
   "metadata": {
    "scrolled": true
   },
   "outputs": [],
   "source": [
    "gene_dict = {}\n",
    "for gene in iYali_model.genes:\n",
    "    # Store dictionary (old, new):\n",
    "    gene_dict[gene.id] = gene.name\n",
    "    # Change gene name:\n",
    "    gene.name = gene.id\n",
    "\n",
    "# Apply dictionary to change all ids using cobra function:\n",
    "cobra.manipulation.modify.rename_genes(iYali_model, gene_dict)\n",
    "\n",
    "# Save new model:\n",
    "cobra.io.save_json_model(iYali_model, \"iYali-model.json\")"
   ]
  },
  {
   "cell_type": "code",
   "execution_count": null,
   "metadata": {},
   "outputs": [],
   "source": []
  }
 ],
 "metadata": {
  "kernelspec": {
   "display_name": "Python 3",
   "language": "python",
   "name": "python3"
  },
  "language_info": {
   "codemirror_mode": {
    "name": "ipython",
    "version": 3
   },
   "file_extension": ".py",
   "mimetype": "text/x-python",
   "name": "python",
   "nbconvert_exporter": "python",
   "pygments_lexer": "ipython3",
   "version": "3.7.6"
  }
 },
 "nbformat": 4,
 "nbformat_minor": 4
}
