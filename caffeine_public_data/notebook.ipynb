{
 "cells": [
  {
   "cell_type": "markdown",
   "metadata": {},
   "source": [
    "# Caffeine Proteomics Public Data\n",
    "\n",
    "This notebook contains data processing for 4 conditions in the proteomics data from [Schmidt et al. 2016](https://www.nature.com/articles/nbt.3418).\n",
    "\n",
    "Benjamín J. Sánchez, 2020-01-22\n",
    "\n",
    "### 1. Loading Data"
   ]
  },
  {
   "cell_type": "code",
   "execution_count": 1,
   "metadata": {},
   "outputs": [
    {
     "name": "stdout",
     "output_type": "stream",
     "text": [
      "P0A8T7    155.045008\n",
      "P0A8V2    150.520276\n",
      "P36683     93.420946\n",
      "P15254    141.295898\n",
      "P09831    163.176315\n",
      "             ...    \n",
      "P0ACS2     17.121072\n",
      "P0AA97     20.845493\n",
      "P0AB83     23.529402\n",
      "P23862     20.344805\n",
      "P77433     25.178923\n",
      "Name: molecular_weight, Length: 2058, dtype: float64\n",
      "        chemostat_0.5_mean  chemostat_0.35_mean  chemostat_0.2_mean  \\\n",
      "P0A8T7                4780                 3900                3477   \n",
      "P0A8V2                5245                 4388                3860   \n",
      "P36683               15733                20261               16410   \n",
      "P15254                2285                 1730                1468   \n",
      "P09831                2321                 1959                1771   \n",
      "...                    ...                  ...                 ...   \n",
      "P0ACS2                   1                    1                   0   \n",
      "P0AA97                   1                    1                   1   \n",
      "P0AB83                   4                    4                   1   \n",
      "P23862                   8                    8                   8   \n",
      "P77433                   0                    3                   1   \n",
      "\n",
      "        chemostat_0.12_mean  chemostat_0.5_uncertainty  \\\n",
      "P0A8T7                 3000                       8.68   \n",
      "P0A8V2                 3455                       8.28   \n",
      "P36683                13763                       4.97   \n",
      "P15254                 1219                       8.93   \n",
      "P09831                 1379                       7.97   \n",
      "...                     ...                        ...   \n",
      "P0ACS2                    2                     104.23   \n",
      "P0AA97                    0                      58.17   \n",
      "P0AB83                    2                      14.15   \n",
      "P23862                    5                      19.26   \n",
      "P77433                    0                     141.71   \n",
      "\n",
      "        chemostat_0.35_uncertainty  chemostat_0.2_uncertainty  \\\n",
      "P0A8T7                        1.74                       8.99   \n",
      "P0A8V2                        2.75                       8.53   \n",
      "P36683                        3.10                       5.24   \n",
      "P15254                        4.43                       9.08   \n",
      "P09831                        5.28                       5.38   \n",
      "...                            ...                        ...   \n",
      "P0ACS2                       72.58                     150.39   \n",
      "P0AA97                       50.17                      49.32   \n",
      "P0AB83                       13.43                     127.90   \n",
      "P23862                       24.87                      30.25   \n",
      "P77433                       77.14                      87.95   \n",
      "\n",
      "        chemostat_0.12_uncertainty  \n",
      "P0A8T7                        1.47  \n",
      "P0A8V2                        1.24  \n",
      "P36683                        0.93  \n",
      "P15254                        3.30  \n",
      "P09831                        3.14  \n",
      "...                            ...  \n",
      "P0ACS2                       43.00  \n",
      "P0AA97                       70.35  \n",
      "P0AB83                       73.54  \n",
      "P23862                       16.06  \n",
      "P77433                      159.20  \n",
      "\n",
      "[2058 rows x 8 columns]\n"
     ]
    }
   ],
   "source": [
    "import pandas as pd\n",
    "\n",
    "# Extract of supplementary table 5:\n",
    "data = pd.read_csv(\"s05_proteomics_data_raw.csv\", index_col=0)\n",
    "\n",
    "# Molecular weights:\n",
    "MW = data[\"molecular_weight\"] # Da = g/mol\n",
    "MW = MW / 1000 # kDa = g/mmol\n",
    "print(MW)\n",
    "\n",
    "# Rest of the data (abundances + uncertainties):\n",
    "data = data.iloc[:,1:]\n",
    "print(data)"
   ]
  },
  {
   "cell_type": "code",
   "execution_count": 2,
   "metadata": {},
   "outputs": [
    {
     "name": "stdout",
     "output_type": "stream",
     "text": [
      "                cell_volume\n",
      "chemostat_0.12     1.901568\n",
      "chemostat_0.2      2.080800\n",
      "chemostat_0.35     2.398575\n",
      "chemostat_0.5      2.692500\n"
     ]
    }
   ],
   "source": [
    "# Cell volumes (fL/cell) (extract of supplementary table 23):\n",
    "cell_volumes = pd.read_csv(\"s23_cell_volume.csv\", index_col=0)\n",
    "print(cell_volumes)"
   ]
  },
  {
   "cell_type": "markdown",
   "metadata": {},
   "source": [
    "### 2. Convert Units:\n",
    "\n",
    "First of all, note that the variation values come as coefficients of variation (%), so let's transform them to the same units as the mean values (molecules/cell):"
   ]
  },
  {
   "cell_type": "code",
   "execution_count": 3,
   "metadata": {
    "scrolled": true
   },
   "outputs": [
    {
     "name": "stdout",
     "output_type": "stream",
     "text": [
      "        chemostat_0.5_mean  chemostat_0.35_mean  chemostat_0.2_mean  \\\n",
      "P0A8T7                4780                 3900                3477   \n",
      "P0A8V2                5245                 4388                3860   \n",
      "P36683               15733                20261               16410   \n",
      "P15254                2285                 1730                1468   \n",
      "P09831                2321                 1959                1771   \n",
      "...                    ...                  ...                 ...   \n",
      "P0ACS2                   1                    1                   0   \n",
      "P0AA97                   1                    1                   1   \n",
      "P0AB83                   4                    4                   1   \n",
      "P23862                   8                    8                   8   \n",
      "P77433                   0                    3                   1   \n",
      "\n",
      "        chemostat_0.12_mean  chemostat_0.5_uncertainty  \\\n",
      "P0A8T7                 3000                   414.9040   \n",
      "P0A8V2                 3455                   434.2860   \n",
      "P36683                13763                   781.9301   \n",
      "P15254                 1219                   204.0505   \n",
      "P09831                 1379                   184.9837   \n",
      "...                     ...                        ...   \n",
      "P0ACS2                    2                     1.0423   \n",
      "P0AA97                    0                     0.5817   \n",
      "P0AB83                    2                     0.5660   \n",
      "P23862                    5                     1.5408   \n",
      "P77433                    0                     0.0000   \n",
      "\n",
      "        chemostat_0.35_uncertainty  chemostat_0.2_uncertainty  \\\n",
      "P0A8T7                     67.8600                   312.5823   \n",
      "P0A8V2                    120.6700                   329.2580   \n",
      "P36683                    628.0910                   859.8840   \n",
      "P15254                     76.6390                   133.2944   \n",
      "P09831                    103.4352                    95.2798   \n",
      "...                            ...                        ...   \n",
      "P0ACS2                      0.7258                     0.0000   \n",
      "P0AA97                      0.5017                     0.4932   \n",
      "P0AB83                      0.5372                     1.2790   \n",
      "P23862                      1.9896                     2.4200   \n",
      "P77433                      2.3142                     0.8795   \n",
      "\n",
      "        chemostat_0.12_uncertainty  \n",
      "P0A8T7                     44.1000  \n",
      "P0A8V2                     42.8420  \n",
      "P36683                    127.9959  \n",
      "P15254                     40.2270  \n",
      "P09831                     43.3006  \n",
      "...                            ...  \n",
      "P0ACS2                      0.8600  \n",
      "P0AA97                      0.0000  \n",
      "P0AB83                      1.4708  \n",
      "P23862                      0.8030  \n",
      "P77433                      0.0000  \n",
      "\n",
      "[2058 rows x 8 columns]\n"
     ]
    }
   ],
   "source": [
    "for (col_name, d) in data.iteritems():\n",
    "    if col_name.endswith(\"uncertainty\"):\n",
    "        mean_name = col_name.replace(\"uncertainty\", \"mean\")\n",
    "        data[col_name] = data[col_name] / 100 * data[mean_name]\n",
    "\n",
    "print(data)"
   ]
  },
  {
   "cell_type": "markdown",
   "metadata": {},
   "source": [
    "Now everything is in molecules/cell, and as we need to transform to mmol/gDW, we need to do:\n",
    "\n",
    "```\n",
    "1. Abundance [mmol/cell] = Abundance [molecules/cell] / Na [molecules/mol] * 1000 [mmol/mol]\n",
    "2. Abundance [mmol/gDW] = Abundance [mmol/cell] / ( cell volume [fL/cell] * cell density [g/fL] * dry content [gDW/g] )\n",
    "```\n",
    "\n",
    "Where Na is Avogadro's number = 6.022e+23. Cell volumes for all conditions are available in [Volkmer et al. 2011](https://journals.plos.org/plosone/article?id=10.1371/journal.pone.0023126).\n",
    "\n",
    "> TODO: Cell volume measurements in that reference are quite variable (Table 1), so we could account for that variability in the uncertainty .\n",
    "\n",
    "Additional assumptions:\n",
    "* Cell density is constant = 1.105 [g/mL] = 1.105e-12 [g/fL] ([Martinez-Salas et al. 1981](https://jb.asm.org/content/147/1/97.long))\n",
    "* Water content is constant = 0.74 [g/g] ([Kamihira et al. 1987](https://bionumbers.hms.harvard.edu/bionumber.aspx?&id=105482)), i.e. the dry content = 0.26 [gDW/g]\n",
    "\n",
    "> TODO: How much do these assumptions affect the final simulation results?"
   ]
  },
  {
   "cell_type": "code",
   "execution_count": 4,
   "metadata": {},
   "outputs": [
    {
     "name": "stdout",
     "output_type": "stream",
     "text": [
      "        chemostat_0.5_mean  chemostat_0.35_mean  chemostat_0.2_mean  \\\n",
      "P0A8T7        1.026114e-05         9.397989e-06        9.658240e-06   \n",
      "P0A8V2        1.125935e-05         1.057394e-05        1.072212e-05   \n",
      "P36683        3.377376e-05         4.882376e-05        4.558289e-05   \n",
      "P15254        4.905171e-06         4.168851e-06        4.077738e-06   \n",
      "P09831        4.982451e-06         4.720682e-06        4.919397e-06   \n",
      "...                    ...                  ...                 ...   \n",
      "P0ACS2        2.146683e-09         2.409741e-09        0.000000e+00   \n",
      "P0AA97        2.146683e-09         2.409741e-09        2.777751e-09   \n",
      "P0AB83        8.586732e-09         9.638963e-09        2.777751e-09   \n",
      "P23862        1.717346e-08         1.927793e-08        2.222201e-08   \n",
      "P77433        0.000000e+00         7.229222e-09        2.777751e-09   \n",
      "\n",
      "        chemostat_0.12_mean  chemostat_0.5_uncertainty  \\\n",
      "P0A8T7         9.118702e-06               8.906674e-07   \n",
      "P0A8V2         1.050170e-05               9.322744e-07   \n",
      "P36683         4.183356e-05               1.678556e-06   \n",
      "P15254         3.705233e-06               4.380317e-07   \n",
      "P09831         4.191563e-06               3.971014e-07   \n",
      "...                     ...                        ...   \n",
      "P0ACS2         6.079135e-09               2.237488e-09   \n",
      "P0AA97         0.000000e+00               1.248725e-09   \n",
      "P0AB83         6.079135e-09               1.215023e-09   \n",
      "P23862         1.519784e-08               3.307609e-09   \n",
      "P77433         0.000000e+00               0.000000e+00   \n",
      "\n",
      "        chemostat_0.35_uncertainty  chemostat_0.2_uncertainty  \\\n",
      "P0A8T7                1.635250e-07               8.682757e-07   \n",
      "P0A8V2                2.907834e-07               9.145967e-07   \n",
      "P36683                1.513536e-06               2.388543e-06   \n",
      "P15254                1.846801e-07               3.702586e-07   \n",
      "P09831                2.492520e-07               2.646635e-07   \n",
      "...                            ...                        ...   \n",
      "P0ACS2                1.748990e-09               0.000000e+00   \n",
      "P0AA97                1.208967e-09               1.369987e-09   \n",
      "P0AB83                1.294513e-09               3.552743e-09   \n",
      "P23862                4.794420e-09               6.722157e-09   \n",
      "P77433                5.576622e-09               2.443032e-09   \n",
      "\n",
      "        chemostat_0.12_uncertainty  \n",
      "P0A8T7                1.340449e-07  \n",
      "P0A8V2                1.302211e-07  \n",
      "P36683                3.890522e-07  \n",
      "P15254                1.222727e-07  \n",
      "P09831                1.316151e-07  \n",
      "...                            ...  \n",
      "P0ACS2                2.614028e-09  \n",
      "P0AA97                0.000000e+00  \n",
      "P0AB83                4.470596e-09  \n",
      "P23862                2.440773e-09  \n",
      "P77433                0.000000e+00  \n",
      "\n",
      "[2058 rows x 8 columns]\n"
     ]
    }
   ],
   "source": [
    "# Convert values to mmol/cell:\n",
    "data = data / 6.022e+23 * 1000\n",
    "\n",
    "# Iterate through the dataset and divide by the corresponding cell volume, to get mmol/fL:\n",
    "for (col_name, d) in data.iteritems():\n",
    "    chemo_name = col_name.replace(\"_uncertainty\", \"\").replace(\"_mean\", \"\")\n",
    "    data[col_name] = data[col_name] / cell_volumes.loc[chemo_name][\"cell_volume\"]\n",
    "\n",
    "# Finally, convert to mmol/gDW:\n",
    "data = data / 1.105e-12 / 0.26\n",
    "print(data)"
   ]
  },
  {
   "cell_type": "markdown",
   "metadata": {},
   "source": [
    "### 3. Data Validation\n",
    "\n",
    "Before this study, the assumption had been that the average _E. coli_ cell weights 1 pgDW. Let's see how close we are to that by using the new formalism:"
   ]
  },
  {
   "cell_type": "code",
   "execution_count": 5,
   "metadata": {},
   "outputs": [
    {
     "name": "stdout",
     "output_type": "stream",
     "text": [
      "chemostat_0.12    0.546320\n",
      "chemostat_0.2     0.597814\n",
      "chemostat_0.35    0.689111\n",
      "chemostat_0.5     0.773555\n",
      "Name: cell_volume, dtype: float64\n"
     ]
    }
   ],
   "source": [
    "for (c, vol) in cell_volumes.iteritems():\n",
    "    print(vol * 1.105e-12 * 0.26 * 1e12)  # fL/cell * g/fL * gDW/g * pgDW/gDW = pgDW/cell"
   ]
  },
  {
   "cell_type": "markdown",
   "metadata": {},
   "source": [
    "We see the new values are slightly smaller, but in the same order of magnitude.\n",
    "\n",
    "Finally, let's check out how much protein in total are we adding to the models. For that we need the molecular weights (g/mmol) of each protein:"
   ]
  },
  {
   "cell_type": "code",
   "execution_count": 6,
   "metadata": {},
   "outputs": [
    {
     "name": "stdout",
     "output_type": "stream",
     "text": [
      "chemostat_0.5_mean: 0.2970965458002137\n",
      "chemostat_0.35_mean: 0.29709617247971615\n",
      "chemostat_0.2_mean: 0.2970962107564739\n",
      "chemostat_0.12_mean: 0.2970969835431612\n",
      "chemostat_0.5_uncertainty: 0.019741053335997273\n",
      "chemostat_0.35_uncertainty: 0.01296728969800581\n",
      "chemostat_0.2_uncertainty: 0.016759912418768445\n",
      "chemostat_0.12_uncertainty: 0.012130272718729724\n"
     ]
    }
   ],
   "source": [
    "for (col_name, col_data) in data.iteritems():\n",
    "    prot_fraction = sum(col_data * MW)  # mmol/gDW * g/mmol = g/gDW\n",
    "    print(col_name + \": \" + str(prot_fraction))"
   ]
  },
  {
   "cell_type": "markdown",
   "metadata": {},
   "source": [
    "We see that:\n",
    "* All means add up to reasonable fractions g(prot)/gDW (roughly half of the protein content in _E. coli_ ).\n",
    "* The average uncertainty for all 4 conditions is below 10%\n",
    "\n",
    "### 4. Data Export"
   ]
  },
  {
   "cell_type": "code",
   "execution_count": 7,
   "metadata": {},
   "outputs": [],
   "source": [
    "data.to_csv(\"s05_proteomics_data_processed.csv\")"
   ]
  },
  {
   "cell_type": "code",
   "execution_count": null,
   "metadata": {},
   "outputs": [],
   "source": []
  }
 ],
 "metadata": {
  "kernelspec": {
   "display_name": "Python 3",
   "language": "python",
   "name": "python3"
  },
  "language_info": {
   "codemirror_mode": {
    "name": "ipython",
    "version": 3
   },
   "file_extension": ".py",
   "mimetype": "text/x-python",
   "name": "python",
   "nbconvert_exporter": "python",
   "pygments_lexer": "ipython3",
   "version": "3.7.6"
  }
 },
 "nbformat": 4,
 "nbformat_minor": 2
}
