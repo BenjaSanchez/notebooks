{
 "cells": [
  {
   "cell_type": "code",
   "execution_count": null,
   "metadata": {},
   "outputs": [],
   "source": [
    "import cobra\n",
    "import pandas as pd\n",
    "iYali_model = cobra.io.load_json_model(\"iYali-model.json\")\n",
    "df = pd.DataFrame()\n",
    "for gene in iYali_model.genes:\n",
    "    new_row = pd.DataFrame(index = [gene.id], data = {\"yali1\":[gene.name]})\n",
    "    df = df.append(new_row)\n",
    "df.to_csv(\"yali0to1.csv\")"
   ]
  }
 ],
 "metadata": {
  "kernelspec": {
   "display_name": "Python 3",
   "language": "python",
   "name": "python3"
  },
  "language_info": {
   "codemirror_mode": {
    "name": "ipython",
    "version": 3
   },
   "file_extension": ".py",
   "mimetype": "text/x-python",
   "name": "python",
   "nbconvert_exporter": "python",
   "pygments_lexer": "ipython3",
   "version": "3.7.6"
  }
 },
 "nbformat": 4,
 "nbformat_minor": 4
}
