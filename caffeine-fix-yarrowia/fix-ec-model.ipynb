{
 "cells": [
  {
   "cell_type": "markdown",
   "metadata": {},
   "source": [
    "# ecModel of Yarrowia\n",
    "\n",
    "This notebook contains simple tests of the ecModel of Yarrowia to determine if it can be uploaded to the platform.\n",
    "\n",
    "Benjamín J. Sánchez, 2020-06-04\n",
    "\n",
    "## 1. Loading ecModel\n",
    "\n",
    "Available at [this branch](https://github.com/SysBioChalmers/ecModels/blob/feat/iyali-bigg-ids/eciYali/model/eciYali.xml) in the ecModels repo"
   ]
  },
  {
   "cell_type": "code",
   "execution_count": 1,
   "metadata": {},
   "outputs": [
    {
     "name": "stdout",
     "output_type": "stream",
     "text": [
      "Using license file C:\\Users\\bejsab\\gurobi.lic\n",
      "Academic license - for non-commercial use only\n"
     ]
    }
   ],
   "source": [
    "import cobra\n",
    "import wget\n",
    "\n",
    "wget.download(\"https://raw.githubusercontent.com/SysBioChalmers/ecModels/feat/iyali-bigg-ids/eciYali/model/eciYali.xml\",\n",
    "              \"iYali-ecModel.xml\", bar=False)\n",
    "ecModel = cobra.io.read_sbml_model(\"iYali-ecModel.xml\")"
   ]
  },
  {
   "cell_type": "markdown",
   "metadata": {},
   "source": [
    "## 2. Simulating ecModel"
   ]
  },
  {
   "cell_type": "code",
   "execution_count": 2,
   "metadata": {},
   "outputs": [
    {
     "data": {
      "text/latex": [
       "$\\displaystyle 1.0 xBIOMASS$"
      ],
      "text/plain": [
       "1.0*xBIOMASS"
      ]
     },
     "execution_count": 2,
     "metadata": {},
     "output_type": "execute_result"
    }
   ],
   "source": [
    "ecModel.objective.expression.args[0]"
   ]
  },
  {
   "cell_type": "code",
   "execution_count": 3,
   "metadata": {},
   "outputs": [
    {
     "data": {
      "text/html": [
       "<strong><em>Optimal</em> solution with objective value 0.104</strong><br><div>\n",
       "<style scoped>\n",
       "    .dataframe tbody tr th:only-of-type {\n",
       "        vertical-align: middle;\n",
       "    }\n",
       "\n",
       "    .dataframe tbody tr th {\n",
       "        vertical-align: top;\n",
       "    }\n",
       "\n",
       "    .dataframe thead th {\n",
       "        text-align: right;\n",
       "    }\n",
       "</style>\n",
       "<table border=\"1\" class=\"dataframe\">\n",
       "  <thead>\n",
       "    <tr style=\"text-align: right;\">\n",
       "      <th></th>\n",
       "      <th>fluxes</th>\n",
       "      <th>reduced_costs</th>\n",
       "    </tr>\n",
       "  </thead>\n",
       "  <tbody>\n",
       "    <tr>\n",
       "      <th>xAMINOACID</th>\n",
       "      <td>1.037213e-01</td>\n",
       "      <td>-1.110223e-16</td>\n",
       "    </tr>\n",
       "    <tr>\n",
       "      <th>xBIOMASS</th>\n",
       "      <td>1.037213e-01</td>\n",
       "      <td>-1.776357e-15</td>\n",
       "    </tr>\n",
       "    <tr>\n",
       "      <th>xLIPID</th>\n",
       "      <td>1.037213e-04</td>\n",
       "      <td>0.000000e+00</td>\n",
       "    </tr>\n",
       "    <tr>\n",
       "      <th>xMAINTENANCE</th>\n",
       "      <td>7.000000e-01</td>\n",
       "      <td>-5.747606e-03</td>\n",
       "    </tr>\n",
       "    <tr>\n",
       "      <th>xPOOL_AC_EM</th>\n",
       "      <td>0.000000e+00</td>\n",
       "      <td>0.000000e+00</td>\n",
       "    </tr>\n",
       "    <tr>\n",
       "      <th>...</th>\n",
       "      <td>...</td>\n",
       "      <td>...</td>\n",
       "    </tr>\n",
       "    <tr>\n",
       "      <th>prot_Q99148_exchange</th>\n",
       "      <td>2.014357e-06</td>\n",
       "      <td>0.000000e+00</td>\n",
       "    </tr>\n",
       "    <tr>\n",
       "      <th>prot_Q9UVF4_exchange</th>\n",
       "      <td>3.571363e-09</td>\n",
       "      <td>0.000000e+00</td>\n",
       "    </tr>\n",
       "    <tr>\n",
       "      <th>prot_Q9Y753_exchange</th>\n",
       "      <td>3.768362e-07</td>\n",
       "      <td>0.000000e+00</td>\n",
       "    </tr>\n",
       "    <tr>\n",
       "      <th>prot_W0TYM5_exchange</th>\n",
       "      <td>0.000000e+00</td>\n",
       "      <td>0.000000e+00</td>\n",
       "    </tr>\n",
       "    <tr>\n",
       "      <th>prot_W0TYP2_exchange</th>\n",
       "      <td>0.000000e+00</td>\n",
       "      <td>0.000000e+00</td>\n",
       "    </tr>\n",
       "  </tbody>\n",
       "</table>\n",
       "<p>4022 rows × 2 columns</p>\n",
       "</div>"
      ],
      "text/plain": [
       "<Solution 0.104 at 0x18387fd0888>"
      ]
     },
     "execution_count": 3,
     "metadata": {},
     "output_type": "execute_result"
    }
   ],
   "source": [
    "ecModel.solver.timeout = 30\n",
    "ecModel.optimize()"
   ]
  },
  {
   "cell_type": "markdown",
   "metadata": {},
   "source": [
    "## 3. Correcting ecModel fields"
   ]
  },
  {
   "cell_type": "code",
   "execution_count": 4,
   "metadata": {},
   "outputs": [
    {
     "data": {
      "text/html": [
       "\n",
       "        <table>\n",
       "            <tr>\n",
       "                <td><strong>Reaction identifier</strong></td><td>xAMINOACID</td>\n",
       "            </tr><tr>\n",
       "                <td><strong>Name</strong></td><td>protein pseudoreaction</td>\n",
       "            </tr><tr>\n",
       "                <td><strong>Memory address</strong></td>\n",
       "                <td>0x01838617a888</td>\n",
       "            </tr><tr>\n",
       "                <td><strong>Stoichiometry</strong></td>\n",
       "                <td>\n",
       "                    <p style='text-align:right'>0.259 CE1787[c] + 0.388 ala__L[c] + 0.229 arg__L[c] + 0.259 asn__L[c] + 0.047 cys__L[c] + 0.316 gln__L[c] + 0.316 glu__L[c] + 0.283 gly[c] + 0.148 his__L[c] + 0.21 ile__L[c] + 0.421 leu__L[c] + 0.3...</p>\n",
       "                    <p style='text-align:right'>0.259 L-aspartate [cytoplasm] + 0.388 L-alanine [cytoplasm] + 0.229 L-arginine [cytoplasm] + 0.259 L-asparagine [cytoplasm] + 0.047 L-cysteine [cytoplasm] + 0.316 L-glutamine [cytoplasm] + 0.316 L-...</p>\n",
       "                </td>\n",
       "            </tr><tr>\n",
       "                <td><strong>GPR</strong></td><td></td>\n",
       "            </tr><tr>\n",
       "                <td><strong>Lower bound</strong></td><td>0.0</td>\n",
       "            </tr><tr>\n",
       "                <td><strong>Upper bound</strong></td><td>1000.0</td>\n",
       "            </tr>\n",
       "        </table>\n",
       "        "
      ],
      "text/plain": [
       "<Reaction xAMINOACID at 0x1838617a888>"
      ]
     },
     "execution_count": 4,
     "metadata": {},
     "output_type": "execute_result"
    }
   ],
   "source": [
    "ecModel.reactions[0]"
   ]
  },
  {
   "cell_type": "code",
   "execution_count": 5,
   "metadata": {},
   "outputs": [
    {
     "data": {
      "text/html": [
       "\n",
       "        <table>\n",
       "            <tr>\n",
       "                <td><strong>Gene identifier</strong></td><td>YALI0_A00264g</td>\n",
       "            </tr><tr>\n",
       "                <td><strong>Name</strong></td><td></td>\n",
       "            </tr><tr>\n",
       "                <td><strong>Memory address</strong></td>\n",
       "                <td>0x01838609fa08</td>\n",
       "            </tr><tr>\n",
       "                <td><strong>Functional</strong></td><td>True</td>\n",
       "            </tr><tr>\n",
       "                <td><strong>In 2 reaction(s)</strong></td><td>\n",
       "                    prot_Q6CIA2_exchange, ILETRSNo1</td>\n",
       "            </tr>\n",
       "        </table>"
      ],
      "text/plain": [
       "<Gene YALI0_A00264g at 0x1838609fa08>"
      ]
     },
     "execution_count": 5,
     "metadata": {},
     "output_type": "execute_result"
    }
   ],
   "source": [
    "ecModel.genes[0]"
   ]
  },
  {
   "cell_type": "code",
   "execution_count": 6,
   "metadata": {},
   "outputs": [
    {
     "data": {
      "text/html": [
       "\n",
       "        <table>\n",
       "            <tr>\n",
       "                <td><strong>Metabolite identifier</strong></td><td>13BDglcn[ce]</td>\n",
       "            </tr><tr>\n",
       "                <td><strong>Name</strong></td><td>(1-3)-beta-D-glucan [cell envelope]</td>\n",
       "            </tr><tr>\n",
       "                <td><strong>Memory address</strong></td>\n",
       "                <td>0x0183806248c8</td>\n",
       "            </tr><tr>\n",
       "                <td><strong>Formula</strong></td><td>C6H10O5</td>\n",
       "            </tr><tr>\n",
       "                <td><strong>Compartment</strong></td><td>ce</td>\n",
       "            </tr><tr>\n",
       "                <td><strong>In 4 reaction(s)</strong></td><td>\n",
       "                    y001543_REV, y000005No2, y001543, y000005No1</td>\n",
       "            </tr>\n",
       "        </table>"
      ],
      "text/plain": [
       "<Metabolite 13BDglcn[ce] at 0x183806248c8>"
      ]
     },
     "execution_count": 6,
     "metadata": {},
     "output_type": "execute_result"
    }
   ],
   "source": [
    "ecModel.metabolites[0]"
   ]
  },
  {
   "cell_type": "code",
   "execution_count": 7,
   "metadata": {},
   "outputs": [],
   "source": [
    "# Metabolite ids: make the trailing \"[comp]\" compliant for id/name (if any):\n",
    "for metabolite in ecModel.metabolites:\n",
    "    if \"prot_\" in metabolite.id:\n",
    "        metabolite.id = metabolite.id.replace(f\"[{metabolite.compartment}]\",\"\")\n",
    "    else:\n",
    "        metabolite.id = metabolite.id.replace(f\"[{metabolite.compartment}]\",f\"_{metabolite.compartment}\")\n",
    "    metabolite.name = metabolite.name.replace(f\" [{ecModel.compartments[metabolite.compartment]}]\",\"\")"
   ]
  },
  {
   "cell_type": "code",
   "execution_count": 8,
   "metadata": {},
   "outputs": [
    {
     "data": {
      "text/html": [
       "\n",
       "        <table>\n",
       "            <tr>\n",
       "                <td><strong>Metabolite identifier</strong></td><td>13BDglcn_ce</td>\n",
       "            </tr><tr>\n",
       "                <td><strong>Name</strong></td><td>(1-3)-beta-D-glucan</td>\n",
       "            </tr><tr>\n",
       "                <td><strong>Memory address</strong></td>\n",
       "                <td>0x0183806248c8</td>\n",
       "            </tr><tr>\n",
       "                <td><strong>Formula</strong></td><td>C6H10O5</td>\n",
       "            </tr><tr>\n",
       "                <td><strong>Compartment</strong></td><td>ce</td>\n",
       "            </tr><tr>\n",
       "                <td><strong>In 4 reaction(s)</strong></td><td>\n",
       "                    y001543_REV, y000005No2, y001543, y000005No1</td>\n",
       "            </tr>\n",
       "        </table>"
      ],
      "text/plain": [
       "<Metabolite 13BDglcn_ce at 0x183806248c8>"
      ]
     },
     "execution_count": 8,
     "metadata": {},
     "output_type": "execute_result"
    }
   ],
   "source": [
    "ecModel.metabolites[0]"
   ]
  },
  {
   "cell_type": "code",
   "execution_count": 9,
   "metadata": {},
   "outputs": [
    {
     "data": {
      "text/html": [
       "\n",
       "        <table>\n",
       "            <tr>\n",
       "                <td><strong>Reaction identifier</strong></td><td>xAMINOACID</td>\n",
       "            </tr><tr>\n",
       "                <td><strong>Name</strong></td><td>protein pseudoreaction</td>\n",
       "            </tr><tr>\n",
       "                <td><strong>Memory address</strong></td>\n",
       "                <td>0x01838617a888</td>\n",
       "            </tr><tr>\n",
       "                <td><strong>Stoichiometry</strong></td>\n",
       "                <td>\n",
       "                    <p style='text-align:right'>0.259 CE1787_c + 0.388 ala__L_c + 0.229 arg__L_c + 0.259 asn__L_c + 0.047 cys__L_c + 0.316 gln__L_c + 0.316 glu__L_c + 0.283 gly_c + 0.148 his__L_c + 0.21 ile__L_c + 0.421 leu__L_c + 0.334 lys__L_c...</p>\n",
       "                    <p style='text-align:right'>0.259 L-aspartate + 0.388 L-alanine + 0.229 L-arginine + 0.259 L-asparagine + 0.047 L-cysteine + 0.316 L-glutamine + 0.316 L-glutamate + 0.283 L-glycine + 0.148 L-histidine + 0.21 L-isoleucine + 0....</p>\n",
       "                </td>\n",
       "            </tr><tr>\n",
       "                <td><strong>GPR</strong></td><td></td>\n",
       "            </tr><tr>\n",
       "                <td><strong>Lower bound</strong></td><td>0.0</td>\n",
       "            </tr><tr>\n",
       "                <td><strong>Upper bound</strong></td><td>1000.0</td>\n",
       "            </tr>\n",
       "        </table>\n",
       "        "
      ],
      "text/plain": [
       "<Reaction xAMINOACID at 0x1838617a888>"
      ]
     },
     "execution_count": 9,
     "metadata": {},
     "output_type": "execute_result"
    }
   ],
   "source": [
    "ecModel.reactions[0]"
   ]
  },
  {
   "cell_type": "markdown",
   "metadata": {},
   "source": [
    "## 4. Exporting ecModel"
   ]
  },
  {
   "cell_type": "code",
   "execution_count": 10,
   "metadata": {},
   "outputs": [],
   "source": [
    "cobra.io.save_json_model(ecModel, \"iYali-ecModel.json\")"
   ]
  },
  {
   "cell_type": "code",
   "execution_count": null,
   "metadata": {},
   "outputs": [],
   "source": []
  }
 ],
 "metadata": {
  "kernelspec": {
   "display_name": "Python 3",
   "language": "python",
   "name": "python3"
  },
  "language_info": {
   "codemirror_mode": {
    "name": "ipython",
    "version": 3
   },
   "file_extension": ".py",
   "mimetype": "text/x-python",
   "name": "python",
   "nbconvert_exporter": "python",
   "pygments_lexer": "ipython3",
   "version": "3.7.6"
  }
 },
 "nbformat": 4,
 "nbformat_minor": 4
}
