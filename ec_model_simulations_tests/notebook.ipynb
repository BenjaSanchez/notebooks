{
 "cells": [
  {
   "cell_type": "markdown",
   "metadata": {},
   "source": [
    "# ecModel simulation tests\n",
    "\n",
    "This notebook contains tests to see if simulating the ecModel with proteomics works as intended in the simulations service of DeCaF.\n",
    "\n",
    "Note: using the requirements from [simulations](https://github.com/DD-DeCaF/simulations) (i.e. create a conda env and in it `pip install -r ./requirements/requirements.txt`)\n",
    "\n",
    "Benjamín J. Sánchez, 2019-11-21\n",
    "\n",
    "## 1. Loading Model and Data"
   ]
  },
  {
   "cell_type": "code",
   "execution_count": 1,
   "metadata": {},
   "outputs": [
    {
     "name": "stderr",
     "output_type": "stream",
     "text": [
      "  % Total    % Received % Xferd  Average Speed   Time    Time     Time  Current\n",
      "                                 Dload  Upload   Total   Spent    Left  Speed\n",
      "\n",
      "  0     0    0     0    0     0      0      0 --:--:-- --:--:-- --:--:--     0\n",
      "  0 9434k    0     0    0     0      0      0 --:--:-- --:--:-- --:--:--     0\n",
      " 19 9434k   19 1879k    0     0  1879k      0  0:00:05  0:00:01  0:00:04 1064k\n",
      " 45 9434k   45 4270k    0     0  2135k      0  0:00:04  0:00:02  0:00:02 1543k\n",
      " 68 9434k   68 6442k    0     0  2147k      0  0:00:04  0:00:03  0:00:01 1710k\n",
      " 99 9434k   99 9365k    0     0  2341k      0  0:00:04  0:00:04 --:--:-- 1965k\n",
      "100 9434k  100 9434k    0     0  2358k      0  0:00:04  0:00:04 --:--:-- 2444k\n"
     ]
    }
   ],
   "source": [
    "import cobra\n",
    "import os\n",
    "import pandas as pd\n",
    "\n",
    "#E. coli model:\n",
    "#! [ ! -f \"eciML1515.xml\" ] && curl -O -L \"https://raw.githubusercontent.com/BenjaSanchez/notebooks/master/e_coli_simulations/eciML1515.xml\"\n",
    "#ecModel = cobra.io.read_sbml_model(\"eciML1515.xml\")\n",
    "#os.remove(\"eciML1515.xml\")\n",
    "\n",
    "#Yeast model:\n",
    "! [ ! -f \"ecYeastGEM.xml\" ] && curl -O -L \"https://raw.githubusercontent.com/SysBioChalmers/ecModels/master/ecYeastGEM/model/ecYeastGEM.xml\"\n",
    "ecModel = cobra.io.read_sbml_model(\"ecYeastGEM.xml\")\n",
    "os.remove(\"ecYeastGEM.xml\")"
   ]
  },
  {
   "cell_type": "code",
   "execution_count": 2,
   "metadata": {},
   "outputs": [
    {
     "name": "stdout",
     "output_type": "stream",
     "text": [
      "[{'identifier': 'A5Z2X5', 'measurement': 6.34e-05, 'uncertainty': 0}, {'identifier': 'O13297', 'measurement': 1.91e-07, 'uncertainty': 0}, {'identifier': 'O13516', 'measurement': 5.33e-06, 'uncertainty': 0}, {'identifier': 'O43137', 'measurement': 2.4e-06, 'uncertainty': 0}, {'identifier': 'P00128', 'measurement': 4.07e-05, 'uncertainty': 0}, {'identifier': 'P00358', 'measurement': 6.3e-06, 'uncertainty': 0}, {'identifier': 'P00359', 'measurement': 0.00018932200000000001, 'uncertainty': 0}, {'identifier': 'P00410', 'measurement': 1.22e-05, 'uncertainty': 0}, {'identifier': 'P00546', 'measurement': 4.09e-06, 'uncertainty': 0}, {'identifier': 'P00549', 'measurement': 3.68e-05, 'uncertainty': 0}]\n",
      "1221\n"
     ]
    }
   ],
   "source": [
    "#proteomics data:\n",
    "def reset_proteomics():\n",
    "    #data = pd.read_csv(\"ecoli_data_heinemann2016.csv\")  # E. coli\n",
    "    data = pd.read_csv(\"yeast_ref_data.csv\")  # yeast\n",
    "    proteomics = []\n",
    "    for key, value in data.iterrows():\n",
    "        protein = {\"identifier\":value[0], \"measurement\":value[1], \"uncertainty\":0}\n",
    "        proteomics.append(protein)\n",
    "    return(proteomics)\n",
    "\n",
    "proteomics = reset_proteomics()\n",
    "print(proteomics[:10])\n",
    "print(len(proteomics))"
   ]
  },
  {
   "cell_type": "code",
   "execution_count": 3,
   "metadata": {},
   "outputs": [],
   "source": [
    "#uptake data:\n",
    "uptake = []\n",
    "glucose = {\"identifier\":\"r_1714_REV\", \"measurement\":1, \"uncertainty\":0}\n",
    "uptake.append(glucose)"
   ]
  },
  {
   "cell_type": "markdown",
   "metadata": {},
   "source": [
    "## 2. Functions"
   ]
  },
  {
   "cell_type": "code",
   "execution_count": 4,
   "metadata": {},
   "outputs": [],
   "source": [
    "def flexibilize_proteomics(model, biomass_reaction, growth_rate, uptake_secretion_rates, proteomics):\n",
    "    # set uptake rates in model:\n",
    "    for uptake_rate in uptake_secretion_rates:\n",
    "        try:\n",
    "            metabolite = find_metabolite(\n",
    "                model, uptake_rate[\"identifier\"], uptake_rate[\"namespace\"], \"e\"\n",
    "            )\n",
    "        except MetaboliteNotFound:\n",
    "            continue\n",
    "        else:\n",
    "            exchange_reactions = metabolite.reactions.intersection(model.exchanges)\n",
    "            if len(exchange_reactions) != 1:\n",
    "                continue\n",
    "            exchange_reaction = next(iter(exchange_reactions))\n",
    "            lb, ub = bounds(uptake_rate[\"measurement\"], uptake_rate[\"uncertainty\"])\n",
    "            exchange_reaction.bounds = (lb, ub)\n",
    "\n",
    "    # reset growth rate in model:\n",
    "    model.reactions.get_by_id(biomass_reaction).bounds = (0, 1000)\n",
    "\n",
    "    # build a table with protein ids, met ids in model and values to constrain with:\n",
    "    prot_df = pd.DataFrame()\n",
    "    for protein in proteomics:\n",
    "        protein_id = protein[\"identifier\"]\n",
    "        lb, ub = bounds(protein[\"measurement\"], protein[\"uncertainty\"])\n",
    "        for met in model.metabolites:\n",
    "            if protein_id in met.id:\n",
    "                new_row = pd.DataFrame(data={\"met_id\": met.id, \"value\": ub}, index=[protein_id])\n",
    "                prot_df = prot_df.append(new_row)\n",
    "\n",
    "    # constrain the model with all proteins and optimize:\n",
    "    limit_proteins(model, prot_df[\"value\"])\n",
    "    solution = model.optimize()\n",
    "    new_growth_rate = solution.objective_value\n",
    "\n",
    "    # while the model cannot grow to the desired level, remove the protein with\n",
    "    # the highest shadow price:\n",
    "    minimal_growth, ub = bounds(growth_rate[\"measurement\"], growth_rate[\"uncertainty\"])\n",
    "    prots_to_remove = []\n",
    "    while new_growth_rate < minimal_growth and not prot_df.empty:\n",
    "        # get most influential protein in model:\n",
    "        top_protein = top_shadow_prices(solution, list(prot_df[\"met_id\"]))\n",
    "        value = top_protein[top_protein.index[0]]\n",
    "        top_protein = top_protein.index[0]\n",
    "        top_protein = prot_df.index[prot_df[\"met_id\"] == top_protein][0]\n",
    "        print(\"working: \" + top_protein + \" (sp=\" + str(value) + \") - mu = \" + str(new_growth_rate))  \n",
    "        \n",
    "        # update data: append protein to list, remove from current dataframe and\n",
    "        # increase the corresponding upper bound to +1000:\n",
    "        prots_to_remove.append(top_protein)\n",
    "        prot_df = prot_df.drop(labels=top_protein)\n",
    "        limit_proteins(model, pd.Series(data=[1000], index=[top_protein]))\n",
    "\n",
    "        # re-compute solution:\n",
    "        solution = model.optimize()\n",
    "        if solution.objective_value == new_growth_rate:     # the algorithm is stuck\n",
    "            break\n",
    "        new_growth_rate = solution.objective_value\n",
    "\n",
    "    # update growth rate if optimization was not successful:\n",
    "    if new_growth_rate < minimal_growth:\n",
    "        if growth_rate[\"uncertainty\"]:\n",
    "            growth_rate[\"measurement\"] = new_growth_rate + growth_rate[\"uncertainty\"]\n",
    "        else:\n",
    "            growth_rate[\"measurement\"] = new_growth_rate\n",
    "\n",
    "    # update proteomics by removing flexibilized proteins:\n",
    "    for protein in prots_to_remove:\n",
    "        index = next((index for (index, d) in enumerate(proteomics) if d[\"identifier\"] == protein), None)\n",
    "        proteomics.pop(index)\n",
    "\n",
    "    return growth_rate, proteomics\n",
    "\n",
    "\n",
    "def limit_proteins(model, measurements):\n",
    "    for protein_id, measure in measurements.items():\n",
    "        try:\n",
    "            rxn = model.reactions.get_by_id(\"prot_{}_exchange\".format(protein_id))\n",
    "        except KeyError:\n",
    "            pass\n",
    "        else:\n",
    "            # update only upper_bound (as enzymes can be unsaturated):\n",
    "            rxn.bounds = (0, measure)\n",
    "    return\n",
    "\n",
    "\n",
    "def top_shadow_prices(solution, met_ids, top=1):\n",
    "    shadow_pr = solution.shadow_prices\n",
    "    shadow_pr = shadow_pr.loc[shadow_pr.index.isin(met_ids)]\n",
    "    return shadow_pr.sort_values()[:top]\n",
    "\n",
    "def bounds(measurement, uncertainty):\n",
    "    if uncertainty:\n",
    "        return measurement - uncertainty, measurement + uncertainty\n",
    "    else:\n",
    "        return measurement, measurement\n",
    "\n",
    "def find_metabolite(model, id, namespace, compartment):\n",
    "    def query_fun(metabolite):\n",
    "        if metabolite.compartment != compartment:\n",
    "            return False\n",
    "\n",
    "        result = _query_item(metabolite, id, namespace)\n",
    "        if result:\n",
    "            return result\n",
    "\n",
    "        # If the original query fails, retry with the compartment id appended\n",
    "        # to the identifier (a regular convenation with BiGG metabolites, but\n",
    "        # may also be the case in other namespaces).\n",
    "        return _query_item(metabolite, f\"{id}_{compartment}\", namespace)\n",
    "\n",
    "    metabolites = model.metabolites.query(query_fun)\n",
    "    if len(metabolites) == 0:\n",
    "        raise MetaboliteNotFound(\n",
    "            f\"Could not find metabolite {id} or {id}_{compartment} in \"\n",
    "            f\"namespace {namespace} and compartment {compartment} for model \"\n",
    "            f\"{model.id}\"\n",
    "        )\n",
    "    elif len(metabolites) > 1:\n",
    "        raise IndexError(f\"Expected single metabolite, found {metabolites}\")\n",
    "    else:\n",
    "        return metabolites[0]"
   ]
  },
  {
   "cell_type": "markdown",
   "metadata": {},
   "source": [
    "## 3. Testing"
   ]
  },
  {
   "cell_type": "code",
   "execution_count": 5,
   "metadata": {},
   "outputs": [
    {
     "name": "stdout",
     "output_type": "stream",
     "text": [
      "<Solution 0.088 at 0x1b076321fc8>\n"
     ]
    }
   ],
   "source": [
    "solution = ecModel.optimize()\n",
    "print(solution)"
   ]
  },
  {
   "cell_type": "code",
   "execution_count": 6,
   "metadata": {},
   "outputs": [
    {
     "name": "stdout",
     "output_type": "stream",
     "text": [
      "                          met_id     value\n",
      "P00128  prot_P00128__91__c__93__  0.000041\n",
      "P00358  prot_P00358__91__c__93__  0.000006\n",
      "P00359  prot_P00359__91__c__93__  0.000189\n",
      "P00410  prot_P00410__91__c__93__  0.000012\n",
      "P00549  prot_P00549__91__c__93__  0.000037\n"
     ]
    }
   ],
   "source": [
    "measurements = pd.DataFrame()\n",
    "for protein in proteomics:\n",
    "    protein_id = protein[\"identifier\"]\n",
    "    lb, ub = bounds(protein[\"measurement\"], protein[\"uncertainty\"])\n",
    "    for met in ecModel.metabolites:\n",
    "        if protein_id in met.id:\n",
    "            new_row = pd.DataFrame(data={\"met_id\": met.id, \"value\": ub}, index=[protein_id])\n",
    "            measurements = measurements.append(new_row)\n",
    "print(measurements.head())"
   ]
  },
  {
   "cell_type": "code",
   "execution_count": 7,
   "metadata": {},
   "outputs": [
    {
     "name": "stdout",
     "output_type": "stream",
     "text": [
      "5.199145593769825e-05\n"
     ]
    }
   ],
   "source": [
    "limit_proteins(ecModel, measurements[\"value\"])\n",
    "solution = ecModel.optimize()\n",
    "print(solution.objective_value)"
   ]
  },
  {
   "cell_type": "code",
   "execution_count": 8,
   "metadata": {},
   "outputs": [
    {
     "name": "stdout",
     "output_type": "stream",
     "text": [
      "prot_P38604__91__c__93__   -189.05984\n",
      "Name: shadow_prices, dtype: float64\n"
     ]
    }
   ],
   "source": [
    "top_protein = top_shadow_prices(solution, list(measurements[\"met_id\"]))\n",
    "print(top_protein)"
   ]
  },
  {
   "cell_type": "code",
   "execution_count": 9,
   "metadata": {},
   "outputs": [
    {
     "name": "stdout",
     "output_type": "stream",
     "text": [
      "working: P38604 (sp=-189.0598397734483) - mu = 5.199145593769825e-05\n",
      "working: P38972 (sp=-1761.0143524943996) - mu = 0.018666752136436607\n",
      "working: P00931 (sp=-2074.8931245794574) - mu = 0.022201356433002306\n",
      "working: Q12233 (sp=-4642.300091434081) - mu = 0.023065544305181932\n",
      "working: P24521 (sp=-55317.86427789225) - mu = 0.01864212026164969\n",
      "working: P07283 (sp=-4177.57190480627) - mu = 0.034757398247988174\n",
      "working: Q06405 (sp=-4642.298754485921) - mu = 0.03710384909604921\n",
      "working: Q12349 (sp=-4642.298694622616) - mu = 0.03854296121291276\n",
      "working: P21306 (sp=-4642.298694622572) - mu = 0.043603066790051444\n",
      "working: P25340 (sp=-67422.99117010784) - mu = 0.04146513956961635\n",
      "working: P28777 (sp=-10112.224326534935) - mu = 0.05015663265961329\n",
      "working: P10659 (sp=-15090.604451151283) - mu = 0.05839281321776375\n",
      "working: P54839 (sp=-6752.045587652795) - mu = 0.0695460695528238\n"
     ]
    }
   ],
   "source": [
    "#new_growth_rate, new_proteomics = flexibilize_proteomics(ecModel, \"BIOMASS_Ec_iML1515_core_75p37M\", {\"measurement\":0.8, \"uncertainty\":0.1}, [], proteomics)\n",
    "growth_rate, proteomics = flexibilize_proteomics(ecModel, \"r_2111\", {\"measurement\":0.08, \"uncertainty\":0.01}, [], proteomics)"
   ]
  },
  {
   "cell_type": "code",
   "execution_count": 10,
   "metadata": {},
   "outputs": [
    {
     "name": "stdout",
     "output_type": "stream",
     "text": [
      "{'measurement': 0.08, 'uncertainty': 0.01}\n",
      "1208\n"
     ]
    }
   ],
   "source": [
    "print(growth_rate)\n",
    "print(len(proteomics))"
   ]
  },
  {
   "cell_type": "markdown",
   "metadata": {},
   "source": [
    "## 4. Signs of Shadow Prices\n",
    "\n",
    "Let's evaluate what happens if we take the positive shadow prices (if any) instead of the negative ones, by sorting in a decreasing order instead of an increasing order:"
   ]
  },
  {
   "cell_type": "code",
   "execution_count": 11,
   "metadata": {},
   "outputs": [
    {
     "name": "stdout",
     "output_type": "stream",
     "text": [
      "prot_P39979__91__c__93__    0.0\n",
      "Name: shadow_prices, dtype: float64\n",
      "working: P39979 (sp=0.0) - mu = 5.199145593769825e-05\n",
      "{'measurement': 0.010051991455937699, 'uncertainty': 0.01}\n",
      "1220\n"
     ]
    }
   ],
   "source": [
    "def top_shadow_prices(solution, met_ids, top=1):\n",
    "    shadow_pr = solution.shadow_prices\n",
    "    shadow_pr = shadow_pr.loc[shadow_pr.index.isin(met_ids)]\n",
    "    return shadow_pr.sort_values(ascending=False)[:top]\n",
    "\n",
    "proteomics = reset_proteomics()\n",
    "top_protein = top_shadow_prices(solution, list(measurements[\"met_id\"]))\n",
    "print(top_protein)\n",
    "growth_rate, proteomics = flexibilize_proteomics(ecModel, \"r_2111\", {\"measurement\":0.08, \"uncertainty\":0.01}, [], proteomics)\n",
    "print(growth_rate)\n",
    "print(len(proteomics))"
   ]
  },
  {
   "cell_type": "markdown",
   "metadata": {},
   "source": [
    "No positive shadow prices are detected, and hence the algorithm gets stuck. Finally, let's take the absolute value of all shadow prices and then rank in decreasing order, so that the sign doesn't matter:"
   ]
  },
  {
   "cell_type": "code",
   "execution_count": 12,
   "metadata": {},
   "outputs": [
    {
     "name": "stdout",
     "output_type": "stream",
     "text": [
      "prot_P38604__91__c__93__    189.05984\n",
      "Name: shadow_prices, dtype: float64\n",
      "working: P38604 (sp=189.05983977344818) - mu = 5.199145593769825e-05\n",
      "working: P38972 (sp=1760.993678094865) - mu = 0.01866653298779876\n",
      "working: P24521 (sp=55317.864277892244) - mu = 0.01864212026164968\n",
      "working: P00931 (sp=2074.8931245790336) - mu = 0.02220135643299561\n",
      "working: Q12233 (sp=4642.298694622596) - mu = 0.02306553736504101\n",
      "working: P07283 (sp=4177.57190480627) - mu = 0.03475739824798817\n",
      "working: Q06405 (sp=4642.298814349269) - mu = 0.03710384957450237\n",
      "working: Q12349 (sp=4642.298814349255) - mu = 0.03854296220695032\n",
      "working: P21306 (sp=4642.298814349284) - mu = 0.04360306791459133\n",
      "working: P25340 (sp=67422.99117010784) - mu = 0.04146513956961631\n",
      "working: P28777 (sp=10112.22432653517) - mu = 0.05015663265961439\n",
      "working: P10659 (sp=15090.604451151285) - mu = 0.0583928132177621\n",
      "working: P54839 (sp=6752.045587652798) - mu = 0.06954606955282379\n",
      "{'measurement': 0.08, 'uncertainty': 0.01}\n",
      "1208\n"
     ]
    }
   ],
   "source": [
    "def top_shadow_prices(solution, met_ids, top=1):\n",
    "    shadow_pr = solution.shadow_prices\n",
    "    shadow_pr = shadow_pr.loc[shadow_pr.index.isin(met_ids)]\n",
    "    for met_id, sp in shadow_pr.items():\n",
    "        shadow_pr[met_id] = abs(sp)\n",
    "    return shadow_pr.sort_values(ascending=False)[:top]\n",
    "\n",
    "proteomics = reset_proteomics()\n",
    "top_protein = top_shadow_prices(solution, list(measurements[\"met_id\"]))\n",
    "print(top_protein)\n",
    "growth_rate, proteomics = flexibilize_proteomics(ecModel, \"r_2111\", {\"measurement\":0.08, \"uncertainty\":0.01}, [], proteomics)\n",
    "print(growth_rate)\n",
    "print(len(proteomics))"
   ]
  },
  {
   "cell_type": "markdown",
   "metadata": {},
   "source": [
    "We see that we get the same results as with negative shadow prices, so no positive shadow prices are popping up in any of the flexibilization iterations."
   ]
  },
  {
   "cell_type": "code",
   "execution_count": null,
   "metadata": {},
   "outputs": [],
   "source": []
  }
 ],
 "metadata": {
  "kernelspec": {
   "display_name": "Python 3",
   "language": "python",
   "name": "python3"
  },
  "language_info": {
   "codemirror_mode": {
    "name": "ipython",
    "version": 3
   },
   "file_extension": ".py",
   "mimetype": "text/x-python",
   "name": "python",
   "nbconvert_exporter": "python",
   "pygments_lexer": "ipython3",
   "version": "3.7.5"
  }
 },
 "nbformat": 4,
 "nbformat_minor": 2
}
