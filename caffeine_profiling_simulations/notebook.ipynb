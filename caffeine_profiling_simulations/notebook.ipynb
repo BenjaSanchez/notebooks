{
 "cells": [
  {
   "cell_type": "markdown",
   "metadata": {},
   "source": [
    "# Profiling ecModel simulations in Caffeine\n",
    "\n",
    "This notebook contains tests on the stability of ecModels in the simulations service.\n",
    "\n",
    "Note: using the requirements from [simulations](https://github.com/DD-DeCaF/simulations), i.e. create a conda env and in it `pip install -r ./requirements/requirements.txt`\n",
    "\n",
    "Note2: For profiling, warnings from the simulations service were adapted:\n",
    "\n",
    "* After L243 add `sp = top_protein.iloc[0]`\n",
    "* Replace L252-255 with `warning = [top_protein, sp]`\n",
    "\n",
    "Benjamín J. Sánchez, 2020-24-01\n",
    "\n",
    "## 1. Loading Model and Data"
   ]
  },
  {
   "cell_type": "code",
   "execution_count": 1,
   "metadata": {},
   "outputs": [
    {
     "name": "stdout",
     "output_type": "stream",
     "text": [
      "{'GUROBI': True, 'GLPK': True, 'MOSEK': False, 'CPLEX': False, 'SCIPY': True}\n",
      "Using license file C:\\Users\\bejsab\\gurobi.lic\n",
      "Academic license - for non-commercial use only\n"
     ]
    }
   ],
   "source": [
    "# Add simulations to python's search path:\n",
    "import sys\n",
    "sys.path.append('../../simulations/src')\n",
    "\n",
    "# Import simulation functions:\n",
    "from simulations.modeling.driven import limit_proteins, bounds, flexibilize_proteomics\n",
    "from simulations.modeling.simulations import simulate\n",
    "\n",
    "# Check optlang solvers (GLPK does not work with ecModels):\n",
    "import optlang\n",
    "print(optlang.available_solvers)\n",
    "\n",
    "# Other stuff:\n",
    "import cobra\n",
    "import copy\n",
    "import os\n",
    "import pandas as pd\n",
    "import wget\n",
    "\n",
    "#E. coli model:\n",
    "wget.download(\"https://raw.githubusercontent.com/BenjaSanchez/notebooks/master/e_coli_simulations/eciML1515.xml\", \"eciML1515.xml\", bar = False)\n",
    "ecModel = cobra.io.read_sbml_model(\"eciML1515.xml\")\n",
    "os.remove(\"eciML1515.xml\")"
   ]
  },
  {
   "cell_type": "code",
   "execution_count": 2,
   "metadata": {},
   "outputs": [
    {
     "name": "stdout",
     "output_type": "stream",
     "text": [
      "[{'identifier': 'P0A8V2', 'measurement': 5.03e-06, 'uncertainty': 0}, {'identifier': 'P0AFG8', 'measurement': 8.2e-06, 'uncertainty': 0}, {'identifier': 'P36683', 'measurement': 7.7e-06, 'uncertainty': 0}, {'identifier': 'P0A6F5', 'measurement': 2.47e-05, 'uncertainty': 0}, {'identifier': 'P0A6Y8', 'measurement': 1.74e-05, 'uncertainty': 0}, {'identifier': 'P05793', 'measurement': 2.64e-05, 'uncertainty': 0}, {'identifier': 'P23847', 'measurement': 1.07e-05, 'uncertainty': 0}, {'identifier': 'P25665', 'measurement': 2.49e-05, 'uncertainty': 0}, {'identifier': 'P0A8T7', 'measurement': 1.18e-06, 'uncertainty': 0}, {'identifier': 'P00968', 'measurement': 3.69e-06, 'uncertainty': 0}]\n",
      "2015\n"
     ]
    }
   ],
   "source": [
    "#proteomics data:\n",
    "data = pd.read_csv(\"ecoli_data_heinemann2016.csv\")  # E. coli\n",
    "original_proteomics = []\n",
    "for key, value in data.iterrows():\n",
    "    protein = {\"identifier\":value[0], \"measurement\":value[1], \"uncertainty\":0}\n",
    "    original_proteomics.append(protein)\n",
    "\n",
    "print(original_proteomics[:10])\n",
    "print(len(original_proteomics))"
   ]
  },
  {
   "cell_type": "markdown",
   "metadata": {},
   "source": [
    "## 2. Preliminar Testing"
   ]
  },
  {
   "cell_type": "code",
   "execution_count": 3,
   "metadata": {},
   "outputs": [
    {
     "name": "stdout",
     "output_type": "stream",
     "text": [
      "<Solution 0.877 at 0x2973d38bc48>\n"
     ]
    }
   ],
   "source": [
    "solution = ecModel.optimize()\n",
    "print(solution)"
   ]
  },
  {
   "cell_type": "code",
   "execution_count": 4,
   "metadata": {},
   "outputs": [
    {
     "name": "stdout",
     "output_type": "stream",
     "text": [
      "0.0002632811513809728\n"
     ]
    }
   ],
   "source": [
    "def compute_measurements(proteomics, ecModel):\n",
    "    measurements = pd.DataFrame()\n",
    "    for protein in proteomics:\n",
    "        protein_id = protein[\"identifier\"]\n",
    "        lb, ub = bounds(protein[\"measurement\"], protein[\"uncertainty\"])\n",
    "        for met in ecModel.metabolites:\n",
    "            if protein_id in met.id:\n",
    "                new_row = pd.DataFrame(data={\"met_id\": met.id, \"value\": ub}, index=[protein_id])\n",
    "                measurements = measurements.append(new_row)\n",
    "    return measurements\n",
    "\n",
    "proteomics = copy.deepcopy(original_proteomics)\n",
    "measurements = compute_measurements(proteomics, ecModel)\n",
    "\n",
    "limit_proteins(ecModel, measurements[\"value\"])\n",
    "solution = ecModel.optimize()\n",
    "print(solution.objective_value)"
   ]
  },
  {
   "cell_type": "code",
   "execution_count": 5,
   "metadata": {},
   "outputs": [
    {
     "name": "stdout",
     "output_type": "stream",
     "text": [
      "{'measurement': 0.1, 'uncertainty': 0}\n",
      "1993\n",
      "22\n",
      "<Solution 0.100 at 0x2973cf36788>\n"
     ]
    }
   ],
   "source": [
    "biomass_reaction = \"BIOMASS_Ec_iML1515_core_75p37M\"\n",
    "growth_rate = {\"measurement\":0.1, \"uncertainty\":0}\n",
    "new_growth_rate, new_proteomics, warnings = flexibilize_proteomics(ecModel, biomass_reaction, growth_rate, proteomics, [])\n",
    "print(new_growth_rate)\n",
    "print(len(new_proteomics))\n",
    "print(len(warnings))\n",
    "solution = ecModel.optimize()\n",
    "print(solution)"
   ]
  },
  {
   "cell_type": "markdown",
   "metadata": {},
   "source": [
    "## 3. Consistency Testing"
   ]
  },
  {
   "cell_type": "code",
   "execution_count": 6,
   "metadata": {},
   "outputs": [
    {
     "name": "stdout",
     "output_type": "stream",
     "text": [
      "20\n",
      "0.1\n",
      "22\n",
      "0.1\n",
      "22\n",
      "0.1\n",
      "23\n",
      "0.1\n",
      "21\n",
      "0.1\n",
      "22\n",
      "0.1\n",
      "21\n",
      "0.1\n",
      "21\n",
      "0.1\n",
      "21\n",
      "0.1\n",
      "21\n",
      "0.1\n"
     ]
    }
   ],
   "source": [
    "warnings_df = pd.DataFrame()\n",
    "for i in range(10):\n",
    "    # flexibilize proteins:\n",
    "    proteomics = copy.deepcopy(original_proteomics)\n",
    "    new_growth_rate, new_proteomics, warnings = flexibilize_proteomics(ecModel, biomass_reaction, growth_rate, proteomics, [])\n",
    "    print(len(warnings))\n",
    "    \n",
    "    #create datframe of warnings with shadow prices and add them to a cumulative one:\n",
    "    warning_df = pd.DataFrame()\n",
    "    for warning in warnings:\n",
    "        pos = warnings.index(warning)\n",
    "        new_row = pd.DataFrame({f\"simulation_{str(i)}\": f\"{str(pos)} -> {'{0:.2f}'.format(warning[1])}\"}, index=[warning[0]])\n",
    "        warning_df = warning_df.append(new_row)\n",
    "    warnings_df = pd.concat([warnings_df, warning_df], axis=1, sort=False)\n",
    "    \n",
    "    # compute growth:\n",
    "    ecModel.reactions.get_by_id(biomass_reaction).bounds = (0.1, 0.1)\n",
    "    flux_distribution, new_growth_rate = simulate(ecModel, biomass_reaction, \"pfba\", [], [])\n",
    "    print(new_growth_rate)\n",
    "    \n",
    "warnings_df.to_csv(\"shadow_prices.csv\")"
   ]
  },
  {
   "cell_type": "markdown",
   "metadata": {},
   "source": [
    "We see that different iterations have from 20 to 23 proteins flexibilized. This could then lead to some simulations in which it only flexibilized 20 that later when simulated does not achieve growth (although the later was not seen in this notebook). A reason that could explain this is the variability of the shadow prices:"
   ]
  },
  {
   "cell_type": "code",
   "execution_count": 7,
   "metadata": {},
   "outputs": [
    {
     "name": "stdout",
     "output_type": "stream",
     "text": [
      "            simulation_0       simulation_1       simulation_2  \\\n",
      "P15254      0 -> -401.77       0 -> -401.77       0 -> -401.77   \n",
      "P76503     1 -> -2449.66                NaN                NaN   \n",
      "P0A6C5     2 -> -9493.17      2 -> -9493.17      2 -> -9493.17   \n",
      "P17854     3 -> -4873.07      3 -> -4873.15      3 -> -4873.15   \n",
      "P0A7E3    4 -> -34825.02     5 -> -34825.02     5 -> -34825.02   \n",
      "P00561    5 -> -34428.08     4 -> -34428.20     4 -> -34428.20   \n",
      "P0A6X1   6 -> -151341.36    7 -> -151341.36    6 -> -151341.36   \n",
      "P09053   7 -> -117556.34    6 -> -117556.34    7 -> -117556.34   \n",
      "P77718   8 -> -193723.21    8 -> -193723.21    8 -> -193723.21   \n",
      "P23845   9 -> -337484.17   11 -> -337489.62   10 -> -337489.62   \n",
      "P09029   10 -> -47432.50     9 -> -47432.72    11 -> -47432.72   \n",
      "P0A6I9  11 -> -256914.20   10 -> -256914.20   12 -> -256914.20   \n",
      "P00934    12 -> -6524.22     14 -> -6524.22     13 -> -6524.22   \n",
      "P36683    13 -> -8788.31                NaN                NaN   \n",
      "P0A725  14 -> -305304.58   13 -> -305304.58   15 -> -305304.58   \n",
      "P0AD68  15 -> -699587.03   19 -> -699587.03   19 -> -699587.03   \n",
      "P0AD65  16 -> -699587.03   16 -> -699587.03   16 -> -699587.03   \n",
      "P00547   17 -> -29848.36    17 -> -29848.36    17 -> -29848.36   \n",
      "P0A953    18 -> -3700.59     18 -> -3700.59     18 -> -3700.59   \n",
      "P0A6E4    19 -> -8363.23     21 -> -8363.23     21 -> -8363.23   \n",
      "P21151               NaN      1 -> -2449.66      1 -> -2449.66   \n",
      "P21177               NaN  12 -> -1335015.92  20 -> -1335011.99   \n",
      "P25516               NaN     15 -> -8788.31     14 -> -8788.31   \n",
      "P0AC75               NaN  20 -> -1351939.25   9 -> -1351939.25   \n",
      "P0AGG0               NaN                NaN                NaN   \n",
      "P22188               NaN                NaN                NaN   \n",
      "\n",
      "             simulation_3       simulation_4       simulation_5  \\\n",
      "P15254       0 -> -401.77       0 -> -401.77       0 -> -401.97   \n",
      "P76503                NaN                NaN                NaN   \n",
      "P0A6C5      2 -> -9493.17      2 -> -9493.17      2 -> -9493.17   \n",
      "P17854      3 -> -4873.15      3 -> -4873.07      3 -> -4873.15   \n",
      "P0A7E3     5 -> -34825.02     5 -> -34825.02     5 -> -34825.02   \n",
      "P00561     4 -> -34428.20     4 -> -34428.08     4 -> -34428.20   \n",
      "P0A6X1    7 -> -151341.36    7 -> -151341.36    7 -> -151341.36   \n",
      "P09053    6 -> -117556.34    6 -> -117556.34    6 -> -117556.34   \n",
      "P77718    8 -> -193723.21    8 -> -193723.21    8 -> -193723.21   \n",
      "P23845    9 -> -337489.62   11 -> -337484.17   11 -> -337489.62   \n",
      "P09029    11 -> -47432.72     9 -> -47432.50     9 -> -47432.72   \n",
      "P0A6I9   12 -> -256914.20   10 -> -256914.20   10 -> -256914.20   \n",
      "P00934     14 -> -6524.22     13 -> -6524.22     12 -> -6524.22   \n",
      "P36683                NaN                NaN                NaN   \n",
      "P0A725   13 -> -305304.58   15 -> -305304.58   14 -> -305304.58   \n",
      "P0AD68   20 -> -699587.03   19 -> -699587.03   18 -> -699587.03   \n",
      "P0AD65   17 -> -699587.03   16 -> -699587.03   15 -> -699587.03   \n",
      "P00547    18 -> -29848.36    17 -> -29848.36    16 -> -29848.36   \n",
      "P0A953     21 -> -3700.59     18 -> -3700.59     17 -> -3700.59   \n",
      "P0A6E4     22 -> -8363.23     20 -> -8363.23     19 -> -8363.23   \n",
      "P21151      1 -> -2449.66      1 -> -2449.66      1 -> -2449.66   \n",
      "P21177  10 -> -1335019.85  12 -> -1335015.92  21 -> -1335011.99   \n",
      "P25516     16 -> -8788.31     14 -> -8788.31     13 -> -8788.31   \n",
      "P0AC75  15 -> -1351939.25                NaN                NaN   \n",
      "P0AGG0  19 -> -1017033.69                NaN                NaN   \n",
      "P22188                NaN                NaN   20 -> -168414.25   \n",
      "\n",
      "             simulation_6      simulation_7      simulation_8  \\\n",
      "P15254       0 -> -401.77      0 -> -401.77      0 -> -401.77   \n",
      "P76503                NaN               NaN               NaN   \n",
      "P0A6C5      2 -> -9493.17     2 -> -9493.17     2 -> -9493.17   \n",
      "P17854      3 -> -4873.07     3 -> -4873.07     4 -> -4873.15   \n",
      "P0A7E3     4 -> -34825.02    5 -> -34825.02    7 -> -34825.02   \n",
      "P00561     5 -> -34428.08    4 -> -34428.08    8 -> -34428.20   \n",
      "P0A6X1    6 -> -151341.36   7 -> -151341.36   3 -> -151341.36   \n",
      "P09053    7 -> -117556.34   6 -> -117556.34   6 -> -117556.34   \n",
      "P77718    8 -> -193723.21   8 -> -193723.21   5 -> -193723.21   \n",
      "P23845   10 -> -337489.62  12 -> -337484.17  12 -> -337489.62   \n",
      "P09029     9 -> -47432.72   10 -> -47432.50   10 -> -47432.72   \n",
      "P0A6I9   13 -> -256914.20  11 -> -256914.20  11 -> -256914.20   \n",
      "P00934     14 -> -6524.22    13 -> -6524.22    13 -> -6524.22   \n",
      "P36683                NaN               NaN               NaN   \n",
      "P0A725   18 -> -305304.58  15 -> -305304.58  15 -> -305304.58   \n",
      "P0AD68   19 -> -699587.03  19 -> -699587.03  19 -> -699587.03   \n",
      "P0AD65   11 -> -699587.03  16 -> -699587.03  16 -> -699587.03   \n",
      "P00547    16 -> -29848.36   17 -> -29848.36   17 -> -29848.36   \n",
      "P0A953     17 -> -3700.59    18 -> -3700.59    18 -> -3700.59   \n",
      "P0A6E4     20 -> -8363.23    20 -> -8363.23    20 -> -8363.23   \n",
      "P21151      1 -> -2449.66     1 -> -2449.66     1 -> -2449.66   \n",
      "P21177  12 -> -1335019.85  9 -> -1335015.92  9 -> -1335019.85   \n",
      "P25516     15 -> -8788.31    14 -> -8788.31    14 -> -8788.31   \n",
      "P0AC75                NaN               NaN               NaN   \n",
      "P0AGG0                NaN               NaN               NaN   \n",
      "P22188                NaN               NaN               NaN   \n",
      "\n",
      "             simulation_9  \n",
      "P15254       0 -> -401.97  \n",
      "P76503                NaN  \n",
      "P0A6C5      2 -> -9493.17  \n",
      "P17854      3 -> -4873.15  \n",
      "P0A7E3     5 -> -34825.02  \n",
      "P00561     4 -> -34428.20  \n",
      "P0A6X1    7 -> -151341.36  \n",
      "P09053    6 -> -117556.34  \n",
      "P77718    9 -> -193723.21  \n",
      "P23845    8 -> -337489.62  \n",
      "P09029    10 -> -47432.72  \n",
      "P0A6I9   11 -> -256914.20  \n",
      "P00934     12 -> -6524.22  \n",
      "P36683                NaN  \n",
      "P0A725   14 -> -305304.58  \n",
      "P0AD68   18 -> -699587.03  \n",
      "P0AD65   15 -> -699587.03  \n",
      "P00547    16 -> -29848.36  \n",
      "P0A953     17 -> -3700.59  \n",
      "P0A6E4     20 -> -8363.23  \n",
      "P21151      1 -> -2449.66  \n",
      "P21177  19 -> -1335019.85  \n",
      "P25516     13 -> -8788.31  \n",
      "P0AC75                NaN  \n",
      "P0AGG0                NaN  \n",
      "P22188                NaN  \n"
     ]
    }
   ],
   "source": [
    "print(warnings_df)"
   ]
  },
  {
   "cell_type": "markdown",
   "metadata": {},
   "source": [
    "We distinguish 3 cases:\n",
    "\n",
    "1. **Ties:** Some proteins tie in shadow price because they are isozymes (e.g., `P76503` and `P21151`) or form complexes (e.g. `P0AD65` and `P0AD68`), so the flexibilization order will choose only one (in isozyme cases) or switch the order (in complex cases). This is unavoidable and should not pose any risk.\n",
    "2. **Additional proteins:** Some proteins appear at the end of the flexibilization in a few conditions, namely `P0AC75`, `P0AGG0` and `P22188`. They are most likely due to aproximation errors by the solver in cases the desired growth rate is close to the threshold. These cases should also not really be a problem, as if a given flexibilization kicks out MORE proteins than average, the simulations later should still work.\n",
    "3. **Missing proteins:** Some proteins are not flexibilized in a few conditions, e.g. `P21177`. This could pose a problem, as if the flexibilization decides to keep it, but later the simulation cannot handle it, it could generate an unfeasible problem. The solution for this case should be to add wiggle to the flexibilization (PR [#156](https://github.com/DD-DeCaF/simulations/pull/156))."
   ]
  },
  {
   "cell_type": "code",
   "execution_count": null,
   "metadata": {},
   "outputs": [],
   "source": []
  }
 ],
 "metadata": {
  "kernelspec": {
   "display_name": "Python 3",
   "language": "python",
   "name": "python3"
  },
  "language_info": {
   "codemirror_mode": {
    "name": "ipython",
    "version": 3
   },
   "file_extension": ".py",
   "mimetype": "text/x-python",
   "name": "python",
   "nbconvert_exporter": "python",
   "pygments_lexer": "ipython3",
   "version": "3.7.6"
  }
 },
 "nbformat": 4,
 "nbformat_minor": 2
}
